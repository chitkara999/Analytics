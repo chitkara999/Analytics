{
 "cells": [
  {
   "cell_type": "code",
   "execution_count": null,
   "metadata": {},
   "outputs": [],
   "source": [
    "#Q.6 Write a program that calculates and prints the value according to the given formula:\n",
    "#Q = Square root of [(2 * C * D)/H]\n",
    "#Following are the fixed values of C and H: C is 50. H is 30.\n",
    "#D is the variable whose values should be input to your program in a comma-separated sequence.\n",
    "#Let us assume the following comma separated input sequence is given to the program: 100,150,180\n",
    "#The output of the program should be: 18, 22, 24\n",
    "#Hints: If the output received is in decimal form, it should be rounded off to its nearest value (for example, if the output received is 26.0, it should be printed as 26)\n",
    "#In case of input data being supplied to the question, it should be assumed to be a console input."
   ]
  },
  {
   "cell_type": "code",
   "execution_count": 1,
   "metadata": {},
   "outputs": [
    {
     "name": "stdout",
     "output_type": "stream",
     "text": [
      "[18, 22, 24]\n"
     ]
    }
   ],
   "source": [
    "\n",
    "import math \n",
    "C=50\n",
    "H=30\n",
    "D=[100,150,180]\n",
    "Q=[]\n",
    "i=0\n",
    "\n",
    "for i in D:\n",
    "    #print(i)\n",
    "    v=int(math.sqrt((2 * C * i)/H))\n",
    "    Q.append(v)\n",
    "    i+=1\n",
    "print(Q)"
   ]
  },
  {
   "cell_type": "code",
   "execution_count": null,
   "metadata": {},
   "outputs": [],
   "source": [
    "# Q.7\n",
    "#Write a program which takes 2 digits, X,Y as input and generates a 2-dimensional array. The element value in the i-th row and j-th column of the array should be i*j.\n",
    "#Note: i=0,1.., X-1; j=0,1,¡Y-1.\n",
    "#Suppose the following inputs are given to the program: 3, 5\n",
    "#Then, the output of the program should be: [[0, 0, 0, 0, 0], [0, 1, 2, 3, 4], [0, 2, 4, 6, 8]]\n",
    "#Hints: In case of input data being supplied to the question, it should be assumed to be a console input in a comma-separated form."
   ]
  },
  {
   "cell_type": "code",
   "execution_count": 2,
   "metadata": {},
   "outputs": [
    {
     "name": "stdout",
     "output_type": "stream",
     "text": [
      "[0, 0, 0, 0, 0, 0, 1, 2, 3, 4, 0, 2, 4, 6, 8]\n"
     ]
    }
   ],
   "source": [
    "m=3\n",
    "n=5\n",
    "i=0\n",
    "j=0\n",
    "l=[]\n",
    "\n",
    "for i in range(0,3):\n",
    "    #print i \n",
    "    for j in range(0,5):\n",
    "        #print j\n",
    "        z=0\n",
    "        z=i*j\n",
    "        l.append(z)\n",
    "        j+=1\n",
    "        \n",
    "    i+=1\n",
    "print(l)"
   ]
  },
  {
   "cell_type": "code",
   "execution_count": null,
   "metadata": {},
   "outputs": [],
   "source": [
    "# Q. 9\n",
    "#Write a program that accepts sequence of lines as input and prints the lines after making all characters in the\n",
    "#sentence capitalized.\n",
    "#Suppose the input is supplied to the program: Hello world\n",
    "#Practice makes perfect\n",
    "#Then, the output should be: HELLO WORLD\n",
    "#PRACTICE MAKES PERFECT\n",
    "#Hints: In case of input data being supplied to the question, it should be assumed to be a console input."
   ]
  },
  {
   "cell_type": "code",
   "execution_count": 3,
   "metadata": {},
   "outputs": [
    {
     "name": "stdout",
     "output_type": "stream",
     "text": [
      "hello\n",
      "['HELLO']\n"
     ]
    }
   ],
   "source": [
    "rs=[]\n",
    "\n",
    "str = input()\n",
    "rs.append(str)\n",
    "\n",
    "x=[x.upper() for x in rs]\n",
    "print(x)\n"
   ]
  },
  {
   "cell_type": "code",
   "execution_count": null,
   "metadata": {},
   "outputs": [],
   "source": [
    "# Q 11\n",
    "#Write a program which accepts a sequence of comma separated 4 digit binary numbers as its input and then check whether they are divisible by 5 or not. The numbers that are divisible by 5 are to be printed in a comma separated sequence.\n",
    "#Suppose the input is supplied to the program: 0100,0011,1010,1001\n",
    "#Then the output should be: 1010\n",
    "#Notes: Assume the data is input by console.\n",
    "#Hints: In case of input data being supplied to the question, it should be assumed to be a console input."
   ]
  },
  {
   "cell_type": "code",
   "execution_count": 4,
   "metadata": {},
   "outputs": [
    {
     "name": "stdout",
     "output_type": "stream",
     "text": [
      "0100,0011,1010,1001\n",
      "1010\n"
     ]
    }
   ],
   "source": [
    "ls=input().split(',')\n",
    "ls\n",
    "#ls=0100,0011,1010,1001\n",
    "rs=[]\n",
    "\n",
    "for i in ls:\n",
    "    intp=int(i,2)\n",
    "    if not intp%5:\n",
    "        rs.append(i)\n",
    "        print(','.join(rs))"
   ]
  },
  {
   "cell_type": "code",
   "execution_count": null,
   "metadata": {},
   "outputs": [],
   "source": [
    "#Q.12  Not completed\n",
    "#Write a program, which will find all such numbers between 1000 and 3000 (both included) such that each digit of the number is an even number.\n",
    "#The numbers obtained should be printed in a comma-separated sequence on a single line.\n",
    "#Hints: In case of input data being supplied to the question, it should be assumed to be a console input."
   ]
  },
  {
   "cell_type": "code",
   "execution_count": 2,
   "metadata": {},
   "outputs": [
    {
     "name": "stdout",
     "output_type": "stream",
     "text": [
      "2000,2002,2004,2006,2008,2020,2022,2024,2026,2028,2040,2042,2044,2046,2048,2060,2062,2064,2066,2068,2080,2082,2084,2086,2088,2200,2202,2204,2206,2208,2220,2222,2224,2226,2228,2240,2242,2244,2246,2248,2260,2262,2264,2266,2268,2280,2282,2284,2286,2288,2400,2402,2404,2406,2408,2420,2422,2424,2426,2428,2440,2442,2444,2446,2448,2460,2462,2464,2466,2468,2480,2482,2484,2486,2488,2600,2602,2604,2606,2608,2620,2622,2624,2626,2628,2640,2642,2644,2646,2648,2660,2662,2664,2666,2668,2680,2682,2684,2686,2688,2800,2802,2804,2806,2808,2820,2822,2824,2826,2828,2840,2842,2844,2846,2848,2860,2862,2864,2866,2868,2880,2882,2884,2886,2888\n"
     ]
    }
   ],
   "source": [
    "line=[]\n",
    "l=range(1000,3001)\n",
    "for i in l:\n",
    "    c=0\n",
    "    for j in str(i):\n",
    "        if int(j)%2!=0:\n",
    "            c=1\n",
    "    if c==0:\n",
    "        line.append(str(i))\n",
    "\n",
    "print(','.join(line))\n"
   ]
  },
  {
   "cell_type": "code",
   "execution_count": 3,
   "metadata": {},
   "outputs": [
    {
     "name": "stdout",
     "output_type": "stream",
     "text": [
      "2000,2002,2004,2006,2008,2020,2022,2024,2026,2028,2040,2042,2044,2046,2048,2060,2062,2064,2066,2068,2080,2082,2084,2086,2088,2200,2202,2204,2206,2208,2220,2222,2224,2226,2228,2240,2242,2244,2246,2248,2260,2262,2264,2266,2268,2280,2282,2284,2286,2288,2400,2402,2404,2406,2408,2420,2422,2424,2426,2428,2440,2442,2444,2446,2448,2460,2462,2464,2466,2468,2480,2482,2484,2486,2488,2600,2602,2604,2606,2608,2620,2622,2624,2626,2628,2640,2642,2644,2646,2648,2660,2662,2664,2666,2668,2680,2682,2684,2686,2688,2800,2802,2804,2806,2808,2820,2822,2824,2826,2828,2840,2842,2844,2846,2848,2860,2862,2864,2866,2868,2880,2882,2884,2886,2888\n"
     ]
    }
   ],
   "source": [
    "values=[]\n",
    "for i in range(1000,3001):\n",
    "    s=str(i)\n",
    "    if((int(s[0])%2==0) & (int(s[1])%2==0) & (int(s[2])%2==0) & (int(s[3])%2==0)):\n",
    "        values.append(s)\n",
    "\n",
    "print(','.join(values))"
   ]
  },
  {
   "cell_type": "code",
   "execution_count": null,
   "metadata": {},
   "outputs": [],
   "source": [
    "# Q.13\n",
    "#Write a program that accepts a sentence and calculate the number of letters and digits.\n",
    "#Suppose the input is supplied to the program: hello world! 123\n",
    "#Then, the output should be: LETTERS 10\n",
    "#DIGITS 3\n",
    "#Hints: In case of input data being supplied to the question, it should be assumed to be a console input."
   ]
  },
  {
   "cell_type": "code",
   "execution_count": 6,
   "metadata": {},
   "outputs": [
    {
     "name": "stdout",
     "output_type": "stream",
     "text": [
      "0\n",
      "0\n"
     ]
    }
   ],
   "source": [
    "ls=['hello123']\n",
    "a=n=0\n",
    "\n",
    "\n",
    "for i in ls:\n",
    "    if(i.isalpha()):\n",
    "        a+=1\n",
    "    elif(i.isdigit()):\n",
    "        n+=1\n",
    "print(a)\n",
    "print(n)"
   ]
  },
  {
   "cell_type": "code",
   "execution_count": null,
   "metadata": {},
   "outputs": [],
   "source": [
    "# Q.15\n",
    "#Write a program that computes the value of a+aa+aaa+aaaa with a given digit as the value of a.\n",
    "#Suppose the input is supplied to the program: 9\n",
    "#Then, the output should be: 11106\n",
    "#Hints: In case of input data being supplied to the question, it should be assumed to be a console input."
   ]
  },
  {
   "cell_type": "code",
   "execution_count": 7,
   "metadata": {},
   "outputs": [
    {
     "name": "stdout",
     "output_type": "stream",
     "text": [
      "20106\n"
     ]
    }
   ],
   "source": [
    "a='9'\n",
    "aa=a+a\n",
    "aaa=a+a+a+a\n",
    "aaaa=a+a+a+a\n",
    "\n",
    "exp=int(aaaa) + int(aaa) + int(aa) + int(a)\n",
    "print(exp)"
   ]
  },
  {
   "cell_type": "code",
   "execution_count": null,
   "metadata": {},
   "outputs": [],
   "source": [
    "# Q.16\n",
    "#Use a list comprehension to square each odd number in a list. The list is input by a sequence of comma-separated numbers.\n",
    "#Suppose the input is supplied to the program: 1,2,3,4,5,6,7,8,9\n",
    "#Then, the output should be: 1, 3, 5, 7, 9\n",
    "#Hints: In case of input data being supplied to the question, it should be assumed to be a console input."
   ]
  },
  {
   "cell_type": "code",
   "execution_count": 8,
   "metadata": {},
   "outputs": [
    {
     "name": "stdout",
     "output_type": "stream",
     "text": [
      "[1, 9, 25, 49, 81]\n"
     ]
    }
   ],
   "source": [
    "ls=[x*x for x in [1,2,3,4,5,6,7,8,9] if x%2!=0]\n",
    "print(ls)"
   ]
  },
  {
   "cell_type": "code",
   "execution_count": null,
   "metadata": {},
   "outputs": [],
   "source": [
    "#Q.17 Not completed\n",
    "#Write a program that computes the net amount of a bank account based a transaction log from console input. The transaction log format is shown as following:\n",
    "#D 100\n",
    "#W 200\n",
    "#D means deposit while W means withdrawal.\n",
    "#Suppose the input is supplied to the program:\n",
    "#D 300\n",
    "#D 300\n",
    "#W 200\n",
    "#D 100\n",
    "#Then, the output should be: 500\n",
    "#Hints: In case of input data being supplied to the question, it should be assumed to be a console input."
   ]
  },
  {
   "cell_type": "code",
   "execution_count": 6,
   "metadata": {},
   "outputs": [
    {
     "name": "stdout",
     "output_type": "stream",
     "text": [
      "D 300\n",
      "D 300\n",
      "W 200\n",
      "D 100\n",
      "\n",
      "500\n"
     ]
    }
   ],
   "source": [
    "amt=0\n",
    "while True:\n",
    "    s=input()\n",
    "    if s=='':\n",
    "        break\n",
    "    n=s.split(' ')\n",
    "    a=n[0]\n",
    "    b=int(n[1])\n",
    "    if a=='D':\n",
    "        amt+=b\n",
    "    elif a=='W':\n",
    "        amt-=b\n",
    "\n",
    "print(amt)"
   ]
  },
  {
   "cell_type": "code",
   "execution_count": null,
   "metadata": {},
   "outputs": [],
   "source": [
    "# Q.22\n",
    "#Write a program to compute the frequency of the words from the input. The output should output after sorting the key alphanumerically.\n",
    "#Suppose the input is supplied to the program:\n",
    "#New to Python or choosing between Python 2 and Python 3? Read Python 2 or Python 3.\n",
    "#Then, the output should be:\n",
    "#2:2\n",
    "#3.:1\n",
    "#3?:1\n",
    "#New:1\n",
    "#Python:5\n",
    "#Read:1\n",
    "#and:1\n",
    "#between:1\n",
    "#choosing:1\n",
    "#or:2\n",
    "#to:1\n",
    "#Hints: In case of input data being supplied to the question, it should be assumed to be a console input."
   ]
  },
  {
   "cell_type": "code",
   "execution_count": 12,
   "metadata": {},
   "outputs": [
    {
     "name": "stdout",
     "output_type": "stream",
     "text": [
      "['New', 'to', 'Python', 'or', 'choosing', 'between', 'Python', '2', 'and', 'Python', '3?', 'Read', 'Python', '2', 'or', 'Python', '3']\n",
      "{'New': 1, 'to': 1, 'Python': 5, 'or': 2, 'choosing': 1, 'between': 1, '2': 2, 'and': 1, '3?': 1, 'Read': 1, '3': 1}\n"
     ]
    }
   ],
   "source": [
    "str='New to Python or choosing between Python 2 and Python 3? Read Python 2 or Python 3'\n",
    "count=0\n",
    "str1=str.split()\n",
    "print(str1)\n",
    "splt={}\n",
    "\n",
    "for i in str1:\n",
    "    if(i in splt):\n",
    "        splt[i]+=1\n",
    "            \n",
    "    else:\n",
    "        splt[i]=1\n",
    "\n",
    "print(splt)"
   ]
  },
  {
   "cell_type": "code",
   "execution_count": null,
   "metadata": {},
   "outputs": [],
   "source": [
    "# Q 23\n",
    "#Write a method which can calculate square value of number\n",
    "#Hints: Using the ** operator"
   ]
  },
  {
   "cell_type": "code",
   "execution_count": 13,
   "metadata": {},
   "outputs": [
    {
     "data": {
      "text/plain": [
       "256"
      ]
     },
     "execution_count": 13,
     "metadata": {},
     "output_type": "execute_result"
    }
   ],
   "source": [
    "def square(n):\n",
    "    return n**n\n",
    "\n",
    "square(4)"
   ]
  },
  {
   "cell_type": "code",
   "execution_count": null,
   "metadata": {},
   "outputs": [],
   "source": [
    "# Q 26\n",
    "#Define a function which can compute the sum of two numbers.\n",
    "#Hints: Define a function with two numbers as arguments. You can compute the sum in the function and return the value."
   ]
  },
  {
   "cell_type": "code",
   "execution_count": 14,
   "metadata": {},
   "outputs": [
    {
     "data": {
      "text/plain": [
       "11"
      ]
     },
     "execution_count": 14,
     "metadata": {},
     "output_type": "execute_result"
    }
   ],
   "source": [
    "def sum(a,b):\n",
    "    return a+b\n",
    "\n",
    "sum(5,6)"
   ]
  },
  {
   "cell_type": "code",
   "execution_count": null,
   "metadata": {},
   "outputs": [],
   "source": [
    "# Q 28\n",
    "#Define a function that can convert a integer into a string and print it in console.\n",
    "#Hints: Use str() to convert a number to string."
   ]
  },
  {
   "cell_type": "code",
   "execution_count": 4,
   "metadata": {},
   "outputs": [
    {
     "name": "stdout",
     "output_type": "stream",
     "text": [
      "10\n"
     ]
    }
   ],
   "source": [
    "def conv(n):\n",
    "    print(str(10))\n",
    "    \n",
    "conv(10)"
   ]
  },
  {
   "cell_type": "code",
   "execution_count": 16,
   "metadata": {},
   "outputs": [
    {
     "name": "stdout",
     "output_type": "stream",
     "text": [
      "123\n"
     ]
    }
   ],
   "source": [
    "# Q 29\n",
    "#Define a function that can receive two integral numbers in string form and compute their sum and then print it in console.\n",
    "#Hints: Use int() to convert a string to integer.\n",
    "\n",
    "def conv(n):\n",
    "    print(int(n))\n",
    "\n",
    "\n",
    "conv('123')"
   ]
  },
  {
   "cell_type": "code",
   "execution_count": 17,
   "metadata": {},
   "outputs": [
    {
     "data": {
      "text/plain": [
       "11"
      ]
     },
     "execution_count": 17,
     "metadata": {},
     "output_type": "execute_result"
    }
   ],
   "source": [
    "# Q 30\n",
    "#Define a function that can accept two strings as input and concatenate them and then print it in console.\n",
    "#Hints: Use + to concatenate the strings\n",
    "\n",
    "def add(m,n):\n",
    "    return(int(m)+int(n))\n",
    "\n",
    "add('5','6')"
   ]
  },
  {
   "cell_type": "code",
   "execution_count": 18,
   "metadata": {},
   "outputs": [
    {
     "data": {
      "text/plain": [
       "'dataanalytics'"
      ]
     },
     "execution_count": 18,
     "metadata": {},
     "output_type": "execute_result"
    }
   ],
   "source": [
    "# Q 31\n",
    "#Define a function that can accept two strings as input and print the string with maximum length in console.\n",
    "#If two strings have the same length, then the function should print al l strings line by line.\n",
    "#Hints: Use len() function to get the length of a string\n",
    "\n",
    "def concat(m,n):\n",
    "    return m+n\n",
    "\n",
    "concat('data','analytics')"
   ]
  },
  {
   "cell_type": "code",
   "execution_count": 19,
   "metadata": {},
   "outputs": [
    {
     "name": "stdout",
     "output_type": "stream",
     "text": [
      "analytics\n"
     ]
    }
   ],
   "source": [
    "# Q 32\n",
    "#Define a function that can accept an integer number as input and print the \"It is an even number\" if the number is even, \n",
    "#otherwise print \"It is an odd number\".\n",
    "#Hints: Use % operator to check if a number is even or odd.\n",
    "\n",
    "def maxlength(m,n):\n",
    "    lm=len(m)\n",
    "    ln=len(n)\n",
    "    if(lm>ln):\n",
    "        print(m)\n",
    "    elif(ln>lm):\n",
    "        print(n)\n",
    "    elif(lm==ln):\n",
    "        print(m+n)\n",
    "\n",
    "maxlength('data','analytics')"
   ]
  },
  {
   "cell_type": "code",
   "execution_count": 20,
   "metadata": {},
   "outputs": [
    {
     "name": "stdout",
     "output_type": "stream",
     "text": [
      "{1: 1, 2: 4, 3: 27}\n"
     ]
    }
   ],
   "source": [
    "# Q 33\n",
    "#Define a function which can print a dictionary where the keys are numbers between 1 and 3 (both included) and the \n",
    "#values are square of keys.\n",
    "#Hints: Use dict[key]=value pattern to put entry into a dictionary.\n",
    "#Use ** operator to get power of a number.\n",
    "\n",
    "fn={x:x**x for x in [1,2,3]}\n",
    "print(fn)"
   ]
  },
  {
   "cell_type": "code",
   "execution_count": 21,
   "metadata": {},
   "outputs": [
    {
     "name": "stdout",
     "output_type": "stream",
     "text": [
      "{1: 1, 2: 4, 3: 27, 4: 256, 5: 3125, 6: 46656, 7: 823543, 8: 16777216, 9: 387420489, 10: 10000000000, 11: 285311670611, 12: 8916100448256, 13: 302875106592253, 14: 11112006825558016, 15: 437893890380859375, 16: 18446744073709551616, 17: 827240261886336764177, 18: 39346408075296537575424, 19: 1978419655660313589123979, 20: 104857600000000000000000000}\n"
     ]
    }
   ],
   "source": [
    "# Q 34\n",
    "#Define a function which can print a dictionary where the keys are numbers between 1 and 20 (both included) and \n",
    "#the values are square of keys.\n",
    "#Hints: Use dict[key]=value pattern to put entry into a dictionary.\n",
    "#Use ** operator to get power of a number. Use range() for loops.\n",
    "\n",
    "fn={x:x**x for x in range(1,21)}\n",
    "print(fn)"
   ]
  },
  {
   "cell_type": "code",
   "execution_count": 22,
   "metadata": {},
   "outputs": [
    {
     "name": "stdout",
     "output_type": "stream",
     "text": [
      "dict_values([1, 4, 27, 256, 3125, 46656, 823543, 16777216, 387420489, 10000000000, 285311670611, 8916100448256, 302875106592253, 11112006825558016, 437893890380859375, 18446744073709551616, 827240261886336764177, 39346408075296537575424, 1978419655660313589123979, 104857600000000000000000000])\n"
     ]
    }
   ],
   "source": [
    "# Q 35\n",
    "#Define a function which can generate a dictionary where the keys are numbers between 1 and 20 (both included) and the values\n",
    "#are square of keys. The function should just print the values only.\n",
    "#Hints: Use dict[key]=value pattern to put entry into a dictionary. Use ** operator to get power of a number.\n",
    "#Use range() for loops. Use keys() to iterate keys in the dictionary. Also we can use item() to get key/value pairs.\n",
    "\n",
    "fn={x:x**x for x in range(1,21)}\n",
    "print(fn.values())"
   ]
  },
  {
   "cell_type": "code",
   "execution_count": 23,
   "metadata": {},
   "outputs": [
    {
     "name": "stdout",
     "output_type": "stream",
     "text": [
      "dict_keys([1, 2, 3, 4, 5, 6, 7, 8, 9, 10, 11, 12, 13, 14, 15, 16, 17, 18, 19, 20])\n"
     ]
    }
   ],
   "source": [
    "# Q 36\n",
    "#Define a function which can generate a dictionary where the keys are numbers between 1 and 20 (both included) and\n",
    "#the values are square of keys. The function should just print the keys only.\n",
    "#Hints: Use dict[key]=value pattern to put entry into a dictionary. Use ** operator to get power of a number.\n",
    "#Use range() for loops. Use keys() to iterate keys in the dictionary. Also we can use item() to get key/value pairs.\n",
    "\n",
    "fn={x:x**x for x in range(1,21)}\n",
    "print(fn.keys())"
   ]
  },
  {
   "cell_type": "code",
   "execution_count": 24,
   "metadata": {},
   "outputs": [],
   "source": [
    "import math"
   ]
  },
  {
   "cell_type": "code",
   "execution_count": 25,
   "metadata": {},
   "outputs": [
    {
     "name": "stdout",
     "output_type": "stream",
     "text": [
      "[1, 4, 27, 256, 3125, 46656, 823543, 16777216, 387420489, 10000000000, 285311670611, 8916100448256, 302875106592253, 11112006825558016, 437893890380859375, 18446744073709551616, 827240261886336764177, 39346408075296537575424, 1978419655660313589123979, 104857600000000000000000000]\n"
     ]
    }
   ],
   "source": [
    "# Q 37\n",
    "#Define a function which can generate and print a list where the values are square of numbers between 1 and 20 (both included).\n",
    "#Hints: Use ** operator to get power of a number. Use range() for loops. Use list.append() to add values into a list.\n",
    "\n",
    "ls=[]\n",
    "for x in range(1,21):\n",
    "    ls.append(x**x)\n",
    "print(ls)"
   ]
  },
  {
   "cell_type": "code",
   "execution_count": 26,
   "metadata": {},
   "outputs": [
    {
     "name": "stdout",
     "output_type": "stream",
     "text": [
      "[1, 4, 27, 256, 3125]\n"
     ]
    }
   ],
   "source": [
    "# Q 38\n",
    "#Define a function which can generate a list where the values are square of numbers between 1 and 20 (both included). \n",
    "#Then the function needs to print the first 5 elements in the list.\n",
    "#Hints: Use ** operator to get power of a number. Use range() for loops. Use list.append() to add values into a list.\n",
    "#Use [n1:n2] to slice a list\n",
    "\n",
    "ls=[]\n",
    "for x in range(1,21):\n",
    "    ls.append(x**x)\n",
    "print(ls[0:5])"
   ]
  },
  {
   "cell_type": "code",
   "execution_count": 27,
   "metadata": {},
   "outputs": [
    {
     "name": "stdout",
     "output_type": "stream",
     "text": [
      "[18446744073709551616, 827240261886336764177, 39346408075296537575424, 1978419655660313589123979, 104857600000000000000000000]\n"
     ]
    }
   ],
   "source": [
    "# Q 39\n",
    "#Define a function which can generate a list where the values are square of numbers between 1 and 20 (both included). \n",
    "#Then the function needs to print the last 5 elements in the list.\n",
    "#Hints: Use ** operator to get power of a number. Use range() for loops. Use list.append() to add values into a list. \n",
    "#Use [n1:n2] to slice a list\n",
    "\n",
    "ls=[]\n",
    "for x in range(1,21):\n",
    "    ls.append(x**x)\n",
    "print(ls[15:20])"
   ]
  },
  {
   "cell_type": "code",
   "execution_count": 28,
   "metadata": {},
   "outputs": [
    {
     "name": "stdout",
     "output_type": "stream",
     "text": [
      "[46656, 823543, 16777216, 387420489, 10000000000, 285311670611, 8916100448256, 302875106592253, 11112006825558016, 437893890380859375, 18446744073709551616, 827240261886336764177, 39346408075296537575424, 1978419655660313589123979, 104857600000000000000000000]\n"
     ]
    }
   ],
   "source": [
    "# Q 40\n",
    "#Define a function which can generate a list where the values are square of numbers between 1 and 20 (both included). \n",
    "#Then the function needs to print all values except the first 5 elements in the list.\n",
    "#Hints: Use ** operator to get power of a number. Use range() for loops. Use list.append() to add values into a list. \n",
    "#Use [n1:n2] to slice a list\n",
    "\n",
    "ls=[]\n",
    "for x in range(1,21):\n",
    "    ls.append(x**x)\n",
    "print(ls[5:])"
   ]
  },
  {
   "cell_type": "code",
   "execution_count": 29,
   "metadata": {},
   "outputs": [
    {
     "name": "stdout",
     "output_type": "stream",
     "text": [
      "(1, 4, 27, 256, 3125, 46656, 823543, 16777216, 387420489, 10000000000, 285311670611, 8916100448256, 302875106592253, 11112006825558016, 437893890380859375, 18446744073709551616, 827240261886336764177, 39346408075296537575424, 1978419655660313589123979, 104857600000000000000000000)\n"
     ]
    }
   ],
   "source": [
    "# Q 41\n",
    "#Define a function which can generate and print a tuple where the value are square of numbers between 1 and 20 (both included).\n",
    "#Hints: Use ** operator to get power of a number. Use range() for loops. \n",
    "#Use list.append() to add values into a list. Use tuple() to get a tuple from a list.\n",
    "\n",
    "tp=[]\n",
    "\n",
    "for i in range(1,21):\n",
    "    tp.append(i**i)\n",
    "    \n",
    "#print(tp)\n",
    "print(tuple(tp))"
   ]
  },
  {
   "cell_type": "code",
   "execution_count": 30,
   "metadata": {},
   "outputs": [
    {
     "name": "stdout",
     "output_type": "stream",
     "text": [
      "10\n",
      "(1, 2, 3, 4, 5)\n",
      "(6, 7, 8, 9, 10)\n"
     ]
    }
   ],
   "source": [
    "# Q 42\n",
    "#With a given tuple (1,2,3,4,5,6,7,8,9,10), write a program to print the first half values in one line and the last half values \n",
    "#in one line.\n",
    "#Hints: Use [n1:n2] notation to get a slice from a tuple.\n",
    "\n",
    "tp=(1,2,3,4,5,6,7,8,9,10)\n",
    "print(len(tp))\n",
    "tpfirst=tp[0:5]\n",
    "print(tpfirst)\n",
    "tplast=tp[5:(len(tp))]\n",
    "print(tplast)"
   ]
  },
  {
   "cell_type": "code",
   "execution_count": 31,
   "metadata": {},
   "outputs": [
    {
     "name": "stdout",
     "output_type": "stream",
     "text": [
      "10\n",
      "(2, 4, 6, 8, 10)\n"
     ]
    }
   ],
   "source": [
    "# Q 43\n",
    "#Write a program to generate and print another tuple whose values are even numbers in the given tuple (1,2,3,4,5,6,7,8,9,10).\n",
    "#Hints: Use \"for\" to iterate the tuple. Use tuple() to generate a tuple from a list.\n",
    "\n",
    "tp=(1,2,3,4,5,6,7,8,9,10)\n",
    "print(len(tp))\n",
    "tpfirst=[x for x in tp if x%2==0]\n",
    "print(tuple(tpfirst))"
   ]
  },
  {
   "cell_type": "code",
   "execution_count": 32,
   "metadata": {},
   "outputs": [
    {
     "name": "stdout",
     "output_type": "stream",
     "text": [
      "Yes\n",
      "Yes\n",
      "Yes\n",
      "No\n"
     ]
    }
   ],
   "source": [
    "# Q 44\n",
    "#Write a program which accepts a string as input to print \"Yes\" if the string is \"yes\" or \"YES\" or \"Yes\", otherwise print \"No\".\n",
    "#Hints: Use if statement to judge condition.\n",
    "\n",
    "def fnstr(str):\n",
    "    if((str=='yes') | (str=='Yes') | (str=='YES')):\n",
    "        print('Yes')\n",
    "    else:\n",
    "        print('No')\n",
    "\n",
    "\n",
    "fnstr('Yes')\n",
    "fnstr('YES')\n",
    "fnstr('yes')\n",
    "fnstr('No')"
   ]
  },
  {
   "cell_type": "code",
   "execution_count": 33,
   "metadata": {},
   "outputs": [
    {
     "data": {
      "text/plain": [
       "[2, 4, 6, 8, 10]"
      ]
     },
     "execution_count": 33,
     "metadata": {},
     "output_type": "execute_result"
    }
   ],
   "source": [
    "# Q 45\n",
    "#Write a program which can filter even numbers in a list by using filter function. The list is: [1,2,3,4,5,6,7,8,9,10].\n",
    "#Hints: use filter() to filter some elements in a list. Use lambda to define anonymous functions.\n",
    "\n",
    "ls=[1,2,3,4,5,6,7,8,9,10]\n",
    "list(filter(lambda x: x % 2 == 0, ls))"
   ]
  },
  {
   "cell_type": "code",
   "execution_count": 34,
   "metadata": {},
   "outputs": [
    {
     "data": {
      "text/plain": [
       "[1, 4, 9, 16, 25, 36, 49, 64, 81, 100]"
      ]
     },
     "execution_count": 34,
     "metadata": {},
     "output_type": "execute_result"
    }
   ],
   "source": [
    "# Q 46\n",
    "#Write a program which can map() to make a list whose elements are square of elements in [1,2,3,4,5,6,7,8,9,10].\n",
    "#Hints: Use map() to generate a list. Use lambda to define anonymous functions.\n",
    "\n",
    "ls=[1,2,3,4,5,6,7,8,9,10]\n",
    "list(map(lambda x: x*x, ls))"
   ]
  },
  {
   "cell_type": "code",
   "execution_count": 35,
   "metadata": {},
   "outputs": [
    {
     "data": {
      "text/plain": [
       "[4, 16, 36, 64, 100]"
      ]
     },
     "execution_count": 35,
     "metadata": {},
     "output_type": "execute_result"
    }
   ],
   "source": [
    "# Q 47\n",
    "#Write a program which can map() and filter() to make a list whose elements are square of even number in [1,2,3,4,5,6,7,8,9,10].\n",
    "#Hints: Use map() to generate a list. Use filter() to filter elements of a list. Use lambda to define anonymous functions.\n",
    "\n",
    "ls=[1,2,3,4,5,6,7,8,9,10]\n",
    "sqr=list(map(lambda x: x*x, ls))\n",
    "list(filter(lambda x: x % 2 == 0, sqr))"
   ]
  },
  {
   "cell_type": "code",
   "execution_count": 36,
   "metadata": {},
   "outputs": [
    {
     "data": {
      "text/plain": [
       "[2, 4, 6, 8, 10, 12, 14, 16, 18, 20]"
      ]
     },
     "execution_count": 36,
     "metadata": {},
     "output_type": "execute_result"
    }
   ],
   "source": [
    "# Q 48\n",
    "#Write a program which can filter() to make a list whose elements are even number between 1 and 20 (both included).\n",
    "#Hints: Use filter() to filter elements of a list. Use lambda to define anonymous functions.\n",
    "\n",
    "list(filter(lambda x: x % 2 == 0, range(1,21)))"
   ]
  },
  {
   "cell_type": "code",
   "execution_count": 37,
   "metadata": {},
   "outputs": [
    {
     "data": {
      "text/plain": [
       "[1,\n",
       " 4,\n",
       " 9,\n",
       " 16,\n",
       " 25,\n",
       " 36,\n",
       " 49,\n",
       " 64,\n",
       " 81,\n",
       " 100,\n",
       " 121,\n",
       " 144,\n",
       " 169,\n",
       " 196,\n",
       " 225,\n",
       " 256,\n",
       " 289,\n",
       " 324,\n",
       " 361,\n",
       " 400]"
      ]
     },
     "execution_count": 37,
     "metadata": {},
     "output_type": "execute_result"
    }
   ],
   "source": [
    "# Q 49\n",
    "#Write a program which can map() to make a list whose elements are square of numbers between 1 and 20 (both included).\n",
    "#Hints: Use map() to generate a list. Use lambda to define anonymous functions.\n",
    "\n",
    "list(map(lambda x: x*x, range(1,21)))"
   ]
  },
  {
   "cell_type": "code",
   "execution_count": 45,
   "metadata": {},
   "outputs": [
    {
     "name": "stdout",
     "output_type": "stream",
     "text": [
      "abc@gmail.com\n",
      "abc\n"
     ]
    }
   ],
   "source": [
    "# Q 57\n",
    "#Assuming that we have some email addresses in the \"username@companyname.com\" format, please write program to print the user name of a given email address. Both user names and company names are composed of letters only.\n",
    "#If the following email address is given as input to the program: Chandra@analytixlabs.com\n",
    "#Then, the output of the program should be: Chandra\n",
    "#In case of input data being supplied to the question, it should be assumed to be a console input.\n",
    "#Hints: Use \\w to match letters.\n",
    "\n",
    "email=input()\n",
    "em1=[]\n",
    "for i in email:\n",
    "    if(i=='@'):\n",
    "        break\n",
    "    em1.append(i)\n",
    "    \n",
    "print(('').join(em1))"
   ]
  },
  {
   "cell_type": "code",
   "execution_count": 44,
   "metadata": {},
   "outputs": [
    {
     "name": "stdout",
     "output_type": "stream",
     "text": [
      "abc@gmail.com\n",
      "abc@gmail.\n"
     ]
    }
   ],
   "source": [
    "# Q 58\n",
    "#Assuming that we have some email addresses in the \"username@companyname.com\" format, please write program to print the company name of a given email address. Both user names and company names are composed of letters only.\n",
    "#If the following email address is given as input to the program: Chandra@analytixlabs.com\n",
    "#Then, the output of the program should be: analytixlabs\n",
    "#In case of input data being supplied to the question, it should be assumed to be a console input.\n",
    "#Hints: Use \\w to match letters\n",
    "\n",
    "email=input()\n",
    "em1=[]\n",
    "for i in email:\n",
    "    em1.append(i)\n",
    "    if(i=='.'):\n",
    "            break\n",
    "    \n",
    "print(('').join(em1))"
   ]
  },
  {
   "cell_type": "code",
   "execution_count": null,
   "metadata": {},
   "outputs": [],
   "source": []
  }
 ],
 "metadata": {
  "kernelspec": {
   "display_name": "Python 3",
   "language": "python",
   "name": "python3"
  },
  "language_info": {
   "codemirror_mode": {
    "name": "ipython",
    "version": 3
   },
   "file_extension": ".py",
   "mimetype": "text/x-python",
   "name": "python",
   "nbconvert_exporter": "python",
   "pygments_lexer": "ipython3",
   "version": "3.6.5"
  }
 },
 "nbformat": 4,
 "nbformat_minor": 2
}
