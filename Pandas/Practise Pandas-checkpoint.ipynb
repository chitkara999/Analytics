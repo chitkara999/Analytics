{
 "cells": [
  {
   "cell_type": "markdown",
   "metadata": {},
   "source": [
    "Data importing"
   ]
  },
  {
   "cell_type": "code",
   "execution_count": 1,
   "metadata": {},
   "outputs": [],
   "source": [
    "import pandas as pd\n",
    "import numpy as np"
   ]
  },
  {
   "cell_type": "code",
   "execution_count": 2,
   "metadata": {},
   "outputs": [],
   "source": [
    "practisedata=pd.read_csv(\"C:/Users/DELL-IN/Downloads/Video/AL/mydata.csv\")"
   ]
  },
  {
   "cell_type": "code",
   "execution_count": 3,
   "metadata": {},
   "outputs": [
    {
     "data": {
      "text/html": [
       "<div>\n",
       "<style scoped>\n",
       "    .dataframe tbody tr th:only-of-type {\n",
       "        vertical-align: middle;\n",
       "    }\n",
       "\n",
       "    .dataframe tbody tr th {\n",
       "        vertical-align: top;\n",
       "    }\n",
       "\n",
       "    .dataframe thead th {\n",
       "        text-align: right;\n",
       "    }\n",
       "</style>\n",
       "<table border=\"1\" class=\"dataframe\">\n",
       "  <thead>\n",
       "    <tr style=\"text-align: right;\">\n",
       "      <th></th>\n",
       "      <th>ID</th>\n",
       "      <th>Name</th>\n",
       "      <th>Gender</th>\n",
       "      <th>Age</th>\n",
       "      <th>School</th>\n",
       "      <th>Absent</th>\n",
       "      <th>Marks</th>\n",
       "    </tr>\n",
       "  </thead>\n",
       "  <tbody>\n",
       "    <tr>\n",
       "      <th>0</th>\n",
       "      <td>1</td>\n",
       "      <td>A</td>\n",
       "      <td>M</td>\n",
       "      <td>20.0</td>\n",
       "      <td>St Thomas</td>\n",
       "      <td>2.0</td>\n",
       "      <td>402.0</td>\n",
       "    </tr>\n",
       "    <tr>\n",
       "      <th>1</th>\n",
       "      <td>2</td>\n",
       "      <td>B</td>\n",
       "      <td>F</td>\n",
       "      <td>24.0</td>\n",
       "      <td>St Thomas</td>\n",
       "      <td>3.0</td>\n",
       "      <td>387.0</td>\n",
       "    </tr>\n",
       "    <tr>\n",
       "      <th>2</th>\n",
       "      <td>3</td>\n",
       "      <td>C</td>\n",
       "      <td>M</td>\n",
       "      <td>19.0</td>\n",
       "      <td>St Marys</td>\n",
       "      <td>6.0</td>\n",
       "      <td>NaN</td>\n",
       "    </tr>\n",
       "    <tr>\n",
       "      <th>3</th>\n",
       "      <td>4</td>\n",
       "      <td>D</td>\n",
       "      <td>M</td>\n",
       "      <td>NaN</td>\n",
       "      <td>St Thomas</td>\n",
       "      <td>0.0</td>\n",
       "      <td>452.0</td>\n",
       "    </tr>\n",
       "    <tr>\n",
       "      <th>4</th>\n",
       "      <td>5</td>\n",
       "      <td>E</td>\n",
       "      <td>F</td>\n",
       "      <td>21.0</td>\n",
       "      <td>St Marys</td>\n",
       "      <td>8.0</td>\n",
       "      <td>348.0</td>\n",
       "    </tr>\n",
       "    <tr>\n",
       "      <th>5</th>\n",
       "      <td>6</td>\n",
       "      <td>F</td>\n",
       "      <td>F</td>\n",
       "      <td>19.0</td>\n",
       "      <td>St Marys</td>\n",
       "      <td>NaN</td>\n",
       "      <td>299.0</td>\n",
       "    </tr>\n",
       "    <tr>\n",
       "      <th>6</th>\n",
       "      <td>7</td>\n",
       "      <td>G</td>\n",
       "      <td>M</td>\n",
       "      <td>34.0</td>\n",
       "      <td>St Thomas</td>\n",
       "      <td>2.0</td>\n",
       "      <td>490.0</td>\n",
       "    </tr>\n",
       "    <tr>\n",
       "      <th>7</th>\n",
       "      <td>8</td>\n",
       "      <td>H</td>\n",
       "      <td>M</td>\n",
       "      <td>NaN</td>\n",
       "      <td>St Thomas</td>\n",
       "      <td>8.0</td>\n",
       "      <td>372.0</td>\n",
       "    </tr>\n",
       "    <tr>\n",
       "      <th>8</th>\n",
       "      <td>9</td>\n",
       "      <td>I</td>\n",
       "      <td>F</td>\n",
       "      <td>21.0</td>\n",
       "      <td>St Thomas</td>\n",
       "      <td>12.0</td>\n",
       "      <td>340.0</td>\n",
       "    </tr>\n",
       "    <tr>\n",
       "      <th>9</th>\n",
       "      <td>10</td>\n",
       "      <td>J</td>\n",
       "      <td>F</td>\n",
       "      <td>23.0</td>\n",
       "      <td>St Marys</td>\n",
       "      <td>10.0</td>\n",
       "      <td>415.0</td>\n",
       "    </tr>\n",
       "    <tr>\n",
       "      <th>10</th>\n",
       "      <td>10</td>\n",
       "      <td>J</td>\n",
       "      <td>F</td>\n",
       "      <td>23.0</td>\n",
       "      <td>St Marys</td>\n",
       "      <td>10.0</td>\n",
       "      <td>415.0</td>\n",
       "    </tr>\n",
       "  </tbody>\n",
       "</table>\n",
       "</div>"
      ],
      "text/plain": [
       "    ID Name Gender   Age     School  Absent  Marks\n",
       "0    1    A      M  20.0  St Thomas     2.0  402.0\n",
       "1    2    B      F  24.0  St Thomas     3.0  387.0\n",
       "2    3    C      M  19.0   St Marys     6.0    NaN\n",
       "3    4    D      M   NaN  St Thomas     0.0  452.0\n",
       "4    5    E      F  21.0   St Marys     8.0  348.0\n",
       "5    6    F      F  19.0   St Marys     NaN  299.0\n",
       "6    7    G      M  34.0  St Thomas     2.0  490.0\n",
       "7    8    H      M   NaN  St Thomas     8.0  372.0\n",
       "8    9    I      F  21.0  St Thomas    12.0  340.0\n",
       "9   10    J      F  23.0   St Marys    10.0  415.0\n",
       "10  10    J      F  23.0   St Marys    10.0  415.0"
      ]
     },
     "execution_count": 3,
     "metadata": {},
     "output_type": "execute_result"
    }
   ],
   "source": [
    "practisedata.head(15)"
   ]
  },
  {
   "cell_type": "markdown",
   "metadata": {},
   "source": [
    "Data Understanding"
   ]
  },
  {
   "cell_type": "code",
   "execution_count": 4,
   "metadata": {},
   "outputs": [
    {
     "data": {
      "text/plain": [
       "Index(['ID', 'Name', 'Gender', 'Age', 'School', 'Absent', 'Marks'], dtype='object')"
      ]
     },
     "execution_count": 4,
     "metadata": {},
     "output_type": "execute_result"
    }
   ],
   "source": [
    "practisedata.columns"
   ]
  },
  {
   "cell_type": "code",
   "execution_count": 5,
   "metadata": {},
   "outputs": [
    {
     "data": {
      "text/plain": [
       "(11, 7)"
      ]
     },
     "execution_count": 5,
     "metadata": {},
     "output_type": "execute_result"
    }
   ],
   "source": [
    "practisedata.shape"
   ]
  },
  {
   "cell_type": "code",
   "execution_count": 6,
   "metadata": {},
   "outputs": [
    {
     "data": {
      "text/plain": [
       "77"
      ]
     },
     "execution_count": 6,
     "metadata": {},
     "output_type": "execute_result"
    }
   ],
   "source": [
    "practisedata.size"
   ]
  },
  {
   "cell_type": "code",
   "execution_count": 7,
   "metadata": {},
   "outputs": [
    {
     "data": {
      "text/plain": [
       "ID          int64\n",
       "Name       object\n",
       "Gender     object\n",
       "Age       float64\n",
       "School     object\n",
       "Absent    float64\n",
       "Marks     float64\n",
       "dtype: object"
      ]
     },
     "execution_count": 7,
     "metadata": {},
     "output_type": "execute_result"
    }
   ],
   "source": [
    "practisedata.dtypes"
   ]
  },
  {
   "cell_type": "code",
   "execution_count": 8,
   "metadata": {},
   "outputs": [
    {
     "data": {
      "text/plain": [
       "float64    3\n",
       "int64      1\n",
       "object     3\n",
       "dtype: int64"
      ]
     },
     "execution_count": 8,
     "metadata": {},
     "output_type": "execute_result"
    }
   ],
   "source": [
    "practisedata.get_dtype_counts()"
   ]
  },
  {
   "cell_type": "code",
   "execution_count": 9,
   "metadata": {},
   "outputs": [
    {
     "data": {
      "text/plain": [
       "2"
      ]
     },
     "execution_count": 9,
     "metadata": {},
     "output_type": "execute_result"
    }
   ],
   "source": [
    "practisedata.ndim"
   ]
  },
  {
   "cell_type": "code",
   "execution_count": 10,
   "metadata": {},
   "outputs": [
    {
     "name": "stdout",
     "output_type": "stream",
     "text": [
      "<class 'pandas.core.frame.DataFrame'>\n",
      "RangeIndex: 11 entries, 0 to 10\n",
      "Data columns (total 7 columns):\n",
      "ID        11 non-null int64\n",
      "Name      11 non-null object\n",
      "Gender    11 non-null object\n",
      "Age       9 non-null float64\n",
      "School    11 non-null object\n",
      "Absent    10 non-null float64\n",
      "Marks     10 non-null float64\n",
      "dtypes: float64(3), int64(1), object(3)\n",
      "memory usage: 696.0+ bytes\n"
     ]
    }
   ],
   "source": [
    "practisedata.info()"
   ]
  },
  {
   "cell_type": "code",
   "execution_count": 11,
   "metadata": {},
   "outputs": [
    {
     "data": {
      "text/html": [
       "<div>\n",
       "<style scoped>\n",
       "    .dataframe tbody tr th:only-of-type {\n",
       "        vertical-align: middle;\n",
       "    }\n",
       "\n",
       "    .dataframe tbody tr th {\n",
       "        vertical-align: top;\n",
       "    }\n",
       "\n",
       "    .dataframe thead th {\n",
       "        text-align: right;\n",
       "    }\n",
       "</style>\n",
       "<table border=\"1\" class=\"dataframe\">\n",
       "  <thead>\n",
       "    <tr style=\"text-align: right;\">\n",
       "      <th></th>\n",
       "      <th>count</th>\n",
       "      <th>mean</th>\n",
       "      <th>std</th>\n",
       "      <th>min</th>\n",
       "      <th>25%</th>\n",
       "      <th>50%</th>\n",
       "      <th>75%</th>\n",
       "      <th>max</th>\n",
       "    </tr>\n",
       "  </thead>\n",
       "  <tbody>\n",
       "    <tr>\n",
       "      <th>ID</th>\n",
       "      <td>11.0</td>\n",
       "      <td>5.909091</td>\n",
       "      <td>3.176619</td>\n",
       "      <td>1.0</td>\n",
       "      <td>3.50</td>\n",
       "      <td>6.0</td>\n",
       "      <td>8.5</td>\n",
       "      <td>10.0</td>\n",
       "    </tr>\n",
       "    <tr>\n",
       "      <th>Age</th>\n",
       "      <td>9.0</td>\n",
       "      <td>22.666667</td>\n",
       "      <td>4.609772</td>\n",
       "      <td>19.0</td>\n",
       "      <td>20.00</td>\n",
       "      <td>21.0</td>\n",
       "      <td>23.0</td>\n",
       "      <td>34.0</td>\n",
       "    </tr>\n",
       "    <tr>\n",
       "      <th>Absent</th>\n",
       "      <td>10.0</td>\n",
       "      <td>6.100000</td>\n",
       "      <td>4.121758</td>\n",
       "      <td>0.0</td>\n",
       "      <td>2.25</td>\n",
       "      <td>7.0</td>\n",
       "      <td>9.5</td>\n",
       "      <td>12.0</td>\n",
       "    </tr>\n",
       "    <tr>\n",
       "      <th>Marks</th>\n",
       "      <td>10.0</td>\n",
       "      <td>392.000000</td>\n",
       "      <td>55.852982</td>\n",
       "      <td>299.0</td>\n",
       "      <td>354.00</td>\n",
       "      <td>394.5</td>\n",
       "      <td>415.0</td>\n",
       "      <td>490.0</td>\n",
       "    </tr>\n",
       "  </tbody>\n",
       "</table>\n",
       "</div>"
      ],
      "text/plain": [
       "        count        mean        std    min     25%    50%    75%    max\n",
       "ID       11.0    5.909091   3.176619    1.0    3.50    6.0    8.5   10.0\n",
       "Age       9.0   22.666667   4.609772   19.0   20.00   21.0   23.0   34.0\n",
       "Absent   10.0    6.100000   4.121758    0.0    2.25    7.0    9.5   12.0\n",
       "Marks    10.0  392.000000  55.852982  299.0  354.00  394.5  415.0  490.0"
      ]
     },
     "execution_count": 11,
     "metadata": {},
     "output_type": "execute_result"
    }
   ],
   "source": [
    "practisedata.describe().T"
   ]
  },
  {
   "cell_type": "markdown",
   "metadata": {},
   "source": [
    "Data Manipulation"
   ]
  },
  {
   "cell_type": "code",
   "execution_count": 12,
   "metadata": {},
   "outputs": [
    {
     "data": {
      "text/html": [
       "<div>\n",
       "<style scoped>\n",
       "    .dataframe tbody tr th:only-of-type {\n",
       "        vertical-align: middle;\n",
       "    }\n",
       "\n",
       "    .dataframe tbody tr th {\n",
       "        vertical-align: top;\n",
       "    }\n",
       "\n",
       "    .dataframe thead th {\n",
       "        text-align: right;\n",
       "    }\n",
       "</style>\n",
       "<table border=\"1\" class=\"dataframe\">\n",
       "  <thead>\n",
       "    <tr style=\"text-align: right;\">\n",
       "      <th></th>\n",
       "      <th>ID</th>\n",
       "      <th>Name</th>\n",
       "      <th>Marks</th>\n",
       "    </tr>\n",
       "  </thead>\n",
       "  <tbody>\n",
       "    <tr>\n",
       "      <th>0</th>\n",
       "      <td>1</td>\n",
       "      <td>A</td>\n",
       "      <td>402.0</td>\n",
       "    </tr>\n",
       "    <tr>\n",
       "      <th>1</th>\n",
       "      <td>2</td>\n",
       "      <td>B</td>\n",
       "      <td>387.0</td>\n",
       "    </tr>\n",
       "    <tr>\n",
       "      <th>2</th>\n",
       "      <td>3</td>\n",
       "      <td>C</td>\n",
       "      <td>NaN</td>\n",
       "    </tr>\n",
       "    <tr>\n",
       "      <th>3</th>\n",
       "      <td>4</td>\n",
       "      <td>D</td>\n",
       "      <td>452.0</td>\n",
       "    </tr>\n",
       "    <tr>\n",
       "      <th>4</th>\n",
       "      <td>5</td>\n",
       "      <td>E</td>\n",
       "      <td>348.0</td>\n",
       "    </tr>\n",
       "    <tr>\n",
       "      <th>5</th>\n",
       "      <td>6</td>\n",
       "      <td>F</td>\n",
       "      <td>299.0</td>\n",
       "    </tr>\n",
       "    <tr>\n",
       "      <th>6</th>\n",
       "      <td>7</td>\n",
       "      <td>G</td>\n",
       "      <td>490.0</td>\n",
       "    </tr>\n",
       "    <tr>\n",
       "      <th>7</th>\n",
       "      <td>8</td>\n",
       "      <td>H</td>\n",
       "      <td>372.0</td>\n",
       "    </tr>\n",
       "    <tr>\n",
       "      <th>8</th>\n",
       "      <td>9</td>\n",
       "      <td>I</td>\n",
       "      <td>340.0</td>\n",
       "    </tr>\n",
       "    <tr>\n",
       "      <th>9</th>\n",
       "      <td>10</td>\n",
       "      <td>J</td>\n",
       "      <td>415.0</td>\n",
       "    </tr>\n",
       "    <tr>\n",
       "      <th>10</th>\n",
       "      <td>10</td>\n",
       "      <td>J</td>\n",
       "      <td>415.0</td>\n",
       "    </tr>\n",
       "  </tbody>\n",
       "</table>\n",
       "</div>"
      ],
      "text/plain": [
       "    ID Name  Marks\n",
       "0    1    A  402.0\n",
       "1    2    B  387.0\n",
       "2    3    C    NaN\n",
       "3    4    D  452.0\n",
       "4    5    E  348.0\n",
       "5    6    F  299.0\n",
       "6    7    G  490.0\n",
       "7    8    H  372.0\n",
       "8    9    I  340.0\n",
       "9   10    J  415.0\n",
       "10  10    J  415.0"
      ]
     },
     "execution_count": 12,
     "metadata": {},
     "output_type": "execute_result"
    }
   ],
   "source": [
    "practisedata[['ID','Name','Marks']]"
   ]
  },
  {
   "cell_type": "code",
   "execution_count": 13,
   "metadata": {},
   "outputs": [
    {
     "data": {
      "text/html": [
       "<div>\n",
       "<style scoped>\n",
       "    .dataframe tbody tr th:only-of-type {\n",
       "        vertical-align: middle;\n",
       "    }\n",
       "\n",
       "    .dataframe tbody tr th {\n",
       "        vertical-align: top;\n",
       "    }\n",
       "\n",
       "    .dataframe thead th {\n",
       "        text-align: right;\n",
       "    }\n",
       "</style>\n",
       "<table border=\"1\" class=\"dataframe\">\n",
       "  <thead>\n",
       "    <tr style=\"text-align: right;\">\n",
       "      <th></th>\n",
       "      <th>Name</th>\n",
       "      <th>Gender</th>\n",
       "      <th>Absent</th>\n",
       "    </tr>\n",
       "  </thead>\n",
       "  <tbody>\n",
       "    <tr>\n",
       "      <th>1</th>\n",
       "      <td>B</td>\n",
       "      <td>F</td>\n",
       "      <td>3.0</td>\n",
       "    </tr>\n",
       "    <tr>\n",
       "      <th>2</th>\n",
       "      <td>C</td>\n",
       "      <td>M</td>\n",
       "      <td>6.0</td>\n",
       "    </tr>\n",
       "    <tr>\n",
       "      <th>4</th>\n",
       "      <td>E</td>\n",
       "      <td>F</td>\n",
       "      <td>8.0</td>\n",
       "    </tr>\n",
       "  </tbody>\n",
       "</table>\n",
       "</div>"
      ],
      "text/plain": [
       "  Name Gender  Absent\n",
       "1    B      F     3.0\n",
       "2    C      M     6.0\n",
       "4    E      F     8.0"
      ]
     },
     "execution_count": 13,
     "metadata": {},
     "output_type": "execute_result"
    }
   ],
   "source": [
    "practisedata.iloc[[1,2,4],[1,2,5]]"
   ]
  },
  {
   "cell_type": "code",
   "execution_count": 14,
   "metadata": {
    "scrolled": true
   },
   "outputs": [
    {
     "data": {
      "text/html": [
       "<div>\n",
       "<style scoped>\n",
       "    .dataframe tbody tr th:only-of-type {\n",
       "        vertical-align: middle;\n",
       "    }\n",
       "\n",
       "    .dataframe tbody tr th {\n",
       "        vertical-align: top;\n",
       "    }\n",
       "\n",
       "    .dataframe thead th {\n",
       "        text-align: right;\n",
       "    }\n",
       "</style>\n",
       "<table border=\"1\" class=\"dataframe\">\n",
       "  <thead>\n",
       "    <tr style=\"text-align: right;\">\n",
       "      <th></th>\n",
       "      <th>ID</th>\n",
       "      <th>Name</th>\n",
       "      <th>Gender</th>\n",
       "      <th>Age</th>\n",
       "      <th>School</th>\n",
       "      <th>Absent</th>\n",
       "      <th>Marks</th>\n",
       "    </tr>\n",
       "  </thead>\n",
       "  <tbody>\n",
       "    <tr>\n",
       "      <th>1</th>\n",
       "      <td>2</td>\n",
       "      <td>B</td>\n",
       "      <td>F</td>\n",
       "      <td>24.0</td>\n",
       "      <td>St Thomas</td>\n",
       "      <td>3.0</td>\n",
       "      <td>387.0</td>\n",
       "    </tr>\n",
       "    <tr>\n",
       "      <th>2</th>\n",
       "      <td>3</td>\n",
       "      <td>C</td>\n",
       "      <td>M</td>\n",
       "      <td>19.0</td>\n",
       "      <td>St Marys</td>\n",
       "      <td>6.0</td>\n",
       "      <td>NaN</td>\n",
       "    </tr>\n",
       "    <tr>\n",
       "      <th>4</th>\n",
       "      <td>5</td>\n",
       "      <td>E</td>\n",
       "      <td>F</td>\n",
       "      <td>21.0</td>\n",
       "      <td>St Marys</td>\n",
       "      <td>8.0</td>\n",
       "      <td>348.0</td>\n",
       "    </tr>\n",
       "  </tbody>\n",
       "</table>\n",
       "</div>"
      ],
      "text/plain": [
       "   ID Name Gender   Age     School  Absent  Marks\n",
       "1   2    B      F  24.0  St Thomas     3.0  387.0\n",
       "2   3    C      M  19.0   St Marys     6.0    NaN\n",
       "4   5    E      F  21.0   St Marys     8.0  348.0"
      ]
     },
     "execution_count": 14,
     "metadata": {},
     "output_type": "execute_result"
    }
   ],
   "source": [
    "practisedata.iloc[[1,2,4],:]"
   ]
  },
  {
   "cell_type": "code",
   "execution_count": 15,
   "metadata": {},
   "outputs": [
    {
     "data": {
      "text/plain": [
       "0      1\n",
       "1      2\n",
       "2      3\n",
       "3      4\n",
       "4      5\n",
       "5      6\n",
       "6      7\n",
       "7      8\n",
       "8      9\n",
       "9     10\n",
       "10    10\n",
       "Name: ID, dtype: int64"
      ]
     },
     "execution_count": 15,
     "metadata": {},
     "output_type": "execute_result"
    }
   ],
   "source": [
    "practisedata.loc[:,'ID']"
   ]
  },
  {
   "cell_type": "code",
   "execution_count": 16,
   "metadata": {},
   "outputs": [
    {
     "data": {
      "text/plain": [
       "1    2\n",
       "2    3\n",
       "Name: ID, dtype: int64"
      ]
     },
     "execution_count": 16,
     "metadata": {},
     "output_type": "execute_result"
    }
   ],
   "source": [
    "practisedata.loc[1:2,'ID']"
   ]
  },
  {
   "cell_type": "code",
   "execution_count": 17,
   "metadata": {},
   "outputs": [
    {
     "data": {
      "text/html": [
       "<div>\n",
       "<style scoped>\n",
       "    .dataframe tbody tr th:only-of-type {\n",
       "        vertical-align: middle;\n",
       "    }\n",
       "\n",
       "    .dataframe tbody tr th {\n",
       "        vertical-align: top;\n",
       "    }\n",
       "\n",
       "    .dataframe thead th {\n",
       "        text-align: right;\n",
       "    }\n",
       "</style>\n",
       "<table border=\"1\" class=\"dataframe\">\n",
       "  <thead>\n",
       "    <tr style=\"text-align: right;\">\n",
       "      <th></th>\n",
       "      <th>ID</th>\n",
       "      <th>Name</th>\n",
       "    </tr>\n",
       "  </thead>\n",
       "  <tbody>\n",
       "    <tr>\n",
       "      <th>1</th>\n",
       "      <td>2</td>\n",
       "      <td>B</td>\n",
       "    </tr>\n",
       "    <tr>\n",
       "      <th>2</th>\n",
       "      <td>3</td>\n",
       "      <td>C</td>\n",
       "    </tr>\n",
       "  </tbody>\n",
       "</table>\n",
       "</div>"
      ],
      "text/plain": [
       "   ID Name\n",
       "1   2    B\n",
       "2   3    C"
      ]
     },
     "execution_count": 17,
     "metadata": {},
     "output_type": "execute_result"
    }
   ],
   "source": [
    "practisedata.loc[1:2,['ID', 'Name']]"
   ]
  },
  {
   "cell_type": "code",
   "execution_count": 18,
   "metadata": {},
   "outputs": [
    {
     "data": {
      "text/html": [
       "<div>\n",
       "<style scoped>\n",
       "    .dataframe tbody tr th:only-of-type {\n",
       "        vertical-align: middle;\n",
       "    }\n",
       "\n",
       "    .dataframe tbody tr th {\n",
       "        vertical-align: top;\n",
       "    }\n",
       "\n",
       "    .dataframe thead th {\n",
       "        text-align: right;\n",
       "    }\n",
       "</style>\n",
       "<table border=\"1\" class=\"dataframe\">\n",
       "  <thead>\n",
       "    <tr style=\"text-align: right;\">\n",
       "      <th></th>\n",
       "      <th>ID</th>\n",
       "      <th>Name</th>\n",
       "      <th>Gender</th>\n",
       "      <th>Age</th>\n",
       "      <th>School</th>\n",
       "      <th>Absent</th>\n",
       "      <th>Marks</th>\n",
       "    </tr>\n",
       "  </thead>\n",
       "  <tbody>\n",
       "    <tr>\n",
       "      <th>1</th>\n",
       "      <td>2</td>\n",
       "      <td>B</td>\n",
       "      <td>F</td>\n",
       "      <td>24.0</td>\n",
       "      <td>St Thomas</td>\n",
       "      <td>3.0</td>\n",
       "      <td>387.0</td>\n",
       "    </tr>\n",
       "    <tr>\n",
       "      <th>2</th>\n",
       "      <td>3</td>\n",
       "      <td>C</td>\n",
       "      <td>M</td>\n",
       "      <td>19.0</td>\n",
       "      <td>St Marys</td>\n",
       "      <td>6.0</td>\n",
       "      <td>NaN</td>\n",
       "    </tr>\n",
       "    <tr>\n",
       "      <th>4</th>\n",
       "      <td>5</td>\n",
       "      <td>E</td>\n",
       "      <td>F</td>\n",
       "      <td>21.0</td>\n",
       "      <td>St Marys</td>\n",
       "      <td>8.0</td>\n",
       "      <td>348.0</td>\n",
       "    </tr>\n",
       "  </tbody>\n",
       "</table>\n",
       "</div>"
      ],
      "text/plain": [
       "   ID Name Gender   Age     School  Absent  Marks\n",
       "1   2    B      F  24.0  St Thomas     3.0  387.0\n",
       "2   3    C      M  19.0   St Marys     6.0    NaN\n",
       "4   5    E      F  21.0   St Marys     8.0  348.0"
      ]
     },
     "execution_count": 18,
     "metadata": {},
     "output_type": "execute_result"
    }
   ],
   "source": [
    "practisedata.loc[[1,2,4],:]"
   ]
  },
  {
   "cell_type": "code",
   "execution_count": 19,
   "metadata": {},
   "outputs": [
    {
     "data": {
      "text/plain": [
       "0      True\n",
       "1     False\n",
       "2     False\n",
       "3      True\n",
       "4     False\n",
       "5     False\n",
       "6      True\n",
       "7     False\n",
       "8     False\n",
       "9     False\n",
       "10    False\n",
       "dtype: bool"
      ]
     },
     "execution_count": 19,
     "metadata": {},
     "output_type": "execute_result"
    }
   ],
   "source": [
    "(practisedata.Absent<5) & (practisedata.Marks>400)"
   ]
  },
  {
   "cell_type": "code",
   "execution_count": 20,
   "metadata": {},
   "outputs": [
    {
     "data": {
      "text/html": [
       "<div>\n",
       "<style scoped>\n",
       "    .dataframe tbody tr th:only-of-type {\n",
       "        vertical-align: middle;\n",
       "    }\n",
       "\n",
       "    .dataframe tbody tr th {\n",
       "        vertical-align: top;\n",
       "    }\n",
       "\n",
       "    .dataframe thead th {\n",
       "        text-align: right;\n",
       "    }\n",
       "</style>\n",
       "<table border=\"1\" class=\"dataframe\">\n",
       "  <thead>\n",
       "    <tr style=\"text-align: right;\">\n",
       "      <th></th>\n",
       "      <th>ID</th>\n",
       "      <th>Name</th>\n",
       "      <th>Gender</th>\n",
       "      <th>Age</th>\n",
       "      <th>School</th>\n",
       "      <th>Absent</th>\n",
       "      <th>Marks</th>\n",
       "    </tr>\n",
       "  </thead>\n",
       "  <tbody>\n",
       "    <tr>\n",
       "      <th>0</th>\n",
       "      <td>1</td>\n",
       "      <td>A</td>\n",
       "      <td>M</td>\n",
       "      <td>20.0</td>\n",
       "      <td>St Thomas</td>\n",
       "      <td>2.0</td>\n",
       "      <td>402.0</td>\n",
       "    </tr>\n",
       "    <tr>\n",
       "      <th>3</th>\n",
       "      <td>4</td>\n",
       "      <td>D</td>\n",
       "      <td>M</td>\n",
       "      <td>NaN</td>\n",
       "      <td>St Thomas</td>\n",
       "      <td>0.0</td>\n",
       "      <td>452.0</td>\n",
       "    </tr>\n",
       "    <tr>\n",
       "      <th>6</th>\n",
       "      <td>7</td>\n",
       "      <td>G</td>\n",
       "      <td>M</td>\n",
       "      <td>34.0</td>\n",
       "      <td>St Thomas</td>\n",
       "      <td>2.0</td>\n",
       "      <td>490.0</td>\n",
       "    </tr>\n",
       "  </tbody>\n",
       "</table>\n",
       "</div>"
      ],
      "text/plain": [
       "   ID Name Gender   Age     School  Absent  Marks\n",
       "0   1    A      M  20.0  St Thomas     2.0  402.0\n",
       "3   4    D      M   NaN  St Thomas     0.0  452.0\n",
       "6   7    G      M  34.0  St Thomas     2.0  490.0"
      ]
     },
     "execution_count": 20,
     "metadata": {},
     "output_type": "execute_result"
    }
   ],
   "source": [
    "practisedata[(practisedata.Absent<5) & (practisedata.Marks>400)]"
   ]
  },
  {
   "cell_type": "markdown",
   "metadata": {},
   "source": [
    "New variables"
   ]
  },
  {
   "cell_type": "code",
   "execution_count": 21,
   "metadata": {},
   "outputs": [
    {
     "data": {
      "text/plain": [
       "Index(['ID', 'Name', 'Gender', 'Age', 'School', 'Absent', 'Marks'], dtype='object')"
      ]
     },
     "execution_count": 21,
     "metadata": {},
     "output_type": "execute_result"
    }
   ],
   "source": [
    "practisedata.columns"
   ]
  },
  {
   "cell_type": "code",
   "execution_count": 22,
   "metadata": {},
   "outputs": [],
   "source": [
    "practisedata['Percentage']=(practisedata['Marks']/500)*100"
   ]
  },
  {
   "cell_type": "code",
   "execution_count": 23,
   "metadata": {},
   "outputs": [
    {
     "data": {
      "text/html": [
       "<div>\n",
       "<style scoped>\n",
       "    .dataframe tbody tr th:only-of-type {\n",
       "        vertical-align: middle;\n",
       "    }\n",
       "\n",
       "    .dataframe tbody tr th {\n",
       "        vertical-align: top;\n",
       "    }\n",
       "\n",
       "    .dataframe thead th {\n",
       "        text-align: right;\n",
       "    }\n",
       "</style>\n",
       "<table border=\"1\" class=\"dataframe\">\n",
       "  <thead>\n",
       "    <tr style=\"text-align: right;\">\n",
       "      <th></th>\n",
       "      <th>ID</th>\n",
       "      <th>Name</th>\n",
       "      <th>Gender</th>\n",
       "      <th>Age</th>\n",
       "      <th>School</th>\n",
       "      <th>Absent</th>\n",
       "      <th>Marks</th>\n",
       "      <th>Percentage</th>\n",
       "    </tr>\n",
       "  </thead>\n",
       "  <tbody>\n",
       "    <tr>\n",
       "      <th>0</th>\n",
       "      <td>1</td>\n",
       "      <td>A</td>\n",
       "      <td>M</td>\n",
       "      <td>20.0</td>\n",
       "      <td>St Thomas</td>\n",
       "      <td>2.0</td>\n",
       "      <td>402.0</td>\n",
       "      <td>80.4</td>\n",
       "    </tr>\n",
       "    <tr>\n",
       "      <th>1</th>\n",
       "      <td>2</td>\n",
       "      <td>B</td>\n",
       "      <td>F</td>\n",
       "      <td>24.0</td>\n",
       "      <td>St Thomas</td>\n",
       "      <td>3.0</td>\n",
       "      <td>387.0</td>\n",
       "      <td>77.4</td>\n",
       "    </tr>\n",
       "    <tr>\n",
       "      <th>2</th>\n",
       "      <td>3</td>\n",
       "      <td>C</td>\n",
       "      <td>M</td>\n",
       "      <td>19.0</td>\n",
       "      <td>St Marys</td>\n",
       "      <td>6.0</td>\n",
       "      <td>NaN</td>\n",
       "      <td>NaN</td>\n",
       "    </tr>\n",
       "    <tr>\n",
       "      <th>3</th>\n",
       "      <td>4</td>\n",
       "      <td>D</td>\n",
       "      <td>M</td>\n",
       "      <td>NaN</td>\n",
       "      <td>St Thomas</td>\n",
       "      <td>0.0</td>\n",
       "      <td>452.0</td>\n",
       "      <td>90.4</td>\n",
       "    </tr>\n",
       "    <tr>\n",
       "      <th>4</th>\n",
       "      <td>5</td>\n",
       "      <td>E</td>\n",
       "      <td>F</td>\n",
       "      <td>21.0</td>\n",
       "      <td>St Marys</td>\n",
       "      <td>8.0</td>\n",
       "      <td>348.0</td>\n",
       "      <td>69.6</td>\n",
       "    </tr>\n",
       "  </tbody>\n",
       "</table>\n",
       "</div>"
      ],
      "text/plain": [
       "   ID Name Gender   Age     School  Absent  Marks  Percentage\n",
       "0   1    A      M  20.0  St Thomas     2.0  402.0        80.4\n",
       "1   2    B      F  24.0  St Thomas     3.0  387.0        77.4\n",
       "2   3    C      M  19.0   St Marys     6.0    NaN         NaN\n",
       "3   4    D      M   NaN  St Thomas     0.0  452.0        90.4\n",
       "4   5    E      F  21.0   St Marys     8.0  348.0        69.6"
      ]
     },
     "execution_count": 23,
     "metadata": {},
     "output_type": "execute_result"
    }
   ],
   "source": [
    "practisedata.head()"
   ]
  },
  {
   "cell_type": "code",
   "execution_count": 24,
   "metadata": {},
   "outputs": [
    {
     "data": {
      "text/plain": [
       "Index(['ID', 'Name', 'Gender', 'Age', 'School', 'Absent', 'Marks',\n",
       "       'Percentage'],\n",
       "      dtype='object')"
      ]
     },
     "execution_count": 24,
     "metadata": {},
     "output_type": "execute_result"
    }
   ],
   "source": [
    "practisedata.columns"
   ]
  },
  {
   "cell_type": "markdown",
   "metadata": {},
   "source": [
    "Dropping variables"
   ]
  },
  {
   "cell_type": "code",
   "execution_count": 26,
   "metadata": {},
   "outputs": [],
   "source": [
    "practisedata1=practisedata.copy()"
   ]
  },
  {
   "cell_type": "code",
   "execution_count": 27,
   "metadata": {},
   "outputs": [
    {
     "data": {
      "text/html": [
       "<div>\n",
       "<style scoped>\n",
       "    .dataframe tbody tr th:only-of-type {\n",
       "        vertical-align: middle;\n",
       "    }\n",
       "\n",
       "    .dataframe tbody tr th {\n",
       "        vertical-align: top;\n",
       "    }\n",
       "\n",
       "    .dataframe thead th {\n",
       "        text-align: right;\n",
       "    }\n",
       "</style>\n",
       "<table border=\"1\" class=\"dataframe\">\n",
       "  <thead>\n",
       "    <tr style=\"text-align: right;\">\n",
       "      <th></th>\n",
       "      <th>ID</th>\n",
       "      <th>Name</th>\n",
       "      <th>Gender</th>\n",
       "      <th>Age</th>\n",
       "      <th>School</th>\n",
       "      <th>Absent</th>\n",
       "      <th>Marks</th>\n",
       "      <th>Percentage</th>\n",
       "    </tr>\n",
       "  </thead>\n",
       "  <tbody>\n",
       "    <tr>\n",
       "      <th>0</th>\n",
       "      <td>1</td>\n",
       "      <td>A</td>\n",
       "      <td>M</td>\n",
       "      <td>20.0</td>\n",
       "      <td>St Thomas</td>\n",
       "      <td>2.0</td>\n",
       "      <td>402.0</td>\n",
       "      <td>80.4</td>\n",
       "    </tr>\n",
       "    <tr>\n",
       "      <th>1</th>\n",
       "      <td>2</td>\n",
       "      <td>B</td>\n",
       "      <td>F</td>\n",
       "      <td>24.0</td>\n",
       "      <td>St Thomas</td>\n",
       "      <td>3.0</td>\n",
       "      <td>387.0</td>\n",
       "      <td>77.4</td>\n",
       "    </tr>\n",
       "    <tr>\n",
       "      <th>2</th>\n",
       "      <td>3</td>\n",
       "      <td>C</td>\n",
       "      <td>M</td>\n",
       "      <td>19.0</td>\n",
       "      <td>St Marys</td>\n",
       "      <td>6.0</td>\n",
       "      <td>NaN</td>\n",
       "      <td>NaN</td>\n",
       "    </tr>\n",
       "    <tr>\n",
       "      <th>3</th>\n",
       "      <td>4</td>\n",
       "      <td>D</td>\n",
       "      <td>M</td>\n",
       "      <td>NaN</td>\n",
       "      <td>St Thomas</td>\n",
       "      <td>0.0</td>\n",
       "      <td>452.0</td>\n",
       "      <td>90.4</td>\n",
       "    </tr>\n",
       "    <tr>\n",
       "      <th>4</th>\n",
       "      <td>5</td>\n",
       "      <td>E</td>\n",
       "      <td>F</td>\n",
       "      <td>21.0</td>\n",
       "      <td>St Marys</td>\n",
       "      <td>8.0</td>\n",
       "      <td>348.0</td>\n",
       "      <td>69.6</td>\n",
       "    </tr>\n",
       "  </tbody>\n",
       "</table>\n",
       "</div>"
      ],
      "text/plain": [
       "   ID Name Gender   Age     School  Absent  Marks  Percentage\n",
       "0   1    A      M  20.0  St Thomas     2.0  402.0        80.4\n",
       "1   2    B      F  24.0  St Thomas     3.0  387.0        77.4\n",
       "2   3    C      M  19.0   St Marys     6.0    NaN         NaN\n",
       "3   4    D      M   NaN  St Thomas     0.0  452.0        90.4\n",
       "4   5    E      F  21.0   St Marys     8.0  348.0        69.6"
      ]
     },
     "execution_count": 27,
     "metadata": {},
     "output_type": "execute_result"
    }
   ],
   "source": [
    "practisedata1.head()"
   ]
  },
  {
   "cell_type": "code",
   "execution_count": 28,
   "metadata": {},
   "outputs": [
    {
     "data": {
      "text/html": [
       "<div>\n",
       "<style scoped>\n",
       "    .dataframe tbody tr th:only-of-type {\n",
       "        vertical-align: middle;\n",
       "    }\n",
       "\n",
       "    .dataframe tbody tr th {\n",
       "        vertical-align: top;\n",
       "    }\n",
       "\n",
       "    .dataframe thead th {\n",
       "        text-align: right;\n",
       "    }\n",
       "</style>\n",
       "<table border=\"1\" class=\"dataframe\">\n",
       "  <thead>\n",
       "    <tr style=\"text-align: right;\">\n",
       "      <th></th>\n",
       "      <th>ID</th>\n",
       "      <th>Name</th>\n",
       "      <th>Gender</th>\n",
       "      <th>Age</th>\n",
       "      <th>School</th>\n",
       "      <th>Absent</th>\n",
       "      <th>Marks</th>\n",
       "      <th>Percentage</th>\n",
       "    </tr>\n",
       "  </thead>\n",
       "  <tbody>\n",
       "    <tr>\n",
       "      <th>0</th>\n",
       "      <td>1</td>\n",
       "      <td>A</td>\n",
       "      <td>M</td>\n",
       "      <td>20.0</td>\n",
       "      <td>St Thomas</td>\n",
       "      <td>2.0</td>\n",
       "      <td>402.0</td>\n",
       "      <td>80.4</td>\n",
       "    </tr>\n",
       "    <tr>\n",
       "      <th>1</th>\n",
       "      <td>2</td>\n",
       "      <td>B</td>\n",
       "      <td>F</td>\n",
       "      <td>24.0</td>\n",
       "      <td>St Thomas</td>\n",
       "      <td>3.0</td>\n",
       "      <td>387.0</td>\n",
       "      <td>77.4</td>\n",
       "    </tr>\n",
       "    <tr>\n",
       "      <th>2</th>\n",
       "      <td>3</td>\n",
       "      <td>C</td>\n",
       "      <td>M</td>\n",
       "      <td>19.0</td>\n",
       "      <td>St Marys</td>\n",
       "      <td>6.0</td>\n",
       "      <td>NaN</td>\n",
       "      <td>NaN</td>\n",
       "    </tr>\n",
       "    <tr>\n",
       "      <th>3</th>\n",
       "      <td>4</td>\n",
       "      <td>D</td>\n",
       "      <td>M</td>\n",
       "      <td>NaN</td>\n",
       "      <td>St Thomas</td>\n",
       "      <td>0.0</td>\n",
       "      <td>452.0</td>\n",
       "      <td>90.4</td>\n",
       "    </tr>\n",
       "    <tr>\n",
       "      <th>4</th>\n",
       "      <td>5</td>\n",
       "      <td>E</td>\n",
       "      <td>F</td>\n",
       "      <td>21.0</td>\n",
       "      <td>St Marys</td>\n",
       "      <td>8.0</td>\n",
       "      <td>348.0</td>\n",
       "      <td>69.6</td>\n",
       "    </tr>\n",
       "    <tr>\n",
       "      <th>5</th>\n",
       "      <td>6</td>\n",
       "      <td>F</td>\n",
       "      <td>F</td>\n",
       "      <td>19.0</td>\n",
       "      <td>St Marys</td>\n",
       "      <td>NaN</td>\n",
       "      <td>299.0</td>\n",
       "      <td>59.8</td>\n",
       "    </tr>\n",
       "    <tr>\n",
       "      <th>6</th>\n",
       "      <td>7</td>\n",
       "      <td>G</td>\n",
       "      <td>M</td>\n",
       "      <td>34.0</td>\n",
       "      <td>St Thomas</td>\n",
       "      <td>2.0</td>\n",
       "      <td>490.0</td>\n",
       "      <td>98.0</td>\n",
       "    </tr>\n",
       "    <tr>\n",
       "      <th>7</th>\n",
       "      <td>8</td>\n",
       "      <td>H</td>\n",
       "      <td>M</td>\n",
       "      <td>NaN</td>\n",
       "      <td>St Thomas</td>\n",
       "      <td>8.0</td>\n",
       "      <td>372.0</td>\n",
       "      <td>74.4</td>\n",
       "    </tr>\n",
       "    <tr>\n",
       "      <th>8</th>\n",
       "      <td>9</td>\n",
       "      <td>I</td>\n",
       "      <td>F</td>\n",
       "      <td>21.0</td>\n",
       "      <td>St Thomas</td>\n",
       "      <td>12.0</td>\n",
       "      <td>340.0</td>\n",
       "      <td>68.0</td>\n",
       "    </tr>\n",
       "    <tr>\n",
       "      <th>9</th>\n",
       "      <td>10</td>\n",
       "      <td>J</td>\n",
       "      <td>F</td>\n",
       "      <td>23.0</td>\n",
       "      <td>St Marys</td>\n",
       "      <td>10.0</td>\n",
       "      <td>415.0</td>\n",
       "      <td>83.0</td>\n",
       "    </tr>\n",
       "    <tr>\n",
       "      <th>10</th>\n",
       "      <td>10</td>\n",
       "      <td>J</td>\n",
       "      <td>F</td>\n",
       "      <td>23.0</td>\n",
       "      <td>St Marys</td>\n",
       "      <td>10.0</td>\n",
       "      <td>415.0</td>\n",
       "      <td>83.0</td>\n",
       "    </tr>\n",
       "  </tbody>\n",
       "</table>\n",
       "</div>"
      ],
      "text/plain": [
       "    ID Name Gender   Age     School  Absent  Marks  Percentage\n",
       "0    1    A      M  20.0  St Thomas     2.0  402.0        80.4\n",
       "1    2    B      F  24.0  St Thomas     3.0  387.0        77.4\n",
       "2    3    C      M  19.0   St Marys     6.0    NaN         NaN\n",
       "3    4    D      M   NaN  St Thomas     0.0  452.0        90.4\n",
       "4    5    E      F  21.0   St Marys     8.0  348.0        69.6\n",
       "5    6    F      F  19.0   St Marys     NaN  299.0        59.8\n",
       "6    7    G      M  34.0  St Thomas     2.0  490.0        98.0\n",
       "7    8    H      M   NaN  St Thomas     8.0  372.0        74.4\n",
       "8    9    I      F  21.0  St Thomas    12.0  340.0        68.0\n",
       "9   10    J      F  23.0   St Marys    10.0  415.0        83.0\n",
       "10  10    J      F  23.0   St Marys    10.0  415.0        83.0"
      ]
     },
     "execution_count": 28,
     "metadata": {},
     "output_type": "execute_result"
    }
   ],
   "source": [
    "practisedata1.drop(['Percentage'],axis=1)\n",
    "practisedata1"
   ]
  },
  {
   "cell_type": "code",
   "execution_count": 29,
   "metadata": {},
   "outputs": [
    {
     "data": {
      "text/html": [
       "<div>\n",
       "<style scoped>\n",
       "    .dataframe tbody tr th:only-of-type {\n",
       "        vertical-align: middle;\n",
       "    }\n",
       "\n",
       "    .dataframe tbody tr th {\n",
       "        vertical-align: top;\n",
       "    }\n",
       "\n",
       "    .dataframe thead th {\n",
       "        text-align: right;\n",
       "    }\n",
       "</style>\n",
       "<table border=\"1\" class=\"dataframe\">\n",
       "  <thead>\n",
       "    <tr style=\"text-align: right;\">\n",
       "      <th></th>\n",
       "      <th>ID</th>\n",
       "      <th>Name</th>\n",
       "      <th>Gender</th>\n",
       "      <th>Age</th>\n",
       "      <th>School</th>\n",
       "      <th>Absent</th>\n",
       "      <th>Marks</th>\n",
       "    </tr>\n",
       "  </thead>\n",
       "  <tbody>\n",
       "    <tr>\n",
       "      <th>0</th>\n",
       "      <td>1</td>\n",
       "      <td>A</td>\n",
       "      <td>M</td>\n",
       "      <td>20.0</td>\n",
       "      <td>St Thomas</td>\n",
       "      <td>2.0</td>\n",
       "      <td>402.0</td>\n",
       "    </tr>\n",
       "    <tr>\n",
       "      <th>1</th>\n",
       "      <td>2</td>\n",
       "      <td>B</td>\n",
       "      <td>F</td>\n",
       "      <td>24.0</td>\n",
       "      <td>St Thomas</td>\n",
       "      <td>3.0</td>\n",
       "      <td>387.0</td>\n",
       "    </tr>\n",
       "    <tr>\n",
       "      <th>2</th>\n",
       "      <td>3</td>\n",
       "      <td>C</td>\n",
       "      <td>M</td>\n",
       "      <td>19.0</td>\n",
       "      <td>St Marys</td>\n",
       "      <td>6.0</td>\n",
       "      <td>NaN</td>\n",
       "    </tr>\n",
       "    <tr>\n",
       "      <th>3</th>\n",
       "      <td>4</td>\n",
       "      <td>D</td>\n",
       "      <td>M</td>\n",
       "      <td>NaN</td>\n",
       "      <td>St Thomas</td>\n",
       "      <td>0.0</td>\n",
       "      <td>452.0</td>\n",
       "    </tr>\n",
       "    <tr>\n",
       "      <th>4</th>\n",
       "      <td>5</td>\n",
       "      <td>E</td>\n",
       "      <td>F</td>\n",
       "      <td>21.0</td>\n",
       "      <td>St Marys</td>\n",
       "      <td>8.0</td>\n",
       "      <td>348.0</td>\n",
       "    </tr>\n",
       "    <tr>\n",
       "      <th>5</th>\n",
       "      <td>6</td>\n",
       "      <td>F</td>\n",
       "      <td>F</td>\n",
       "      <td>19.0</td>\n",
       "      <td>St Marys</td>\n",
       "      <td>NaN</td>\n",
       "      <td>299.0</td>\n",
       "    </tr>\n",
       "    <tr>\n",
       "      <th>6</th>\n",
       "      <td>7</td>\n",
       "      <td>G</td>\n",
       "      <td>M</td>\n",
       "      <td>34.0</td>\n",
       "      <td>St Thomas</td>\n",
       "      <td>2.0</td>\n",
       "      <td>490.0</td>\n",
       "    </tr>\n",
       "    <tr>\n",
       "      <th>7</th>\n",
       "      <td>8</td>\n",
       "      <td>H</td>\n",
       "      <td>M</td>\n",
       "      <td>NaN</td>\n",
       "      <td>St Thomas</td>\n",
       "      <td>8.0</td>\n",
       "      <td>372.0</td>\n",
       "    </tr>\n",
       "    <tr>\n",
       "      <th>8</th>\n",
       "      <td>9</td>\n",
       "      <td>I</td>\n",
       "      <td>F</td>\n",
       "      <td>21.0</td>\n",
       "      <td>St Thomas</td>\n",
       "      <td>12.0</td>\n",
       "      <td>340.0</td>\n",
       "    </tr>\n",
       "    <tr>\n",
       "      <th>9</th>\n",
       "      <td>10</td>\n",
       "      <td>J</td>\n",
       "      <td>F</td>\n",
       "      <td>23.0</td>\n",
       "      <td>St Marys</td>\n",
       "      <td>10.0</td>\n",
       "      <td>415.0</td>\n",
       "    </tr>\n",
       "    <tr>\n",
       "      <th>10</th>\n",
       "      <td>10</td>\n",
       "      <td>J</td>\n",
       "      <td>F</td>\n",
       "      <td>23.0</td>\n",
       "      <td>St Marys</td>\n",
       "      <td>10.0</td>\n",
       "      <td>415.0</td>\n",
       "    </tr>\n",
       "  </tbody>\n",
       "</table>\n",
       "</div>"
      ],
      "text/plain": [
       "    ID Name Gender   Age     School  Absent  Marks\n",
       "0    1    A      M  20.0  St Thomas     2.0  402.0\n",
       "1    2    B      F  24.0  St Thomas     3.0  387.0\n",
       "2    3    C      M  19.0   St Marys     6.0    NaN\n",
       "3    4    D      M   NaN  St Thomas     0.0  452.0\n",
       "4    5    E      F  21.0   St Marys     8.0  348.0\n",
       "5    6    F      F  19.0   St Marys     NaN  299.0\n",
       "6    7    G      M  34.0  St Thomas     2.0  490.0\n",
       "7    8    H      M   NaN  St Thomas     8.0  372.0\n",
       "8    9    I      F  21.0  St Thomas    12.0  340.0\n",
       "9   10    J      F  23.0   St Marys    10.0  415.0\n",
       "10  10    J      F  23.0   St Marys    10.0  415.0"
      ]
     },
     "execution_count": 29,
     "metadata": {},
     "output_type": "execute_result"
    }
   ],
   "source": [
    "practisedata1.drop(['Percentage'],axis=1,inplace=True)\n",
    "practisedata1"
   ]
  },
  {
   "cell_type": "code",
   "execution_count": 30,
   "metadata": {},
   "outputs": [
    {
     "data": {
      "text/plain": [
       "Index(['ID', 'Name', 'Gender', 'Age', 'School', 'Absent', 'Marks'], dtype='object')"
      ]
     },
     "execution_count": 30,
     "metadata": {},
     "output_type": "execute_result"
    }
   ],
   "source": [
    "practisedata1.columns"
   ]
  },
  {
   "cell_type": "code",
   "execution_count": 31,
   "metadata": {},
   "outputs": [
    {
     "data": {
      "text/html": [
       "<div>\n",
       "<style scoped>\n",
       "    .dataframe tbody tr th:only-of-type {\n",
       "        vertical-align: middle;\n",
       "    }\n",
       "\n",
       "    .dataframe tbody tr th {\n",
       "        vertical-align: top;\n",
       "    }\n",
       "\n",
       "    .dataframe thead th {\n",
       "        text-align: right;\n",
       "    }\n",
       "</style>\n",
       "<table border=\"1\" class=\"dataframe\">\n",
       "  <thead>\n",
       "    <tr style=\"text-align: right;\">\n",
       "      <th></th>\n",
       "      <th>ID</th>\n",
       "      <th>Name</th>\n",
       "      <th>Gender</th>\n",
       "      <th>Age</th>\n",
       "      <th>School</th>\n",
       "      <th>Absent</th>\n",
       "      <th>Marks</th>\n",
       "    </tr>\n",
       "  </thead>\n",
       "  <tbody>\n",
       "    <tr>\n",
       "      <th>0</th>\n",
       "      <td>1</td>\n",
       "      <td>A</td>\n",
       "      <td>M</td>\n",
       "      <td>20.0</td>\n",
       "      <td>St Thomas</td>\n",
       "      <td>2.0</td>\n",
       "      <td>402.0</td>\n",
       "    </tr>\n",
       "    <tr>\n",
       "      <th>1</th>\n",
       "      <td>2</td>\n",
       "      <td>B</td>\n",
       "      <td>F</td>\n",
       "      <td>24.0</td>\n",
       "      <td>St Thomas</td>\n",
       "      <td>3.0</td>\n",
       "      <td>387.0</td>\n",
       "    </tr>\n",
       "    <tr>\n",
       "      <th>2</th>\n",
       "      <td>3</td>\n",
       "      <td>C</td>\n",
       "      <td>M</td>\n",
       "      <td>19.0</td>\n",
       "      <td>St Marys</td>\n",
       "      <td>6.0</td>\n",
       "      <td>NaN</td>\n",
       "    </tr>\n",
       "    <tr>\n",
       "      <th>3</th>\n",
       "      <td>4</td>\n",
       "      <td>D</td>\n",
       "      <td>M</td>\n",
       "      <td>NaN</td>\n",
       "      <td>St Thomas</td>\n",
       "      <td>0.0</td>\n",
       "      <td>452.0</td>\n",
       "    </tr>\n",
       "    <tr>\n",
       "      <th>5</th>\n",
       "      <td>6</td>\n",
       "      <td>F</td>\n",
       "      <td>F</td>\n",
       "      <td>19.0</td>\n",
       "      <td>St Marys</td>\n",
       "      <td>NaN</td>\n",
       "      <td>299.0</td>\n",
       "    </tr>\n",
       "  </tbody>\n",
       "</table>\n",
       "</div>"
      ],
      "text/plain": [
       "   ID Name Gender   Age     School  Absent  Marks\n",
       "0   1    A      M  20.0  St Thomas     2.0  402.0\n",
       "1   2    B      F  24.0  St Thomas     3.0  387.0\n",
       "2   3    C      M  19.0   St Marys     6.0    NaN\n",
       "3   4    D      M   NaN  St Thomas     0.0  452.0\n",
       "5   6    F      F  19.0   St Marys     NaN  299.0"
      ]
     },
     "execution_count": 31,
     "metadata": {},
     "output_type": "execute_result"
    }
   ],
   "source": [
    "practisedata1.drop(4,axis=0).head()"
   ]
  },
  {
   "cell_type": "code",
   "execution_count": 32,
   "metadata": {},
   "outputs": [
    {
     "data": {
      "text/plain": [
       "Index(['ID', 'Name', 'Gender', 'Age', 'School', 'Absent', 'Marks',\n",
       "       'Percentage'],\n",
       "      dtype='object')"
      ]
     },
     "execution_count": 32,
     "metadata": {},
     "output_type": "execute_result"
    }
   ],
   "source": [
    "practisedata.columns"
   ]
  },
  {
   "cell_type": "code",
   "execution_count": 33,
   "metadata": {},
   "outputs": [
    {
     "data": {
      "text/plain": [
       "Index(['ID', 'Name', 'Gender', 'Age', 'School', 'Absent', 'Marks'], dtype='object')"
      ]
     },
     "execution_count": 33,
     "metadata": {},
     "output_type": "execute_result"
    }
   ],
   "source": [
    "practisedata1.columns"
   ]
  },
  {
   "cell_type": "code",
   "execution_count": null,
   "metadata": {},
   "outputs": [],
   "source": [
    "#practisedata['Percentage']=(practisedata['Marks']/500)*100"
   ]
  },
  {
   "cell_type": "code",
   "execution_count": 34,
   "metadata": {},
   "outputs": [
    {
     "data": {
      "text/html": [
       "<div>\n",
       "<style scoped>\n",
       "    .dataframe tbody tr th:only-of-type {\n",
       "        vertical-align: middle;\n",
       "    }\n",
       "\n",
       "    .dataframe tbody tr th {\n",
       "        vertical-align: top;\n",
       "    }\n",
       "\n",
       "    .dataframe thead th {\n",
       "        text-align: right;\n",
       "    }\n",
       "</style>\n",
       "<table border=\"1\" class=\"dataframe\">\n",
       "  <thead>\n",
       "    <tr style=\"text-align: right;\">\n",
       "      <th></th>\n",
       "      <th>ID</th>\n",
       "      <th>Name</th>\n",
       "      <th>Gender</th>\n",
       "      <th>Age</th>\n",
       "      <th>School</th>\n",
       "      <th>Absent</th>\n",
       "      <th>Marks</th>\n",
       "      <th>Percentage</th>\n",
       "    </tr>\n",
       "  </thead>\n",
       "  <tbody>\n",
       "    <tr>\n",
       "      <th>0</th>\n",
       "      <td>1</td>\n",
       "      <td>A</td>\n",
       "      <td>M</td>\n",
       "      <td>20.0</td>\n",
       "      <td>St Thomas</td>\n",
       "      <td>2.0</td>\n",
       "      <td>402.0</td>\n",
       "      <td>80.4</td>\n",
       "    </tr>\n",
       "    <tr>\n",
       "      <th>1</th>\n",
       "      <td>2</td>\n",
       "      <td>B</td>\n",
       "      <td>F</td>\n",
       "      <td>24.0</td>\n",
       "      <td>St Thomas</td>\n",
       "      <td>3.0</td>\n",
       "      <td>387.0</td>\n",
       "      <td>77.4</td>\n",
       "    </tr>\n",
       "    <tr>\n",
       "      <th>2</th>\n",
       "      <td>3</td>\n",
       "      <td>C</td>\n",
       "      <td>M</td>\n",
       "      <td>19.0</td>\n",
       "      <td>St Marys</td>\n",
       "      <td>6.0</td>\n",
       "      <td>NaN</td>\n",
       "      <td>NaN</td>\n",
       "    </tr>\n",
       "    <tr>\n",
       "      <th>3</th>\n",
       "      <td>4</td>\n",
       "      <td>D</td>\n",
       "      <td>M</td>\n",
       "      <td>NaN</td>\n",
       "      <td>St Thomas</td>\n",
       "      <td>0.0</td>\n",
       "      <td>452.0</td>\n",
       "      <td>90.4</td>\n",
       "    </tr>\n",
       "    <tr>\n",
       "      <th>4</th>\n",
       "      <td>5</td>\n",
       "      <td>E</td>\n",
       "      <td>F</td>\n",
       "      <td>21.0</td>\n",
       "      <td>St Marys</td>\n",
       "      <td>8.0</td>\n",
       "      <td>348.0</td>\n",
       "      <td>69.6</td>\n",
       "    </tr>\n",
       "    <tr>\n",
       "      <th>5</th>\n",
       "      <td>6</td>\n",
       "      <td>F</td>\n",
       "      <td>F</td>\n",
       "      <td>19.0</td>\n",
       "      <td>St Marys</td>\n",
       "      <td>NaN</td>\n",
       "      <td>299.0</td>\n",
       "      <td>59.8</td>\n",
       "    </tr>\n",
       "    <tr>\n",
       "      <th>6</th>\n",
       "      <td>7</td>\n",
       "      <td>G</td>\n",
       "      <td>M</td>\n",
       "      <td>34.0</td>\n",
       "      <td>St Thomas</td>\n",
       "      <td>2.0</td>\n",
       "      <td>490.0</td>\n",
       "      <td>98.0</td>\n",
       "    </tr>\n",
       "    <tr>\n",
       "      <th>7</th>\n",
       "      <td>8</td>\n",
       "      <td>H</td>\n",
       "      <td>M</td>\n",
       "      <td>NaN</td>\n",
       "      <td>St Thomas</td>\n",
       "      <td>8.0</td>\n",
       "      <td>372.0</td>\n",
       "      <td>74.4</td>\n",
       "    </tr>\n",
       "    <tr>\n",
       "      <th>8</th>\n",
       "      <td>9</td>\n",
       "      <td>I</td>\n",
       "      <td>F</td>\n",
       "      <td>21.0</td>\n",
       "      <td>St Thomas</td>\n",
       "      <td>12.0</td>\n",
       "      <td>340.0</td>\n",
       "      <td>68.0</td>\n",
       "    </tr>\n",
       "    <tr>\n",
       "      <th>9</th>\n",
       "      <td>10</td>\n",
       "      <td>J</td>\n",
       "      <td>F</td>\n",
       "      <td>23.0</td>\n",
       "      <td>St Marys</td>\n",
       "      <td>10.0</td>\n",
       "      <td>415.0</td>\n",
       "      <td>83.0</td>\n",
       "    </tr>\n",
       "    <tr>\n",
       "      <th>10</th>\n",
       "      <td>10</td>\n",
       "      <td>J</td>\n",
       "      <td>F</td>\n",
       "      <td>23.0</td>\n",
       "      <td>St Marys</td>\n",
       "      <td>10.0</td>\n",
       "      <td>415.0</td>\n",
       "      <td>83.0</td>\n",
       "    </tr>\n",
       "  </tbody>\n",
       "</table>\n",
       "</div>"
      ],
      "text/plain": [
       "    ID Name Gender   Age     School  Absent  Marks  Percentage\n",
       "0    1    A      M  20.0  St Thomas     2.0  402.0        80.4\n",
       "1    2    B      F  24.0  St Thomas     3.0  387.0        77.4\n",
       "2    3    C      M  19.0   St Marys     6.0    NaN         NaN\n",
       "3    4    D      M   NaN  St Thomas     0.0  452.0        90.4\n",
       "4    5    E      F  21.0   St Marys     8.0  348.0        69.6\n",
       "5    6    F      F  19.0   St Marys     NaN  299.0        59.8\n",
       "6    7    G      M  34.0  St Thomas     2.0  490.0        98.0\n",
       "7    8    H      M   NaN  St Thomas     8.0  372.0        74.4\n",
       "8    9    I      F  21.0  St Thomas    12.0  340.0        68.0\n",
       "9   10    J      F  23.0   St Marys    10.0  415.0        83.0\n",
       "10  10    J      F  23.0   St Marys    10.0  415.0        83.0"
      ]
     },
     "execution_count": 34,
     "metadata": {},
     "output_type": "execute_result"
    }
   ],
   "source": [
    "practisedata"
   ]
  },
  {
   "cell_type": "markdown",
   "metadata": {},
   "source": [
    "Binning Data"
   ]
  },
  {
   "cell_type": "code",
   "execution_count": 35,
   "metadata": {},
   "outputs": [
    {
     "data": {
      "text/plain": [
       "0    402.0\n",
       "1    387.0\n",
       "2      NaN\n",
       "3    452.0\n",
       "4    348.0\n",
       "Name: Marks, dtype: float64"
      ]
     },
     "execution_count": 35,
     "metadata": {},
     "output_type": "execute_result"
    }
   ],
   "source": [
    "practisedata['Marks'].head()"
   ]
  },
  {
   "cell_type": "code",
   "execution_count": 36,
   "metadata": {},
   "outputs": [
    {
     "data": {
      "text/plain": [
       "0     excellent\n",
       "1     excellent\n",
       "2           NaN\n",
       "3       awesome\n",
       "4         great\n",
       "5         great\n",
       "6       awesome\n",
       "7     excellent\n",
       "8         great\n",
       "9     excellent\n",
       "10    excellent\n",
       "Name: Marks, dtype: category\n",
       "Categories (3, object): [great < excellent < awesome]"
      ]
     },
     "execution_count": 36,
     "metadata": {},
     "output_type": "execute_result"
    }
   ],
   "source": [
    "pd.cut(practisedata['Marks'],3,labels=['great','excellent','awesome'])"
   ]
  },
  {
   "cell_type": "code",
   "execution_count": 37,
   "metadata": {},
   "outputs": [
    {
     "data": {
      "text/plain": [
       "0       awesome\n",
       "1     excellent\n",
       "2           NaN\n",
       "3       awesome\n",
       "4         great\n",
       "5         great\n",
       "6       awesome\n",
       "7     excellent\n",
       "8         great\n",
       "9       awesome\n",
       "10      awesome\n",
       "Name: Marks, dtype: category\n",
       "Categories (3, object): [great < excellent < awesome]"
      ]
     },
     "execution_count": 37,
     "metadata": {},
     "output_type": "execute_result"
    }
   ],
   "source": [
    "pd.cut(practisedata['Marks'],bins=[0, 350,400,500],labels=['great','excellent','awesome'])"
   ]
  },
  {
   "cell_type": "code",
   "execution_count": 38,
   "metadata": {},
   "outputs": [],
   "source": [
    "practisedata['MarksBucket']=pd.cut(practisedata['Marks'],bins=[0, 350,400,500], labels=['great','excellent','awesome'])"
   ]
  },
  {
   "cell_type": "code",
   "execution_count": 39,
   "metadata": {},
   "outputs": [
    {
     "data": {
      "text/html": [
       "<div>\n",
       "<style scoped>\n",
       "    .dataframe tbody tr th:only-of-type {\n",
       "        vertical-align: middle;\n",
       "    }\n",
       "\n",
       "    .dataframe tbody tr th {\n",
       "        vertical-align: top;\n",
       "    }\n",
       "\n",
       "    .dataframe thead th {\n",
       "        text-align: right;\n",
       "    }\n",
       "</style>\n",
       "<table border=\"1\" class=\"dataframe\">\n",
       "  <thead>\n",
       "    <tr style=\"text-align: right;\">\n",
       "      <th></th>\n",
       "      <th>ID</th>\n",
       "      <th>Name</th>\n",
       "      <th>Gender</th>\n",
       "      <th>Age</th>\n",
       "      <th>School</th>\n",
       "      <th>Absent</th>\n",
       "      <th>Marks</th>\n",
       "      <th>Percentage</th>\n",
       "      <th>MarksBucket</th>\n",
       "    </tr>\n",
       "  </thead>\n",
       "  <tbody>\n",
       "    <tr>\n",
       "      <th>0</th>\n",
       "      <td>1</td>\n",
       "      <td>A</td>\n",
       "      <td>M</td>\n",
       "      <td>20.0</td>\n",
       "      <td>St Thomas</td>\n",
       "      <td>2.0</td>\n",
       "      <td>402.0</td>\n",
       "      <td>80.4</td>\n",
       "      <td>awesome</td>\n",
       "    </tr>\n",
       "    <tr>\n",
       "      <th>1</th>\n",
       "      <td>2</td>\n",
       "      <td>B</td>\n",
       "      <td>F</td>\n",
       "      <td>24.0</td>\n",
       "      <td>St Thomas</td>\n",
       "      <td>3.0</td>\n",
       "      <td>387.0</td>\n",
       "      <td>77.4</td>\n",
       "      <td>excellent</td>\n",
       "    </tr>\n",
       "    <tr>\n",
       "      <th>2</th>\n",
       "      <td>3</td>\n",
       "      <td>C</td>\n",
       "      <td>M</td>\n",
       "      <td>19.0</td>\n",
       "      <td>St Marys</td>\n",
       "      <td>6.0</td>\n",
       "      <td>NaN</td>\n",
       "      <td>NaN</td>\n",
       "      <td>NaN</td>\n",
       "    </tr>\n",
       "    <tr>\n",
       "      <th>3</th>\n",
       "      <td>4</td>\n",
       "      <td>D</td>\n",
       "      <td>M</td>\n",
       "      <td>NaN</td>\n",
       "      <td>St Thomas</td>\n",
       "      <td>0.0</td>\n",
       "      <td>452.0</td>\n",
       "      <td>90.4</td>\n",
       "      <td>awesome</td>\n",
       "    </tr>\n",
       "    <tr>\n",
       "      <th>4</th>\n",
       "      <td>5</td>\n",
       "      <td>E</td>\n",
       "      <td>F</td>\n",
       "      <td>21.0</td>\n",
       "      <td>St Marys</td>\n",
       "      <td>8.0</td>\n",
       "      <td>348.0</td>\n",
       "      <td>69.6</td>\n",
       "      <td>great</td>\n",
       "    </tr>\n",
       "    <tr>\n",
       "      <th>5</th>\n",
       "      <td>6</td>\n",
       "      <td>F</td>\n",
       "      <td>F</td>\n",
       "      <td>19.0</td>\n",
       "      <td>St Marys</td>\n",
       "      <td>NaN</td>\n",
       "      <td>299.0</td>\n",
       "      <td>59.8</td>\n",
       "      <td>great</td>\n",
       "    </tr>\n",
       "    <tr>\n",
       "      <th>6</th>\n",
       "      <td>7</td>\n",
       "      <td>G</td>\n",
       "      <td>M</td>\n",
       "      <td>34.0</td>\n",
       "      <td>St Thomas</td>\n",
       "      <td>2.0</td>\n",
       "      <td>490.0</td>\n",
       "      <td>98.0</td>\n",
       "      <td>awesome</td>\n",
       "    </tr>\n",
       "    <tr>\n",
       "      <th>7</th>\n",
       "      <td>8</td>\n",
       "      <td>H</td>\n",
       "      <td>M</td>\n",
       "      <td>NaN</td>\n",
       "      <td>St Thomas</td>\n",
       "      <td>8.0</td>\n",
       "      <td>372.0</td>\n",
       "      <td>74.4</td>\n",
       "      <td>excellent</td>\n",
       "    </tr>\n",
       "    <tr>\n",
       "      <th>8</th>\n",
       "      <td>9</td>\n",
       "      <td>I</td>\n",
       "      <td>F</td>\n",
       "      <td>21.0</td>\n",
       "      <td>St Thomas</td>\n",
       "      <td>12.0</td>\n",
       "      <td>340.0</td>\n",
       "      <td>68.0</td>\n",
       "      <td>great</td>\n",
       "    </tr>\n",
       "    <tr>\n",
       "      <th>9</th>\n",
       "      <td>10</td>\n",
       "      <td>J</td>\n",
       "      <td>F</td>\n",
       "      <td>23.0</td>\n",
       "      <td>St Marys</td>\n",
       "      <td>10.0</td>\n",
       "      <td>415.0</td>\n",
       "      <td>83.0</td>\n",
       "      <td>awesome</td>\n",
       "    </tr>\n",
       "    <tr>\n",
       "      <th>10</th>\n",
       "      <td>10</td>\n",
       "      <td>J</td>\n",
       "      <td>F</td>\n",
       "      <td>23.0</td>\n",
       "      <td>St Marys</td>\n",
       "      <td>10.0</td>\n",
       "      <td>415.0</td>\n",
       "      <td>83.0</td>\n",
       "      <td>awesome</td>\n",
       "    </tr>\n",
       "  </tbody>\n",
       "</table>\n",
       "</div>"
      ],
      "text/plain": [
       "    ID Name Gender   Age     School  Absent  Marks  Percentage MarksBucket\n",
       "0    1    A      M  20.0  St Thomas     2.0  402.0        80.4     awesome\n",
       "1    2    B      F  24.0  St Thomas     3.0  387.0        77.4   excellent\n",
       "2    3    C      M  19.0   St Marys     6.0    NaN         NaN         NaN\n",
       "3    4    D      M   NaN  St Thomas     0.0  452.0        90.4     awesome\n",
       "4    5    E      F  21.0   St Marys     8.0  348.0        69.6       great\n",
       "5    6    F      F  19.0   St Marys     NaN  299.0        59.8       great\n",
       "6    7    G      M  34.0  St Thomas     2.0  490.0        98.0     awesome\n",
       "7    8    H      M   NaN  St Thomas     8.0  372.0        74.4   excellent\n",
       "8    9    I      F  21.0  St Thomas    12.0  340.0        68.0       great\n",
       "9   10    J      F  23.0   St Marys    10.0  415.0        83.0     awesome\n",
       "10  10    J      F  23.0   St Marys    10.0  415.0        83.0     awesome"
      ]
     },
     "execution_count": 39,
     "metadata": {},
     "output_type": "execute_result"
    }
   ],
   "source": [
    "practisedata"
   ]
  },
  {
   "cell_type": "code",
   "execution_count": 40,
   "metadata": {},
   "outputs": [
    {
     "data": {
      "text/plain": [
       "awesome      5\n",
       "great        3\n",
       "excellent    2\n",
       "Name: MarksBucket, dtype: int64"
      ]
     },
     "execution_count": 40,
     "metadata": {},
     "output_type": "execute_result"
    }
   ],
   "source": [
    "practisedata['MarksBucket'].value_counts()"
   ]
  },
  {
   "cell_type": "markdown",
   "metadata": {},
   "source": [
    "Renaming Columns"
   ]
  },
  {
   "cell_type": "code",
   "execution_count": 41,
   "metadata": {},
   "outputs": [
    {
     "data": {
      "text/plain": [
       "Index(['ID', 'Name', 'Gender', 'Age', 'School', 'Absent', 'Marks',\n",
       "       'Percentage', 'MarksBucket'],\n",
       "      dtype='object')"
      ]
     },
     "execution_count": 41,
     "metadata": {},
     "output_type": "execute_result"
    }
   ],
   "source": [
    "practisedata.columns"
   ]
  },
  {
   "cell_type": "code",
   "execution_count": 42,
   "metadata": {},
   "outputs": [],
   "source": [
    "practisedata=practisedata.rename(columns={'Grades': 'Grade', 'Percentage':'Percentages'})"
   ]
  },
  {
   "cell_type": "code",
   "execution_count": 43,
   "metadata": {},
   "outputs": [
    {
     "data": {
      "text/plain": [
       "Index(['ID', 'Name', 'Gender', 'Age', 'School', 'Absent', 'Marks',\n",
       "       'Percentages', 'MarksBucket'],\n",
       "      dtype='object')"
      ]
     },
     "execution_count": 43,
     "metadata": {},
     "output_type": "execute_result"
    }
   ],
   "source": [
    "practisedata.columns"
   ]
  },
  {
   "cell_type": "markdown",
   "metadata": {},
   "source": [
    "Sorting Data"
   ]
  },
  {
   "cell_type": "code",
   "execution_count": 44,
   "metadata": {},
   "outputs": [
    {
     "data": {
      "text/html": [
       "<div>\n",
       "<style scoped>\n",
       "    .dataframe tbody tr th:only-of-type {\n",
       "        vertical-align: middle;\n",
       "    }\n",
       "\n",
       "    .dataframe tbody tr th {\n",
       "        vertical-align: top;\n",
       "    }\n",
       "\n",
       "    .dataframe thead th {\n",
       "        text-align: right;\n",
       "    }\n",
       "</style>\n",
       "<table border=\"1\" class=\"dataframe\">\n",
       "  <thead>\n",
       "    <tr style=\"text-align: right;\">\n",
       "      <th></th>\n",
       "      <th>ID</th>\n",
       "      <th>Name</th>\n",
       "      <th>Gender</th>\n",
       "      <th>Age</th>\n",
       "      <th>School</th>\n",
       "      <th>Absent</th>\n",
       "      <th>Marks</th>\n",
       "      <th>Percentages</th>\n",
       "      <th>MarksBucket</th>\n",
       "    </tr>\n",
       "  </thead>\n",
       "  <tbody>\n",
       "    <tr>\n",
       "      <th>6</th>\n",
       "      <td>7</td>\n",
       "      <td>G</td>\n",
       "      <td>M</td>\n",
       "      <td>34.0</td>\n",
       "      <td>St Thomas</td>\n",
       "      <td>2.0</td>\n",
       "      <td>490.0</td>\n",
       "      <td>98.0</td>\n",
       "      <td>awesome</td>\n",
       "    </tr>\n",
       "    <tr>\n",
       "      <th>3</th>\n",
       "      <td>4</td>\n",
       "      <td>D</td>\n",
       "      <td>M</td>\n",
       "      <td>NaN</td>\n",
       "      <td>St Thomas</td>\n",
       "      <td>0.0</td>\n",
       "      <td>452.0</td>\n",
       "      <td>90.4</td>\n",
       "      <td>awesome</td>\n",
       "    </tr>\n",
       "    <tr>\n",
       "      <th>9</th>\n",
       "      <td>10</td>\n",
       "      <td>J</td>\n",
       "      <td>F</td>\n",
       "      <td>23.0</td>\n",
       "      <td>St Marys</td>\n",
       "      <td>10.0</td>\n",
       "      <td>415.0</td>\n",
       "      <td>83.0</td>\n",
       "      <td>awesome</td>\n",
       "    </tr>\n",
       "    <tr>\n",
       "      <th>10</th>\n",
       "      <td>10</td>\n",
       "      <td>J</td>\n",
       "      <td>F</td>\n",
       "      <td>23.0</td>\n",
       "      <td>St Marys</td>\n",
       "      <td>10.0</td>\n",
       "      <td>415.0</td>\n",
       "      <td>83.0</td>\n",
       "      <td>awesome</td>\n",
       "    </tr>\n",
       "    <tr>\n",
       "      <th>0</th>\n",
       "      <td>1</td>\n",
       "      <td>A</td>\n",
       "      <td>M</td>\n",
       "      <td>20.0</td>\n",
       "      <td>St Thomas</td>\n",
       "      <td>2.0</td>\n",
       "      <td>402.0</td>\n",
       "      <td>80.4</td>\n",
       "      <td>awesome</td>\n",
       "    </tr>\n",
       "    <tr>\n",
       "      <th>1</th>\n",
       "      <td>2</td>\n",
       "      <td>B</td>\n",
       "      <td>F</td>\n",
       "      <td>24.0</td>\n",
       "      <td>St Thomas</td>\n",
       "      <td>3.0</td>\n",
       "      <td>387.0</td>\n",
       "      <td>77.4</td>\n",
       "      <td>excellent</td>\n",
       "    </tr>\n",
       "    <tr>\n",
       "      <th>7</th>\n",
       "      <td>8</td>\n",
       "      <td>H</td>\n",
       "      <td>M</td>\n",
       "      <td>NaN</td>\n",
       "      <td>St Thomas</td>\n",
       "      <td>8.0</td>\n",
       "      <td>372.0</td>\n",
       "      <td>74.4</td>\n",
       "      <td>excellent</td>\n",
       "    </tr>\n",
       "    <tr>\n",
       "      <th>4</th>\n",
       "      <td>5</td>\n",
       "      <td>E</td>\n",
       "      <td>F</td>\n",
       "      <td>21.0</td>\n",
       "      <td>St Marys</td>\n",
       "      <td>8.0</td>\n",
       "      <td>348.0</td>\n",
       "      <td>69.6</td>\n",
       "      <td>great</td>\n",
       "    </tr>\n",
       "    <tr>\n",
       "      <th>8</th>\n",
       "      <td>9</td>\n",
       "      <td>I</td>\n",
       "      <td>F</td>\n",
       "      <td>21.0</td>\n",
       "      <td>St Thomas</td>\n",
       "      <td>12.0</td>\n",
       "      <td>340.0</td>\n",
       "      <td>68.0</td>\n",
       "      <td>great</td>\n",
       "    </tr>\n",
       "    <tr>\n",
       "      <th>5</th>\n",
       "      <td>6</td>\n",
       "      <td>F</td>\n",
       "      <td>F</td>\n",
       "      <td>19.0</td>\n",
       "      <td>St Marys</td>\n",
       "      <td>NaN</td>\n",
       "      <td>299.0</td>\n",
       "      <td>59.8</td>\n",
       "      <td>great</td>\n",
       "    </tr>\n",
       "    <tr>\n",
       "      <th>2</th>\n",
       "      <td>3</td>\n",
       "      <td>C</td>\n",
       "      <td>M</td>\n",
       "      <td>19.0</td>\n",
       "      <td>St Marys</td>\n",
       "      <td>6.0</td>\n",
       "      <td>NaN</td>\n",
       "      <td>NaN</td>\n",
       "      <td>NaN</td>\n",
       "    </tr>\n",
       "  </tbody>\n",
       "</table>\n",
       "</div>"
      ],
      "text/plain": [
       "    ID Name Gender   Age     School  Absent  Marks  Percentages MarksBucket\n",
       "6    7    G      M  34.0  St Thomas     2.0  490.0         98.0     awesome\n",
       "3    4    D      M   NaN  St Thomas     0.0  452.0         90.4     awesome\n",
       "9   10    J      F  23.0   St Marys    10.0  415.0         83.0     awesome\n",
       "10  10    J      F  23.0   St Marys    10.0  415.0         83.0     awesome\n",
       "0    1    A      M  20.0  St Thomas     2.0  402.0         80.4     awesome\n",
       "1    2    B      F  24.0  St Thomas     3.0  387.0         77.4   excellent\n",
       "7    8    H      M   NaN  St Thomas     8.0  372.0         74.4   excellent\n",
       "4    5    E      F  21.0   St Marys     8.0  348.0         69.6       great\n",
       "8    9    I      F  21.0  St Thomas    12.0  340.0         68.0       great\n",
       "5    6    F      F  19.0   St Marys     NaN  299.0         59.8       great\n",
       "2    3    C      M  19.0   St Marys     6.0    NaN          NaN         NaN"
      ]
     },
     "execution_count": 44,
     "metadata": {},
     "output_type": "execute_result"
    }
   ],
   "source": [
    "practisedata.sort_values(by='Marks',ascending=False)"
   ]
  },
  {
   "cell_type": "code",
   "execution_count": 45,
   "metadata": {},
   "outputs": [
    {
     "data": {
      "text/html": [
       "<div>\n",
       "<style scoped>\n",
       "    .dataframe tbody tr th:only-of-type {\n",
       "        vertical-align: middle;\n",
       "    }\n",
       "\n",
       "    .dataframe tbody tr th {\n",
       "        vertical-align: top;\n",
       "    }\n",
       "\n",
       "    .dataframe thead th {\n",
       "        text-align: right;\n",
       "    }\n",
       "</style>\n",
       "<table border=\"1\" class=\"dataframe\">\n",
       "  <thead>\n",
       "    <tr style=\"text-align: right;\">\n",
       "      <th></th>\n",
       "      <th>ID</th>\n",
       "      <th>Name</th>\n",
       "      <th>Gender</th>\n",
       "      <th>Age</th>\n",
       "      <th>School</th>\n",
       "      <th>Absent</th>\n",
       "      <th>Marks</th>\n",
       "      <th>Percentages</th>\n",
       "      <th>MarksBucket</th>\n",
       "    </tr>\n",
       "  </thead>\n",
       "  <tbody>\n",
       "    <tr>\n",
       "      <th>6</th>\n",
       "      <td>7</td>\n",
       "      <td>G</td>\n",
       "      <td>M</td>\n",
       "      <td>34.0</td>\n",
       "      <td>St Thomas</td>\n",
       "      <td>2.0</td>\n",
       "      <td>490.0</td>\n",
       "      <td>98.0</td>\n",
       "      <td>awesome</td>\n",
       "    </tr>\n",
       "    <tr>\n",
       "      <th>3</th>\n",
       "      <td>4</td>\n",
       "      <td>D</td>\n",
       "      <td>M</td>\n",
       "      <td>NaN</td>\n",
       "      <td>St Thomas</td>\n",
       "      <td>0.0</td>\n",
       "      <td>452.0</td>\n",
       "      <td>90.4</td>\n",
       "      <td>awesome</td>\n",
       "    </tr>\n",
       "    <tr>\n",
       "      <th>9</th>\n",
       "      <td>10</td>\n",
       "      <td>J</td>\n",
       "      <td>F</td>\n",
       "      <td>23.0</td>\n",
       "      <td>St Marys</td>\n",
       "      <td>10.0</td>\n",
       "      <td>415.0</td>\n",
       "      <td>83.0</td>\n",
       "      <td>awesome</td>\n",
       "    </tr>\n",
       "    <tr>\n",
       "      <th>10</th>\n",
       "      <td>10</td>\n",
       "      <td>J</td>\n",
       "      <td>F</td>\n",
       "      <td>23.0</td>\n",
       "      <td>St Marys</td>\n",
       "      <td>10.0</td>\n",
       "      <td>415.0</td>\n",
       "      <td>83.0</td>\n",
       "      <td>awesome</td>\n",
       "    </tr>\n",
       "    <tr>\n",
       "      <th>0</th>\n",
       "      <td>1</td>\n",
       "      <td>A</td>\n",
       "      <td>M</td>\n",
       "      <td>20.0</td>\n",
       "      <td>St Thomas</td>\n",
       "      <td>2.0</td>\n",
       "      <td>402.0</td>\n",
       "      <td>80.4</td>\n",
       "      <td>awesome</td>\n",
       "    </tr>\n",
       "    <tr>\n",
       "      <th>1</th>\n",
       "      <td>2</td>\n",
       "      <td>B</td>\n",
       "      <td>F</td>\n",
       "      <td>24.0</td>\n",
       "      <td>St Thomas</td>\n",
       "      <td>3.0</td>\n",
       "      <td>387.0</td>\n",
       "      <td>77.4</td>\n",
       "      <td>excellent</td>\n",
       "    </tr>\n",
       "    <tr>\n",
       "      <th>7</th>\n",
       "      <td>8</td>\n",
       "      <td>H</td>\n",
       "      <td>M</td>\n",
       "      <td>NaN</td>\n",
       "      <td>St Thomas</td>\n",
       "      <td>8.0</td>\n",
       "      <td>372.0</td>\n",
       "      <td>74.4</td>\n",
       "      <td>excellent</td>\n",
       "    </tr>\n",
       "    <tr>\n",
       "      <th>4</th>\n",
       "      <td>5</td>\n",
       "      <td>E</td>\n",
       "      <td>F</td>\n",
       "      <td>21.0</td>\n",
       "      <td>St Marys</td>\n",
       "      <td>8.0</td>\n",
       "      <td>348.0</td>\n",
       "      <td>69.6</td>\n",
       "      <td>great</td>\n",
       "    </tr>\n",
       "    <tr>\n",
       "      <th>8</th>\n",
       "      <td>9</td>\n",
       "      <td>I</td>\n",
       "      <td>F</td>\n",
       "      <td>21.0</td>\n",
       "      <td>St Thomas</td>\n",
       "      <td>12.0</td>\n",
       "      <td>340.0</td>\n",
       "      <td>68.0</td>\n",
       "      <td>great</td>\n",
       "    </tr>\n",
       "    <tr>\n",
       "      <th>5</th>\n",
       "      <td>6</td>\n",
       "      <td>F</td>\n",
       "      <td>F</td>\n",
       "      <td>19.0</td>\n",
       "      <td>St Marys</td>\n",
       "      <td>NaN</td>\n",
       "      <td>299.0</td>\n",
       "      <td>59.8</td>\n",
       "      <td>great</td>\n",
       "    </tr>\n",
       "    <tr>\n",
       "      <th>2</th>\n",
       "      <td>3</td>\n",
       "      <td>C</td>\n",
       "      <td>M</td>\n",
       "      <td>19.0</td>\n",
       "      <td>St Marys</td>\n",
       "      <td>6.0</td>\n",
       "      <td>NaN</td>\n",
       "      <td>NaN</td>\n",
       "      <td>NaN</td>\n",
       "    </tr>\n",
       "  </tbody>\n",
       "</table>\n",
       "</div>"
      ],
      "text/plain": [
       "    ID Name Gender   Age     School  Absent  Marks  Percentages MarksBucket\n",
       "6    7    G      M  34.0  St Thomas     2.0  490.0         98.0     awesome\n",
       "3    4    D      M   NaN  St Thomas     0.0  452.0         90.4     awesome\n",
       "9   10    J      F  23.0   St Marys    10.0  415.0         83.0     awesome\n",
       "10  10    J      F  23.0   St Marys    10.0  415.0         83.0     awesome\n",
       "0    1    A      M  20.0  St Thomas     2.0  402.0         80.4     awesome\n",
       "1    2    B      F  24.0  St Thomas     3.0  387.0         77.4   excellent\n",
       "7    8    H      M   NaN  St Thomas     8.0  372.0         74.4   excellent\n",
       "4    5    E      F  21.0   St Marys     8.0  348.0         69.6       great\n",
       "8    9    I      F  21.0  St Thomas    12.0  340.0         68.0       great\n",
       "5    6    F      F  19.0   St Marys     NaN  299.0         59.8       great\n",
       "2    3    C      M  19.0   St Marys     6.0    NaN          NaN         NaN"
      ]
     },
     "execution_count": 45,
     "metadata": {},
     "output_type": "execute_result"
    }
   ],
   "source": [
    "practisedata.sort_values(by=['Marks','Absent'],ascending=[False,True])"
   ]
  },
  {
   "cell_type": "markdown",
   "metadata": {},
   "source": [
    "Resetting Index"
   ]
  },
  {
   "cell_type": "code",
   "execution_count": 46,
   "metadata": {},
   "outputs": [
    {
     "name": "stdout",
     "output_type": "stream",
     "text": [
      "<class 'pandas.core.frame.DataFrame'>\n",
      "RangeIndex: 11 entries, 0 to 10\n",
      "Data columns (total 9 columns):\n",
      "ID             11 non-null int64\n",
      "Name           11 non-null object\n",
      "Gender         11 non-null object\n",
      "Age            9 non-null float64\n",
      "School         11 non-null object\n",
      "Absent         10 non-null float64\n",
      "Marks          10 non-null float64\n",
      "Percentages    10 non-null float64\n",
      "MarksBucket    10 non-null category\n",
      "dtypes: category(1), float64(4), int64(1), object(3)\n",
      "memory usage: 899.0+ bytes\n"
     ]
    }
   ],
   "source": [
    "practisedata.info()"
   ]
  },
  {
   "cell_type": "code",
   "execution_count": 47,
   "metadata": {},
   "outputs": [
    {
     "data": {
      "text/plain": [
       "0      1\n",
       "1      2\n",
       "2      3\n",
       "3      4\n",
       "4      5\n",
       "5      6\n",
       "6      7\n",
       "7      8\n",
       "8      9\n",
       "9     10\n",
       "10    10\n",
       "Name: ID, dtype: int64"
      ]
     },
     "execution_count": 47,
     "metadata": {},
     "output_type": "execute_result"
    }
   ],
   "source": [
    "practisedata['ID']"
   ]
  },
  {
   "cell_type": "code",
   "execution_count": 48,
   "metadata": {},
   "outputs": [],
   "source": [
    "practisedata2=practisedata.set_index('ID')"
   ]
  },
  {
   "cell_type": "code",
   "execution_count": 49,
   "metadata": {},
   "outputs": [
    {
     "name": "stdout",
     "output_type": "stream",
     "text": [
      "<class 'pandas.core.frame.DataFrame'>\n",
      "Int64Index: 11 entries, 1 to 10\n",
      "Data columns (total 8 columns):\n",
      "Name           11 non-null object\n",
      "Gender         11 non-null object\n",
      "Age            9 non-null float64\n",
      "School         11 non-null object\n",
      "Absent         10 non-null float64\n",
      "Marks          10 non-null float64\n",
      "Percentages    10 non-null float64\n",
      "MarksBucket    10 non-null category\n",
      "dtypes: category(1), float64(4), object(3)\n",
      "memory usage: 819.0+ bytes\n"
     ]
    }
   ],
   "source": [
    "practisedata2.info()"
   ]
  },
  {
   "cell_type": "code",
   "execution_count": 50,
   "metadata": {},
   "outputs": [
    {
     "data": {
      "text/html": [
       "<div>\n",
       "<style scoped>\n",
       "    .dataframe tbody tr th:only-of-type {\n",
       "        vertical-align: middle;\n",
       "    }\n",
       "\n",
       "    .dataframe tbody tr th {\n",
       "        vertical-align: top;\n",
       "    }\n",
       "\n",
       "    .dataframe thead th {\n",
       "        text-align: right;\n",
       "    }\n",
       "</style>\n",
       "<table border=\"1\" class=\"dataframe\">\n",
       "  <thead>\n",
       "    <tr style=\"text-align: right;\">\n",
       "      <th></th>\n",
       "      <th>Name</th>\n",
       "      <th>Gender</th>\n",
       "      <th>Age</th>\n",
       "      <th>School</th>\n",
       "      <th>Absent</th>\n",
       "      <th>Marks</th>\n",
       "      <th>Percentages</th>\n",
       "      <th>MarksBucket</th>\n",
       "    </tr>\n",
       "    <tr>\n",
       "      <th>ID</th>\n",
       "      <th></th>\n",
       "      <th></th>\n",
       "      <th></th>\n",
       "      <th></th>\n",
       "      <th></th>\n",
       "      <th></th>\n",
       "      <th></th>\n",
       "      <th></th>\n",
       "    </tr>\n",
       "  </thead>\n",
       "  <tbody>\n",
       "    <tr>\n",
       "      <th>1</th>\n",
       "      <td>A</td>\n",
       "      <td>M</td>\n",
       "      <td>20.0</td>\n",
       "      <td>St Thomas</td>\n",
       "      <td>2.0</td>\n",
       "      <td>402.0</td>\n",
       "      <td>80.4</td>\n",
       "      <td>awesome</td>\n",
       "    </tr>\n",
       "    <tr>\n",
       "      <th>2</th>\n",
       "      <td>B</td>\n",
       "      <td>F</td>\n",
       "      <td>24.0</td>\n",
       "      <td>St Thomas</td>\n",
       "      <td>3.0</td>\n",
       "      <td>387.0</td>\n",
       "      <td>77.4</td>\n",
       "      <td>excellent</td>\n",
       "    </tr>\n",
       "    <tr>\n",
       "      <th>3</th>\n",
       "      <td>C</td>\n",
       "      <td>M</td>\n",
       "      <td>19.0</td>\n",
       "      <td>St Marys</td>\n",
       "      <td>6.0</td>\n",
       "      <td>NaN</td>\n",
       "      <td>NaN</td>\n",
       "      <td>NaN</td>\n",
       "    </tr>\n",
       "    <tr>\n",
       "      <th>4</th>\n",
       "      <td>D</td>\n",
       "      <td>M</td>\n",
       "      <td>NaN</td>\n",
       "      <td>St Thomas</td>\n",
       "      <td>0.0</td>\n",
       "      <td>452.0</td>\n",
       "      <td>90.4</td>\n",
       "      <td>awesome</td>\n",
       "    </tr>\n",
       "    <tr>\n",
       "      <th>5</th>\n",
       "      <td>E</td>\n",
       "      <td>F</td>\n",
       "      <td>21.0</td>\n",
       "      <td>St Marys</td>\n",
       "      <td>8.0</td>\n",
       "      <td>348.0</td>\n",
       "      <td>69.6</td>\n",
       "      <td>great</td>\n",
       "    </tr>\n",
       "    <tr>\n",
       "      <th>6</th>\n",
       "      <td>F</td>\n",
       "      <td>F</td>\n",
       "      <td>19.0</td>\n",
       "      <td>St Marys</td>\n",
       "      <td>NaN</td>\n",
       "      <td>299.0</td>\n",
       "      <td>59.8</td>\n",
       "      <td>great</td>\n",
       "    </tr>\n",
       "    <tr>\n",
       "      <th>7</th>\n",
       "      <td>G</td>\n",
       "      <td>M</td>\n",
       "      <td>34.0</td>\n",
       "      <td>St Thomas</td>\n",
       "      <td>2.0</td>\n",
       "      <td>490.0</td>\n",
       "      <td>98.0</td>\n",
       "      <td>awesome</td>\n",
       "    </tr>\n",
       "    <tr>\n",
       "      <th>8</th>\n",
       "      <td>H</td>\n",
       "      <td>M</td>\n",
       "      <td>NaN</td>\n",
       "      <td>St Thomas</td>\n",
       "      <td>8.0</td>\n",
       "      <td>372.0</td>\n",
       "      <td>74.4</td>\n",
       "      <td>excellent</td>\n",
       "    </tr>\n",
       "    <tr>\n",
       "      <th>9</th>\n",
       "      <td>I</td>\n",
       "      <td>F</td>\n",
       "      <td>21.0</td>\n",
       "      <td>St Thomas</td>\n",
       "      <td>12.0</td>\n",
       "      <td>340.0</td>\n",
       "      <td>68.0</td>\n",
       "      <td>great</td>\n",
       "    </tr>\n",
       "    <tr>\n",
       "      <th>10</th>\n",
       "      <td>J</td>\n",
       "      <td>F</td>\n",
       "      <td>23.0</td>\n",
       "      <td>St Marys</td>\n",
       "      <td>10.0</td>\n",
       "      <td>415.0</td>\n",
       "      <td>83.0</td>\n",
       "      <td>awesome</td>\n",
       "    </tr>\n",
       "    <tr>\n",
       "      <th>10</th>\n",
       "      <td>J</td>\n",
       "      <td>F</td>\n",
       "      <td>23.0</td>\n",
       "      <td>St Marys</td>\n",
       "      <td>10.0</td>\n",
       "      <td>415.0</td>\n",
       "      <td>83.0</td>\n",
       "      <td>awesome</td>\n",
       "    </tr>\n",
       "  </tbody>\n",
       "</table>\n",
       "</div>"
      ],
      "text/plain": [
       "   Name Gender   Age     School  Absent  Marks  Percentages MarksBucket\n",
       "ID                                                                     \n",
       "1     A      M  20.0  St Thomas     2.0  402.0         80.4     awesome\n",
       "2     B      F  24.0  St Thomas     3.0  387.0         77.4   excellent\n",
       "3     C      M  19.0   St Marys     6.0    NaN          NaN         NaN\n",
       "4     D      M   NaN  St Thomas     0.0  452.0         90.4     awesome\n",
       "5     E      F  21.0   St Marys     8.0  348.0         69.6       great\n",
       "6     F      F  19.0   St Marys     NaN  299.0         59.8       great\n",
       "7     G      M  34.0  St Thomas     2.0  490.0         98.0     awesome\n",
       "8     H      M   NaN  St Thomas     8.0  372.0         74.4   excellent\n",
       "9     I      F  21.0  St Thomas    12.0  340.0         68.0       great\n",
       "10    J      F  23.0   St Marys    10.0  415.0         83.0     awesome\n",
       "10    J      F  23.0   St Marys    10.0  415.0         83.0     awesome"
      ]
     },
     "execution_count": 50,
     "metadata": {},
     "output_type": "execute_result"
    }
   ],
   "source": [
    "practisedata2"
   ]
  },
  {
   "cell_type": "code",
   "execution_count": 51,
   "metadata": {},
   "outputs": [],
   "source": [
    "practisedata2.reset_index(inplace=True)"
   ]
  },
  {
   "cell_type": "code",
   "execution_count": 52,
   "metadata": {},
   "outputs": [
    {
     "name": "stdout",
     "output_type": "stream",
     "text": [
      "<class 'pandas.core.frame.DataFrame'>\n",
      "RangeIndex: 11 entries, 0 to 10\n",
      "Data columns (total 9 columns):\n",
      "ID             11 non-null int64\n",
      "Name           11 non-null object\n",
      "Gender         11 non-null object\n",
      "Age            9 non-null float64\n",
      "School         11 non-null object\n",
      "Absent         10 non-null float64\n",
      "Marks          10 non-null float64\n",
      "Percentages    10 non-null float64\n",
      "MarksBucket    10 non-null category\n",
      "dtypes: category(1), float64(4), int64(1), object(3)\n",
      "memory usage: 899.0+ bytes\n"
     ]
    }
   ],
   "source": [
    "practisedata2.info()"
   ]
  },
  {
   "cell_type": "code",
   "execution_count": 53,
   "metadata": {},
   "outputs": [
    {
     "data": {
      "text/html": [
       "<div>\n",
       "<style scoped>\n",
       "    .dataframe tbody tr th:only-of-type {\n",
       "        vertical-align: middle;\n",
       "    }\n",
       "\n",
       "    .dataframe tbody tr th {\n",
       "        vertical-align: top;\n",
       "    }\n",
       "\n",
       "    .dataframe thead th {\n",
       "        text-align: right;\n",
       "    }\n",
       "</style>\n",
       "<table border=\"1\" class=\"dataframe\">\n",
       "  <thead>\n",
       "    <tr style=\"text-align: right;\">\n",
       "      <th></th>\n",
       "      <th>ID</th>\n",
       "      <th>Name</th>\n",
       "      <th>Gender</th>\n",
       "      <th>Age</th>\n",
       "      <th>School</th>\n",
       "      <th>Absent</th>\n",
       "      <th>Marks</th>\n",
       "      <th>Percentages</th>\n",
       "      <th>MarksBucket</th>\n",
       "    </tr>\n",
       "  </thead>\n",
       "  <tbody>\n",
       "    <tr>\n",
       "      <th>0</th>\n",
       "      <td>1</td>\n",
       "      <td>A</td>\n",
       "      <td>M</td>\n",
       "      <td>20.0</td>\n",
       "      <td>St Thomas</td>\n",
       "      <td>2.0</td>\n",
       "      <td>402.0</td>\n",
       "      <td>80.4</td>\n",
       "      <td>awesome</td>\n",
       "    </tr>\n",
       "    <tr>\n",
       "      <th>1</th>\n",
       "      <td>2</td>\n",
       "      <td>B</td>\n",
       "      <td>F</td>\n",
       "      <td>24.0</td>\n",
       "      <td>St Thomas</td>\n",
       "      <td>3.0</td>\n",
       "      <td>387.0</td>\n",
       "      <td>77.4</td>\n",
       "      <td>excellent</td>\n",
       "    </tr>\n",
       "    <tr>\n",
       "      <th>2</th>\n",
       "      <td>3</td>\n",
       "      <td>C</td>\n",
       "      <td>M</td>\n",
       "      <td>19.0</td>\n",
       "      <td>St Marys</td>\n",
       "      <td>6.0</td>\n",
       "      <td>NaN</td>\n",
       "      <td>NaN</td>\n",
       "      <td>NaN</td>\n",
       "    </tr>\n",
       "    <tr>\n",
       "      <th>3</th>\n",
       "      <td>4</td>\n",
       "      <td>D</td>\n",
       "      <td>M</td>\n",
       "      <td>NaN</td>\n",
       "      <td>St Thomas</td>\n",
       "      <td>0.0</td>\n",
       "      <td>452.0</td>\n",
       "      <td>90.4</td>\n",
       "      <td>awesome</td>\n",
       "    </tr>\n",
       "    <tr>\n",
       "      <th>4</th>\n",
       "      <td>5</td>\n",
       "      <td>E</td>\n",
       "      <td>F</td>\n",
       "      <td>21.0</td>\n",
       "      <td>St Marys</td>\n",
       "      <td>8.0</td>\n",
       "      <td>348.0</td>\n",
       "      <td>69.6</td>\n",
       "      <td>great</td>\n",
       "    </tr>\n",
       "    <tr>\n",
       "      <th>5</th>\n",
       "      <td>6</td>\n",
       "      <td>F</td>\n",
       "      <td>F</td>\n",
       "      <td>19.0</td>\n",
       "      <td>St Marys</td>\n",
       "      <td>NaN</td>\n",
       "      <td>299.0</td>\n",
       "      <td>59.8</td>\n",
       "      <td>great</td>\n",
       "    </tr>\n",
       "    <tr>\n",
       "      <th>6</th>\n",
       "      <td>7</td>\n",
       "      <td>G</td>\n",
       "      <td>M</td>\n",
       "      <td>34.0</td>\n",
       "      <td>St Thomas</td>\n",
       "      <td>2.0</td>\n",
       "      <td>490.0</td>\n",
       "      <td>98.0</td>\n",
       "      <td>awesome</td>\n",
       "    </tr>\n",
       "    <tr>\n",
       "      <th>7</th>\n",
       "      <td>8</td>\n",
       "      <td>H</td>\n",
       "      <td>M</td>\n",
       "      <td>NaN</td>\n",
       "      <td>St Thomas</td>\n",
       "      <td>8.0</td>\n",
       "      <td>372.0</td>\n",
       "      <td>74.4</td>\n",
       "      <td>excellent</td>\n",
       "    </tr>\n",
       "    <tr>\n",
       "      <th>8</th>\n",
       "      <td>9</td>\n",
       "      <td>I</td>\n",
       "      <td>F</td>\n",
       "      <td>21.0</td>\n",
       "      <td>St Thomas</td>\n",
       "      <td>12.0</td>\n",
       "      <td>340.0</td>\n",
       "      <td>68.0</td>\n",
       "      <td>great</td>\n",
       "    </tr>\n",
       "    <tr>\n",
       "      <th>9</th>\n",
       "      <td>10</td>\n",
       "      <td>J</td>\n",
       "      <td>F</td>\n",
       "      <td>23.0</td>\n",
       "      <td>St Marys</td>\n",
       "      <td>10.0</td>\n",
       "      <td>415.0</td>\n",
       "      <td>83.0</td>\n",
       "      <td>awesome</td>\n",
       "    </tr>\n",
       "    <tr>\n",
       "      <th>10</th>\n",
       "      <td>10</td>\n",
       "      <td>J</td>\n",
       "      <td>F</td>\n",
       "      <td>23.0</td>\n",
       "      <td>St Marys</td>\n",
       "      <td>10.0</td>\n",
       "      <td>415.0</td>\n",
       "      <td>83.0</td>\n",
       "      <td>awesome</td>\n",
       "    </tr>\n",
       "  </tbody>\n",
       "</table>\n",
       "</div>"
      ],
      "text/plain": [
       "    ID Name Gender   Age     School  Absent  Marks  Percentages MarksBucket\n",
       "0    1    A      M  20.0  St Thomas     2.0  402.0         80.4     awesome\n",
       "1    2    B      F  24.0  St Thomas     3.0  387.0         77.4   excellent\n",
       "2    3    C      M  19.0   St Marys     6.0    NaN          NaN         NaN\n",
       "3    4    D      M   NaN  St Thomas     0.0  452.0         90.4     awesome\n",
       "4    5    E      F  21.0   St Marys     8.0  348.0         69.6       great\n",
       "5    6    F      F  19.0   St Marys     NaN  299.0         59.8       great\n",
       "6    7    G      M  34.0  St Thomas     2.0  490.0         98.0     awesome\n",
       "7    8    H      M   NaN  St Thomas     8.0  372.0         74.4   excellent\n",
       "8    9    I      F  21.0  St Thomas    12.0  340.0         68.0       great\n",
       "9   10    J      F  23.0   St Marys    10.0  415.0         83.0     awesome\n",
       "10  10    J      F  23.0   St Marys    10.0  415.0         83.0     awesome"
      ]
     },
     "execution_count": 53,
     "metadata": {},
     "output_type": "execute_result"
    }
   ],
   "source": [
    "practisedata2"
   ]
  },
  {
   "cell_type": "markdown",
   "metadata": {},
   "source": [
    "Handling Duplicates"
   ]
  },
  {
   "cell_type": "code",
   "execution_count": 54,
   "metadata": {},
   "outputs": [
    {
     "data": {
      "text/html": [
       "<div>\n",
       "<style scoped>\n",
       "    .dataframe tbody tr th:only-of-type {\n",
       "        vertical-align: middle;\n",
       "    }\n",
       "\n",
       "    .dataframe tbody tr th {\n",
       "        vertical-align: top;\n",
       "    }\n",
       "\n",
       "    .dataframe thead th {\n",
       "        text-align: right;\n",
       "    }\n",
       "</style>\n",
       "<table border=\"1\" class=\"dataframe\">\n",
       "  <thead>\n",
       "    <tr style=\"text-align: right;\">\n",
       "      <th></th>\n",
       "      <th>ID</th>\n",
       "      <th>Name</th>\n",
       "      <th>Gender</th>\n",
       "      <th>Age</th>\n",
       "      <th>School</th>\n",
       "      <th>Absent</th>\n",
       "      <th>Marks</th>\n",
       "      <th>Percentages</th>\n",
       "      <th>MarksBucket</th>\n",
       "    </tr>\n",
       "  </thead>\n",
       "  <tbody>\n",
       "    <tr>\n",
       "      <th>0</th>\n",
       "      <td>1</td>\n",
       "      <td>A</td>\n",
       "      <td>M</td>\n",
       "      <td>20.0</td>\n",
       "      <td>St Thomas</td>\n",
       "      <td>2.0</td>\n",
       "      <td>402.0</td>\n",
       "      <td>80.4</td>\n",
       "      <td>awesome</td>\n",
       "    </tr>\n",
       "    <tr>\n",
       "      <th>1</th>\n",
       "      <td>2</td>\n",
       "      <td>B</td>\n",
       "      <td>F</td>\n",
       "      <td>24.0</td>\n",
       "      <td>St Thomas</td>\n",
       "      <td>3.0</td>\n",
       "      <td>387.0</td>\n",
       "      <td>77.4</td>\n",
       "      <td>excellent</td>\n",
       "    </tr>\n",
       "    <tr>\n",
       "      <th>2</th>\n",
       "      <td>3</td>\n",
       "      <td>C</td>\n",
       "      <td>M</td>\n",
       "      <td>19.0</td>\n",
       "      <td>St Marys</td>\n",
       "      <td>6.0</td>\n",
       "      <td>NaN</td>\n",
       "      <td>NaN</td>\n",
       "      <td>NaN</td>\n",
       "    </tr>\n",
       "    <tr>\n",
       "      <th>3</th>\n",
       "      <td>4</td>\n",
       "      <td>D</td>\n",
       "      <td>M</td>\n",
       "      <td>NaN</td>\n",
       "      <td>St Thomas</td>\n",
       "      <td>0.0</td>\n",
       "      <td>452.0</td>\n",
       "      <td>90.4</td>\n",
       "      <td>awesome</td>\n",
       "    </tr>\n",
       "    <tr>\n",
       "      <th>4</th>\n",
       "      <td>5</td>\n",
       "      <td>E</td>\n",
       "      <td>F</td>\n",
       "      <td>21.0</td>\n",
       "      <td>St Marys</td>\n",
       "      <td>8.0</td>\n",
       "      <td>348.0</td>\n",
       "      <td>69.6</td>\n",
       "      <td>great</td>\n",
       "    </tr>\n",
       "    <tr>\n",
       "      <th>5</th>\n",
       "      <td>6</td>\n",
       "      <td>F</td>\n",
       "      <td>F</td>\n",
       "      <td>19.0</td>\n",
       "      <td>St Marys</td>\n",
       "      <td>NaN</td>\n",
       "      <td>299.0</td>\n",
       "      <td>59.8</td>\n",
       "      <td>great</td>\n",
       "    </tr>\n",
       "    <tr>\n",
       "      <th>6</th>\n",
       "      <td>7</td>\n",
       "      <td>G</td>\n",
       "      <td>M</td>\n",
       "      <td>34.0</td>\n",
       "      <td>St Thomas</td>\n",
       "      <td>2.0</td>\n",
       "      <td>490.0</td>\n",
       "      <td>98.0</td>\n",
       "      <td>awesome</td>\n",
       "    </tr>\n",
       "    <tr>\n",
       "      <th>7</th>\n",
       "      <td>8</td>\n",
       "      <td>H</td>\n",
       "      <td>M</td>\n",
       "      <td>NaN</td>\n",
       "      <td>St Thomas</td>\n",
       "      <td>8.0</td>\n",
       "      <td>372.0</td>\n",
       "      <td>74.4</td>\n",
       "      <td>excellent</td>\n",
       "    </tr>\n",
       "    <tr>\n",
       "      <th>8</th>\n",
       "      <td>9</td>\n",
       "      <td>I</td>\n",
       "      <td>F</td>\n",
       "      <td>21.0</td>\n",
       "      <td>St Thomas</td>\n",
       "      <td>12.0</td>\n",
       "      <td>340.0</td>\n",
       "      <td>68.0</td>\n",
       "      <td>great</td>\n",
       "    </tr>\n",
       "    <tr>\n",
       "      <th>9</th>\n",
       "      <td>10</td>\n",
       "      <td>J</td>\n",
       "      <td>F</td>\n",
       "      <td>23.0</td>\n",
       "      <td>St Marys</td>\n",
       "      <td>10.0</td>\n",
       "      <td>415.0</td>\n",
       "      <td>83.0</td>\n",
       "      <td>awesome</td>\n",
       "    </tr>\n",
       "    <tr>\n",
       "      <th>10</th>\n",
       "      <td>10</td>\n",
       "      <td>J</td>\n",
       "      <td>F</td>\n",
       "      <td>23.0</td>\n",
       "      <td>St Marys</td>\n",
       "      <td>10.0</td>\n",
       "      <td>415.0</td>\n",
       "      <td>83.0</td>\n",
       "      <td>awesome</td>\n",
       "    </tr>\n",
       "  </tbody>\n",
       "</table>\n",
       "</div>"
      ],
      "text/plain": [
       "    ID Name Gender   Age     School  Absent  Marks  Percentages MarksBucket\n",
       "0    1    A      M  20.0  St Thomas     2.0  402.0         80.4     awesome\n",
       "1    2    B      F  24.0  St Thomas     3.0  387.0         77.4   excellent\n",
       "2    3    C      M  19.0   St Marys     6.0    NaN          NaN         NaN\n",
       "3    4    D      M   NaN  St Thomas     0.0  452.0         90.4     awesome\n",
       "4    5    E      F  21.0   St Marys     8.0  348.0         69.6       great\n",
       "5    6    F      F  19.0   St Marys     NaN  299.0         59.8       great\n",
       "6    7    G      M  34.0  St Thomas     2.0  490.0         98.0     awesome\n",
       "7    8    H      M   NaN  St Thomas     8.0  372.0         74.4   excellent\n",
       "8    9    I      F  21.0  St Thomas    12.0  340.0         68.0       great\n",
       "9   10    J      F  23.0   St Marys    10.0  415.0         83.0     awesome\n",
       "10  10    J      F  23.0   St Marys    10.0  415.0         83.0     awesome"
      ]
     },
     "execution_count": 54,
     "metadata": {},
     "output_type": "execute_result"
    }
   ],
   "source": [
    "practisedata"
   ]
  },
  {
   "cell_type": "code",
   "execution_count": 55,
   "metadata": {},
   "outputs": [
    {
     "data": {
      "text/plain": [
       "1"
      ]
     },
     "execution_count": 55,
     "metadata": {},
     "output_type": "execute_result"
    }
   ],
   "source": [
    "sum(practisedata.duplicated())"
   ]
  },
  {
   "cell_type": "code",
   "execution_count": 56,
   "metadata": {},
   "outputs": [],
   "source": [
    "dups=practisedata[practisedata.duplicated()==True]\n",
    "unique=practisedata[practisedata.duplicated()==False]\n",
    "unique1=practisedata.drop_duplicates()"
   ]
  },
  {
   "cell_type": "code",
   "execution_count": 57,
   "metadata": {},
   "outputs": [
    {
     "name": "stdout",
     "output_type": "stream",
     "text": [
      "(11, 9)\n",
      "(1, 9)\n",
      "(10, 9)\n",
      "(10, 9)\n"
     ]
    }
   ],
   "source": [
    "print(practisedata.shape)\n",
    "print(dups.shape)\n",
    "print(unique.shape)\n",
    "print(unique1.shape)"
   ]
  },
  {
   "cell_type": "code",
   "execution_count": 58,
   "metadata": {},
   "outputs": [
    {
     "name": "stdout",
     "output_type": "stream",
     "text": [
      "<class 'pandas.core.frame.DataFrame'>\n",
      "RangeIndex: 11 entries, 0 to 10\n",
      "Data columns (total 9 columns):\n",
      "ID             11 non-null int64\n",
      "Name           11 non-null object\n",
      "Gender         11 non-null object\n",
      "Age            9 non-null float64\n",
      "School         11 non-null object\n",
      "Absent         10 non-null float64\n",
      "Marks          10 non-null float64\n",
      "Percentages    10 non-null float64\n",
      "MarksBucket    10 non-null category\n",
      "dtypes: category(1), float64(4), int64(1), object(3)\n",
      "memory usage: 899.0+ bytes\n"
     ]
    }
   ],
   "source": [
    "practisedata.info()"
   ]
  },
  {
   "cell_type": "code",
   "execution_count": 59,
   "metadata": {},
   "outputs": [
    {
     "name": "stdout",
     "output_type": "stream",
     "text": [
      "(1, 9)\n",
      "(10, 9)\n"
     ]
    }
   ],
   "source": [
    "dups=practisedata[practisedata['ID'].duplicated()==True]\n",
    "unique=practisedata[practisedata['ID'].duplicated()==False]\n",
    "\n",
    "print(dups.shape)\n",
    "print(unique.shape)"
   ]
  },
  {
   "cell_type": "code",
   "execution_count": 60,
   "metadata": {},
   "outputs": [
    {
     "data": {
      "text/plain": [
       "0     False\n",
       "1     False\n",
       "2     False\n",
       "3     False\n",
       "4     False\n",
       "5     False\n",
       "6     False\n",
       "7     False\n",
       "8     False\n",
       "9     False\n",
       "10     True\n",
       "dtype: bool"
      ]
     },
     "execution_count": 60,
     "metadata": {},
     "output_type": "execute_result"
    }
   ],
   "source": [
    "practisedata.duplicated()"
   ]
  },
  {
   "cell_type": "code",
   "execution_count": 61,
   "metadata": {},
   "outputs": [
    {
     "data": {
      "text/html": [
       "<div>\n",
       "<style scoped>\n",
       "    .dataframe tbody tr th:only-of-type {\n",
       "        vertical-align: middle;\n",
       "    }\n",
       "\n",
       "    .dataframe tbody tr th {\n",
       "        vertical-align: top;\n",
       "    }\n",
       "\n",
       "    .dataframe thead th {\n",
       "        text-align: right;\n",
       "    }\n",
       "</style>\n",
       "<table border=\"1\" class=\"dataframe\">\n",
       "  <thead>\n",
       "    <tr style=\"text-align: right;\">\n",
       "      <th></th>\n",
       "      <th>ID</th>\n",
       "      <th>Name</th>\n",
       "      <th>Gender</th>\n",
       "      <th>Age</th>\n",
       "      <th>School</th>\n",
       "      <th>Absent</th>\n",
       "      <th>Marks</th>\n",
       "      <th>Percentages</th>\n",
       "      <th>MarksBucket</th>\n",
       "    </tr>\n",
       "  </thead>\n",
       "  <tbody>\n",
       "    <tr>\n",
       "      <th>10</th>\n",
       "      <td>10</td>\n",
       "      <td>J</td>\n",
       "      <td>F</td>\n",
       "      <td>23.0</td>\n",
       "      <td>St Marys</td>\n",
       "      <td>10.0</td>\n",
       "      <td>415.0</td>\n",
       "      <td>83.0</td>\n",
       "      <td>awesome</td>\n",
       "    </tr>\n",
       "  </tbody>\n",
       "</table>\n",
       "</div>"
      ],
      "text/plain": [
       "    ID Name Gender   Age    School  Absent  Marks  Percentages MarksBucket\n",
       "10  10    J      F  23.0  St Marys    10.0  415.0         83.0     awesome"
      ]
     },
     "execution_count": 61,
     "metadata": {},
     "output_type": "execute_result"
    }
   ],
   "source": [
    "practisedata[practisedata.duplicated()]"
   ]
  },
  {
   "cell_type": "code",
   "execution_count": 62,
   "metadata": {},
   "outputs": [
    {
     "data": {
      "text/html": [
       "<div>\n",
       "<style scoped>\n",
       "    .dataframe tbody tr th:only-of-type {\n",
       "        vertical-align: middle;\n",
       "    }\n",
       "\n",
       "    .dataframe tbody tr th {\n",
       "        vertical-align: top;\n",
       "    }\n",
       "\n",
       "    .dataframe thead th {\n",
       "        text-align: right;\n",
       "    }\n",
       "</style>\n",
       "<table border=\"1\" class=\"dataframe\">\n",
       "  <thead>\n",
       "    <tr style=\"text-align: right;\">\n",
       "      <th></th>\n",
       "      <th>ID</th>\n",
       "      <th>Name</th>\n",
       "      <th>Gender</th>\n",
       "      <th>Age</th>\n",
       "      <th>School</th>\n",
       "      <th>Absent</th>\n",
       "      <th>Marks</th>\n",
       "      <th>Percentages</th>\n",
       "      <th>MarksBucket</th>\n",
       "    </tr>\n",
       "  </thead>\n",
       "  <tbody>\n",
       "    <tr>\n",
       "      <th>0</th>\n",
       "      <td>1</td>\n",
       "      <td>A</td>\n",
       "      <td>M</td>\n",
       "      <td>20.0</td>\n",
       "      <td>St Thomas</td>\n",
       "      <td>2.0</td>\n",
       "      <td>402.0</td>\n",
       "      <td>80.4</td>\n",
       "      <td>awesome</td>\n",
       "    </tr>\n",
       "    <tr>\n",
       "      <th>1</th>\n",
       "      <td>2</td>\n",
       "      <td>B</td>\n",
       "      <td>F</td>\n",
       "      <td>24.0</td>\n",
       "      <td>St Thomas</td>\n",
       "      <td>3.0</td>\n",
       "      <td>387.0</td>\n",
       "      <td>77.4</td>\n",
       "      <td>excellent</td>\n",
       "    </tr>\n",
       "    <tr>\n",
       "      <th>2</th>\n",
       "      <td>3</td>\n",
       "      <td>C</td>\n",
       "      <td>M</td>\n",
       "      <td>19.0</td>\n",
       "      <td>St Marys</td>\n",
       "      <td>6.0</td>\n",
       "      <td>NaN</td>\n",
       "      <td>NaN</td>\n",
       "      <td>NaN</td>\n",
       "    </tr>\n",
       "    <tr>\n",
       "      <th>3</th>\n",
       "      <td>4</td>\n",
       "      <td>D</td>\n",
       "      <td>M</td>\n",
       "      <td>NaN</td>\n",
       "      <td>St Thomas</td>\n",
       "      <td>0.0</td>\n",
       "      <td>452.0</td>\n",
       "      <td>90.4</td>\n",
       "      <td>awesome</td>\n",
       "    </tr>\n",
       "    <tr>\n",
       "      <th>4</th>\n",
       "      <td>5</td>\n",
       "      <td>E</td>\n",
       "      <td>F</td>\n",
       "      <td>21.0</td>\n",
       "      <td>St Marys</td>\n",
       "      <td>8.0</td>\n",
       "      <td>348.0</td>\n",
       "      <td>69.6</td>\n",
       "      <td>great</td>\n",
       "    </tr>\n",
       "    <tr>\n",
       "      <th>5</th>\n",
       "      <td>6</td>\n",
       "      <td>F</td>\n",
       "      <td>F</td>\n",
       "      <td>19.0</td>\n",
       "      <td>St Marys</td>\n",
       "      <td>NaN</td>\n",
       "      <td>299.0</td>\n",
       "      <td>59.8</td>\n",
       "      <td>great</td>\n",
       "    </tr>\n",
       "    <tr>\n",
       "      <th>6</th>\n",
       "      <td>7</td>\n",
       "      <td>G</td>\n",
       "      <td>M</td>\n",
       "      <td>34.0</td>\n",
       "      <td>St Thomas</td>\n",
       "      <td>2.0</td>\n",
       "      <td>490.0</td>\n",
       "      <td>98.0</td>\n",
       "      <td>awesome</td>\n",
       "    </tr>\n",
       "    <tr>\n",
       "      <th>7</th>\n",
       "      <td>8</td>\n",
       "      <td>H</td>\n",
       "      <td>M</td>\n",
       "      <td>NaN</td>\n",
       "      <td>St Thomas</td>\n",
       "      <td>8.0</td>\n",
       "      <td>372.0</td>\n",
       "      <td>74.4</td>\n",
       "      <td>excellent</td>\n",
       "    </tr>\n",
       "    <tr>\n",
       "      <th>8</th>\n",
       "      <td>9</td>\n",
       "      <td>I</td>\n",
       "      <td>F</td>\n",
       "      <td>21.0</td>\n",
       "      <td>St Thomas</td>\n",
       "      <td>12.0</td>\n",
       "      <td>340.0</td>\n",
       "      <td>68.0</td>\n",
       "      <td>great</td>\n",
       "    </tr>\n",
       "    <tr>\n",
       "      <th>9</th>\n",
       "      <td>10</td>\n",
       "      <td>J</td>\n",
       "      <td>F</td>\n",
       "      <td>23.0</td>\n",
       "      <td>St Marys</td>\n",
       "      <td>10.0</td>\n",
       "      <td>415.0</td>\n",
       "      <td>83.0</td>\n",
       "      <td>awesome</td>\n",
       "    </tr>\n",
       "  </tbody>\n",
       "</table>\n",
       "</div>"
      ],
      "text/plain": [
       "   ID Name Gender   Age     School  Absent  Marks  Percentages MarksBucket\n",
       "0   1    A      M  20.0  St Thomas     2.0  402.0         80.4     awesome\n",
       "1   2    B      F  24.0  St Thomas     3.0  387.0         77.4   excellent\n",
       "2   3    C      M  19.0   St Marys     6.0    NaN          NaN         NaN\n",
       "3   4    D      M   NaN  St Thomas     0.0  452.0         90.4     awesome\n",
       "4   5    E      F  21.0   St Marys     8.0  348.0         69.6       great\n",
       "5   6    F      F  19.0   St Marys     NaN  299.0         59.8       great\n",
       "6   7    G      M  34.0  St Thomas     2.0  490.0         98.0     awesome\n",
       "7   8    H      M   NaN  St Thomas     8.0  372.0         74.4   excellent\n",
       "8   9    I      F  21.0  St Thomas    12.0  340.0         68.0       great\n",
       "9  10    J      F  23.0   St Marys    10.0  415.0         83.0     awesome"
      ]
     },
     "execution_count": 62,
     "metadata": {},
     "output_type": "execute_result"
    }
   ],
   "source": [
    "practisedata[-practisedata.duplicated()]"
   ]
  },
  {
   "cell_type": "code",
   "execution_count": 63,
   "metadata": {},
   "outputs": [],
   "source": [
    "practisedata.drop_duplicates(inplace=True)  #retain first occurrence"
   ]
  },
  {
   "cell_type": "code",
   "execution_count": 64,
   "metadata": {},
   "outputs": [
    {
     "data": {
      "text/html": [
       "<div>\n",
       "<style scoped>\n",
       "    .dataframe tbody tr th:only-of-type {\n",
       "        vertical-align: middle;\n",
       "    }\n",
       "\n",
       "    .dataframe tbody tr th {\n",
       "        vertical-align: top;\n",
       "    }\n",
       "\n",
       "    .dataframe thead th {\n",
       "        text-align: right;\n",
       "    }\n",
       "</style>\n",
       "<table border=\"1\" class=\"dataframe\">\n",
       "  <thead>\n",
       "    <tr style=\"text-align: right;\">\n",
       "      <th></th>\n",
       "      <th>ID</th>\n",
       "      <th>Name</th>\n",
       "      <th>Gender</th>\n",
       "      <th>Age</th>\n",
       "      <th>School</th>\n",
       "      <th>Absent</th>\n",
       "      <th>Marks</th>\n",
       "      <th>Percentages</th>\n",
       "      <th>MarksBucket</th>\n",
       "    </tr>\n",
       "  </thead>\n",
       "  <tbody>\n",
       "    <tr>\n",
       "      <th>0</th>\n",
       "      <td>1</td>\n",
       "      <td>A</td>\n",
       "      <td>M</td>\n",
       "      <td>20.0</td>\n",
       "      <td>St Thomas</td>\n",
       "      <td>2.0</td>\n",
       "      <td>402.0</td>\n",
       "      <td>80.4</td>\n",
       "      <td>awesome</td>\n",
       "    </tr>\n",
       "    <tr>\n",
       "      <th>1</th>\n",
       "      <td>2</td>\n",
       "      <td>B</td>\n",
       "      <td>F</td>\n",
       "      <td>24.0</td>\n",
       "      <td>St Thomas</td>\n",
       "      <td>3.0</td>\n",
       "      <td>387.0</td>\n",
       "      <td>77.4</td>\n",
       "      <td>excellent</td>\n",
       "    </tr>\n",
       "    <tr>\n",
       "      <th>2</th>\n",
       "      <td>3</td>\n",
       "      <td>C</td>\n",
       "      <td>M</td>\n",
       "      <td>19.0</td>\n",
       "      <td>St Marys</td>\n",
       "      <td>6.0</td>\n",
       "      <td>NaN</td>\n",
       "      <td>NaN</td>\n",
       "      <td>NaN</td>\n",
       "    </tr>\n",
       "    <tr>\n",
       "      <th>3</th>\n",
       "      <td>4</td>\n",
       "      <td>D</td>\n",
       "      <td>M</td>\n",
       "      <td>NaN</td>\n",
       "      <td>St Thomas</td>\n",
       "      <td>0.0</td>\n",
       "      <td>452.0</td>\n",
       "      <td>90.4</td>\n",
       "      <td>awesome</td>\n",
       "    </tr>\n",
       "    <tr>\n",
       "      <th>4</th>\n",
       "      <td>5</td>\n",
       "      <td>E</td>\n",
       "      <td>F</td>\n",
       "      <td>21.0</td>\n",
       "      <td>St Marys</td>\n",
       "      <td>8.0</td>\n",
       "      <td>348.0</td>\n",
       "      <td>69.6</td>\n",
       "      <td>great</td>\n",
       "    </tr>\n",
       "    <tr>\n",
       "      <th>5</th>\n",
       "      <td>6</td>\n",
       "      <td>F</td>\n",
       "      <td>F</td>\n",
       "      <td>19.0</td>\n",
       "      <td>St Marys</td>\n",
       "      <td>NaN</td>\n",
       "      <td>299.0</td>\n",
       "      <td>59.8</td>\n",
       "      <td>great</td>\n",
       "    </tr>\n",
       "    <tr>\n",
       "      <th>6</th>\n",
       "      <td>7</td>\n",
       "      <td>G</td>\n",
       "      <td>M</td>\n",
       "      <td>34.0</td>\n",
       "      <td>St Thomas</td>\n",
       "      <td>2.0</td>\n",
       "      <td>490.0</td>\n",
       "      <td>98.0</td>\n",
       "      <td>awesome</td>\n",
       "    </tr>\n",
       "    <tr>\n",
       "      <th>7</th>\n",
       "      <td>8</td>\n",
       "      <td>H</td>\n",
       "      <td>M</td>\n",
       "      <td>NaN</td>\n",
       "      <td>St Thomas</td>\n",
       "      <td>8.0</td>\n",
       "      <td>372.0</td>\n",
       "      <td>74.4</td>\n",
       "      <td>excellent</td>\n",
       "    </tr>\n",
       "    <tr>\n",
       "      <th>8</th>\n",
       "      <td>9</td>\n",
       "      <td>I</td>\n",
       "      <td>F</td>\n",
       "      <td>21.0</td>\n",
       "      <td>St Thomas</td>\n",
       "      <td>12.0</td>\n",
       "      <td>340.0</td>\n",
       "      <td>68.0</td>\n",
       "      <td>great</td>\n",
       "    </tr>\n",
       "    <tr>\n",
       "      <th>9</th>\n",
       "      <td>10</td>\n",
       "      <td>J</td>\n",
       "      <td>F</td>\n",
       "      <td>23.0</td>\n",
       "      <td>St Marys</td>\n",
       "      <td>10.0</td>\n",
       "      <td>415.0</td>\n",
       "      <td>83.0</td>\n",
       "      <td>awesome</td>\n",
       "    </tr>\n",
       "  </tbody>\n",
       "</table>\n",
       "</div>"
      ],
      "text/plain": [
       "   ID Name Gender   Age     School  Absent  Marks  Percentages MarksBucket\n",
       "0   1    A      M  20.0  St Thomas     2.0  402.0         80.4     awesome\n",
       "1   2    B      F  24.0  St Thomas     3.0  387.0         77.4   excellent\n",
       "2   3    C      M  19.0   St Marys     6.0    NaN          NaN         NaN\n",
       "3   4    D      M   NaN  St Thomas     0.0  452.0         90.4     awesome\n",
       "4   5    E      F  21.0   St Marys     8.0  348.0         69.6       great\n",
       "5   6    F      F  19.0   St Marys     NaN  299.0         59.8       great\n",
       "6   7    G      M  34.0  St Thomas     2.0  490.0         98.0     awesome\n",
       "7   8    H      M   NaN  St Thomas     8.0  372.0         74.4   excellent\n",
       "8   9    I      F  21.0  St Thomas    12.0  340.0         68.0       great\n",
       "9  10    J      F  23.0   St Marys    10.0  415.0         83.0     awesome"
      ]
     },
     "execution_count": 64,
     "metadata": {},
     "output_type": "execute_result"
    }
   ],
   "source": [
    "practisedata"
   ]
  },
  {
   "cell_type": "markdown",
   "metadata": {},
   "source": [
    "Handling Missing Data"
   ]
  },
  {
   "cell_type": "code",
   "execution_count": 65,
   "metadata": {},
   "outputs": [
    {
     "data": {
      "text/html": [
       "<div>\n",
       "<style scoped>\n",
       "    .dataframe tbody tr th:only-of-type {\n",
       "        vertical-align: middle;\n",
       "    }\n",
       "\n",
       "    .dataframe tbody tr th {\n",
       "        vertical-align: top;\n",
       "    }\n",
       "\n",
       "    .dataframe thead th {\n",
       "        text-align: right;\n",
       "    }\n",
       "</style>\n",
       "<table border=\"1\" class=\"dataframe\">\n",
       "  <thead>\n",
       "    <tr style=\"text-align: right;\">\n",
       "      <th></th>\n",
       "      <th>ID</th>\n",
       "      <th>Name</th>\n",
       "      <th>Gender</th>\n",
       "      <th>Age</th>\n",
       "      <th>School</th>\n",
       "      <th>Absent</th>\n",
       "      <th>Marks</th>\n",
       "      <th>Percentages</th>\n",
       "      <th>MarksBucket</th>\n",
       "    </tr>\n",
       "  </thead>\n",
       "  <tbody>\n",
       "    <tr>\n",
       "      <th>0</th>\n",
       "      <td>1</td>\n",
       "      <td>A</td>\n",
       "      <td>M</td>\n",
       "      <td>20.0</td>\n",
       "      <td>St Thomas</td>\n",
       "      <td>2.0</td>\n",
       "      <td>402.0</td>\n",
       "      <td>80.4</td>\n",
       "      <td>awesome</td>\n",
       "    </tr>\n",
       "    <tr>\n",
       "      <th>1</th>\n",
       "      <td>2</td>\n",
       "      <td>B</td>\n",
       "      <td>F</td>\n",
       "      <td>24.0</td>\n",
       "      <td>St Thomas</td>\n",
       "      <td>3.0</td>\n",
       "      <td>387.0</td>\n",
       "      <td>77.4</td>\n",
       "      <td>excellent</td>\n",
       "    </tr>\n",
       "    <tr>\n",
       "      <th>2</th>\n",
       "      <td>3</td>\n",
       "      <td>C</td>\n",
       "      <td>M</td>\n",
       "      <td>19.0</td>\n",
       "      <td>St Marys</td>\n",
       "      <td>6.0</td>\n",
       "      <td>NaN</td>\n",
       "      <td>NaN</td>\n",
       "      <td>NaN</td>\n",
       "    </tr>\n",
       "    <tr>\n",
       "      <th>3</th>\n",
       "      <td>4</td>\n",
       "      <td>D</td>\n",
       "      <td>M</td>\n",
       "      <td>NaN</td>\n",
       "      <td>St Thomas</td>\n",
       "      <td>0.0</td>\n",
       "      <td>452.0</td>\n",
       "      <td>90.4</td>\n",
       "      <td>awesome</td>\n",
       "    </tr>\n",
       "    <tr>\n",
       "      <th>4</th>\n",
       "      <td>5</td>\n",
       "      <td>E</td>\n",
       "      <td>F</td>\n",
       "      <td>21.0</td>\n",
       "      <td>St Marys</td>\n",
       "      <td>8.0</td>\n",
       "      <td>348.0</td>\n",
       "      <td>69.6</td>\n",
       "      <td>great</td>\n",
       "    </tr>\n",
       "    <tr>\n",
       "      <th>5</th>\n",
       "      <td>6</td>\n",
       "      <td>F</td>\n",
       "      <td>F</td>\n",
       "      <td>19.0</td>\n",
       "      <td>St Marys</td>\n",
       "      <td>NaN</td>\n",
       "      <td>299.0</td>\n",
       "      <td>59.8</td>\n",
       "      <td>great</td>\n",
       "    </tr>\n",
       "    <tr>\n",
       "      <th>6</th>\n",
       "      <td>7</td>\n",
       "      <td>G</td>\n",
       "      <td>M</td>\n",
       "      <td>34.0</td>\n",
       "      <td>St Thomas</td>\n",
       "      <td>2.0</td>\n",
       "      <td>490.0</td>\n",
       "      <td>98.0</td>\n",
       "      <td>awesome</td>\n",
       "    </tr>\n",
       "    <tr>\n",
       "      <th>7</th>\n",
       "      <td>8</td>\n",
       "      <td>H</td>\n",
       "      <td>M</td>\n",
       "      <td>NaN</td>\n",
       "      <td>St Thomas</td>\n",
       "      <td>8.0</td>\n",
       "      <td>372.0</td>\n",
       "      <td>74.4</td>\n",
       "      <td>excellent</td>\n",
       "    </tr>\n",
       "    <tr>\n",
       "      <th>8</th>\n",
       "      <td>9</td>\n",
       "      <td>I</td>\n",
       "      <td>F</td>\n",
       "      <td>21.0</td>\n",
       "      <td>St Thomas</td>\n",
       "      <td>12.0</td>\n",
       "      <td>340.0</td>\n",
       "      <td>68.0</td>\n",
       "      <td>great</td>\n",
       "    </tr>\n",
       "    <tr>\n",
       "      <th>9</th>\n",
       "      <td>10</td>\n",
       "      <td>J</td>\n",
       "      <td>F</td>\n",
       "      <td>23.0</td>\n",
       "      <td>St Marys</td>\n",
       "      <td>10.0</td>\n",
       "      <td>415.0</td>\n",
       "      <td>83.0</td>\n",
       "      <td>awesome</td>\n",
       "    </tr>\n",
       "  </tbody>\n",
       "</table>\n",
       "</div>"
      ],
      "text/plain": [
       "   ID Name Gender   Age     School  Absent  Marks  Percentages MarksBucket\n",
       "0   1    A      M  20.0  St Thomas     2.0  402.0         80.4     awesome\n",
       "1   2    B      F  24.0  St Thomas     3.0  387.0         77.4   excellent\n",
       "2   3    C      M  19.0   St Marys     6.0    NaN          NaN         NaN\n",
       "3   4    D      M   NaN  St Thomas     0.0  452.0         90.4     awesome\n",
       "4   5    E      F  21.0   St Marys     8.0  348.0         69.6       great\n",
       "5   6    F      F  19.0   St Marys     NaN  299.0         59.8       great\n",
       "6   7    G      M  34.0  St Thomas     2.0  490.0         98.0     awesome\n",
       "7   8    H      M   NaN  St Thomas     8.0  372.0         74.4   excellent\n",
       "8   9    I      F  21.0  St Thomas    12.0  340.0         68.0       great\n",
       "9  10    J      F  23.0   St Marys    10.0  415.0         83.0     awesome"
      ]
     },
     "execution_count": 65,
     "metadata": {},
     "output_type": "execute_result"
    }
   ],
   "source": [
    "practisedata"
   ]
  },
  {
   "cell_type": "code",
   "execution_count": 66,
   "metadata": {},
   "outputs": [
    {
     "name": "stdout",
     "output_type": "stream",
     "text": [
      "9\n",
      "1\n"
     ]
    }
   ],
   "source": [
    "print(sum(practisedata['Marks'].notnull()))\n",
    "print(sum(practisedata['Marks'].isnull()))"
   ]
  },
  {
   "cell_type": "code",
   "execution_count": 67,
   "metadata": {},
   "outputs": [
    {
     "data": {
      "text/plain": [
       "389.44444444444446"
      ]
     },
     "execution_count": 67,
     "metadata": {},
     "output_type": "execute_result"
    }
   ],
   "source": [
    "mean_marks=practisedata['Marks'].mean()\n",
    "mean_marks"
   ]
  },
  {
   "cell_type": "code",
   "execution_count": 68,
   "metadata": {},
   "outputs": [],
   "source": [
    "practisedata['Marks']=practisedata['Marks'].fillna(mean_marks)"
   ]
  },
  {
   "cell_type": "code",
   "execution_count": 69,
   "metadata": {},
   "outputs": [
    {
     "data": {
      "text/plain": [
       "21.0"
      ]
     },
     "execution_count": 69,
     "metadata": {},
     "output_type": "execute_result"
    }
   ],
   "source": [
    "median_age=practisedata['Age'].median()\n",
    "median_age"
   ]
  },
  {
   "cell_type": "code",
   "execution_count": 70,
   "metadata": {},
   "outputs": [],
   "source": [
    "practisedata['Age']=practisedata['Age'].fillna(median_age)"
   ]
  },
  {
   "cell_type": "code",
   "execution_count": 71,
   "metadata": {},
   "outputs": [
    {
     "data": {
      "text/plain": [
       "6.0"
      ]
     },
     "execution_count": 71,
     "metadata": {},
     "output_type": "execute_result"
    }
   ],
   "source": [
    "median_absent=practisedata['Absent'].median()\n",
    "median_absent"
   ]
  },
  {
   "cell_type": "code",
   "execution_count": 72,
   "metadata": {},
   "outputs": [],
   "source": [
    "practisedata['Absent']=practisedata['Absent'].fillna(median_absent)"
   ]
  },
  {
   "cell_type": "code",
   "execution_count": 73,
   "metadata": {},
   "outputs": [
    {
     "data": {
      "text/html": [
       "<div>\n",
       "<style scoped>\n",
       "    .dataframe tbody tr th:only-of-type {\n",
       "        vertical-align: middle;\n",
       "    }\n",
       "\n",
       "    .dataframe tbody tr th {\n",
       "        vertical-align: top;\n",
       "    }\n",
       "\n",
       "    .dataframe thead th {\n",
       "        text-align: right;\n",
       "    }\n",
       "</style>\n",
       "<table border=\"1\" class=\"dataframe\">\n",
       "  <thead>\n",
       "    <tr style=\"text-align: right;\">\n",
       "      <th></th>\n",
       "      <th>ID</th>\n",
       "      <th>Name</th>\n",
       "      <th>Gender</th>\n",
       "      <th>Age</th>\n",
       "      <th>School</th>\n",
       "      <th>Absent</th>\n",
       "      <th>Marks</th>\n",
       "      <th>Percentages</th>\n",
       "      <th>MarksBucket</th>\n",
       "    </tr>\n",
       "  </thead>\n",
       "  <tbody>\n",
       "    <tr>\n",
       "      <th>0</th>\n",
       "      <td>1</td>\n",
       "      <td>A</td>\n",
       "      <td>M</td>\n",
       "      <td>20.0</td>\n",
       "      <td>St Thomas</td>\n",
       "      <td>2.0</td>\n",
       "      <td>402.000000</td>\n",
       "      <td>80.4</td>\n",
       "      <td>awesome</td>\n",
       "    </tr>\n",
       "    <tr>\n",
       "      <th>1</th>\n",
       "      <td>2</td>\n",
       "      <td>B</td>\n",
       "      <td>F</td>\n",
       "      <td>24.0</td>\n",
       "      <td>St Thomas</td>\n",
       "      <td>3.0</td>\n",
       "      <td>387.000000</td>\n",
       "      <td>77.4</td>\n",
       "      <td>excellent</td>\n",
       "    </tr>\n",
       "    <tr>\n",
       "      <th>2</th>\n",
       "      <td>3</td>\n",
       "      <td>C</td>\n",
       "      <td>M</td>\n",
       "      <td>19.0</td>\n",
       "      <td>St Marys</td>\n",
       "      <td>6.0</td>\n",
       "      <td>389.444444</td>\n",
       "      <td>NaN</td>\n",
       "      <td>NaN</td>\n",
       "    </tr>\n",
       "    <tr>\n",
       "      <th>3</th>\n",
       "      <td>4</td>\n",
       "      <td>D</td>\n",
       "      <td>M</td>\n",
       "      <td>21.0</td>\n",
       "      <td>St Thomas</td>\n",
       "      <td>0.0</td>\n",
       "      <td>452.000000</td>\n",
       "      <td>90.4</td>\n",
       "      <td>awesome</td>\n",
       "    </tr>\n",
       "    <tr>\n",
       "      <th>4</th>\n",
       "      <td>5</td>\n",
       "      <td>E</td>\n",
       "      <td>F</td>\n",
       "      <td>21.0</td>\n",
       "      <td>St Marys</td>\n",
       "      <td>8.0</td>\n",
       "      <td>348.000000</td>\n",
       "      <td>69.6</td>\n",
       "      <td>great</td>\n",
       "    </tr>\n",
       "    <tr>\n",
       "      <th>5</th>\n",
       "      <td>6</td>\n",
       "      <td>F</td>\n",
       "      <td>F</td>\n",
       "      <td>19.0</td>\n",
       "      <td>St Marys</td>\n",
       "      <td>6.0</td>\n",
       "      <td>299.000000</td>\n",
       "      <td>59.8</td>\n",
       "      <td>great</td>\n",
       "    </tr>\n",
       "    <tr>\n",
       "      <th>6</th>\n",
       "      <td>7</td>\n",
       "      <td>G</td>\n",
       "      <td>M</td>\n",
       "      <td>34.0</td>\n",
       "      <td>St Thomas</td>\n",
       "      <td>2.0</td>\n",
       "      <td>490.000000</td>\n",
       "      <td>98.0</td>\n",
       "      <td>awesome</td>\n",
       "    </tr>\n",
       "    <tr>\n",
       "      <th>7</th>\n",
       "      <td>8</td>\n",
       "      <td>H</td>\n",
       "      <td>M</td>\n",
       "      <td>21.0</td>\n",
       "      <td>St Thomas</td>\n",
       "      <td>8.0</td>\n",
       "      <td>372.000000</td>\n",
       "      <td>74.4</td>\n",
       "      <td>excellent</td>\n",
       "    </tr>\n",
       "    <tr>\n",
       "      <th>8</th>\n",
       "      <td>9</td>\n",
       "      <td>I</td>\n",
       "      <td>F</td>\n",
       "      <td>21.0</td>\n",
       "      <td>St Thomas</td>\n",
       "      <td>12.0</td>\n",
       "      <td>340.000000</td>\n",
       "      <td>68.0</td>\n",
       "      <td>great</td>\n",
       "    </tr>\n",
       "    <tr>\n",
       "      <th>9</th>\n",
       "      <td>10</td>\n",
       "      <td>J</td>\n",
       "      <td>F</td>\n",
       "      <td>23.0</td>\n",
       "      <td>St Marys</td>\n",
       "      <td>10.0</td>\n",
       "      <td>415.000000</td>\n",
       "      <td>83.0</td>\n",
       "      <td>awesome</td>\n",
       "    </tr>\n",
       "  </tbody>\n",
       "</table>\n",
       "</div>"
      ],
      "text/plain": [
       "   ID Name Gender   Age     School  Absent       Marks  Percentages  \\\n",
       "0   1    A      M  20.0  St Thomas     2.0  402.000000         80.4   \n",
       "1   2    B      F  24.0  St Thomas     3.0  387.000000         77.4   \n",
       "2   3    C      M  19.0   St Marys     6.0  389.444444          NaN   \n",
       "3   4    D      M  21.0  St Thomas     0.0  452.000000         90.4   \n",
       "4   5    E      F  21.0   St Marys     8.0  348.000000         69.6   \n",
       "5   6    F      F  19.0   St Marys     6.0  299.000000         59.8   \n",
       "6   7    G      M  34.0  St Thomas     2.0  490.000000         98.0   \n",
       "7   8    H      M  21.0  St Thomas     8.0  372.000000         74.4   \n",
       "8   9    I      F  21.0  St Thomas    12.0  340.000000         68.0   \n",
       "9  10    J      F  23.0   St Marys    10.0  415.000000         83.0   \n",
       "\n",
       "  MarksBucket  \n",
       "0     awesome  \n",
       "1   excellent  \n",
       "2         NaN  \n",
       "3     awesome  \n",
       "4       great  \n",
       "5       great  \n",
       "6     awesome  \n",
       "7   excellent  \n",
       "8       great  \n",
       "9     awesome  "
      ]
     },
     "execution_count": 73,
     "metadata": {},
     "output_type": "execute_result"
    }
   ],
   "source": [
    "practisedata"
   ]
  },
  {
   "cell_type": "code",
   "execution_count": 74,
   "metadata": {},
   "outputs": [
    {
     "name": "stdout",
     "output_type": "stream",
     "text": [
      "472.9\n"
     ]
    }
   ],
   "source": [
    "print(practisedata['Marks'].quantile(.95))"
   ]
  },
  {
   "cell_type": "code",
   "execution_count": 75,
   "metadata": {},
   "outputs": [
    {
     "name": "stdout",
     "output_type": "stream",
     "text": [
      "29.49999999999999\n"
     ]
    }
   ],
   "source": [
    "print(practisedata['Age'].quantile(.95))"
   ]
  },
  {
   "cell_type": "code",
   "execution_count": 76,
   "metadata": {},
   "outputs": [],
   "source": [
    "practisedata['Marks']=(practisedata['Marks'].clip_upper(practisedata['Marks'].quantile(.95)))"
   ]
  },
  {
   "cell_type": "code",
   "execution_count": 77,
   "metadata": {},
   "outputs": [],
   "source": [
    "practisedata['Age']=(practisedata['Age'].clip_upper(practisedata['Age'].quantile(.95)))"
   ]
  },
  {
   "cell_type": "code",
   "execution_count": 78,
   "metadata": {},
   "outputs": [
    {
     "data": {
      "text/html": [
       "<div>\n",
       "<style scoped>\n",
       "    .dataframe tbody tr th:only-of-type {\n",
       "        vertical-align: middle;\n",
       "    }\n",
       "\n",
       "    .dataframe tbody tr th {\n",
       "        vertical-align: top;\n",
       "    }\n",
       "\n",
       "    .dataframe thead th {\n",
       "        text-align: right;\n",
       "    }\n",
       "</style>\n",
       "<table border=\"1\" class=\"dataframe\">\n",
       "  <thead>\n",
       "    <tr style=\"text-align: right;\">\n",
       "      <th></th>\n",
       "      <th>ID</th>\n",
       "      <th>Name</th>\n",
       "      <th>Gender</th>\n",
       "      <th>Age</th>\n",
       "      <th>School</th>\n",
       "      <th>Absent</th>\n",
       "      <th>Marks</th>\n",
       "      <th>Percentages</th>\n",
       "      <th>MarksBucket</th>\n",
       "    </tr>\n",
       "  </thead>\n",
       "  <tbody>\n",
       "    <tr>\n",
       "      <th>0</th>\n",
       "      <td>1</td>\n",
       "      <td>A</td>\n",
       "      <td>M</td>\n",
       "      <td>20.0</td>\n",
       "      <td>St Thomas</td>\n",
       "      <td>2.0</td>\n",
       "      <td>402.000000</td>\n",
       "      <td>80.4</td>\n",
       "      <td>awesome</td>\n",
       "    </tr>\n",
       "    <tr>\n",
       "      <th>1</th>\n",
       "      <td>2</td>\n",
       "      <td>B</td>\n",
       "      <td>F</td>\n",
       "      <td>24.0</td>\n",
       "      <td>St Thomas</td>\n",
       "      <td>3.0</td>\n",
       "      <td>387.000000</td>\n",
       "      <td>77.4</td>\n",
       "      <td>excellent</td>\n",
       "    </tr>\n",
       "    <tr>\n",
       "      <th>2</th>\n",
       "      <td>3</td>\n",
       "      <td>C</td>\n",
       "      <td>M</td>\n",
       "      <td>19.0</td>\n",
       "      <td>St Marys</td>\n",
       "      <td>6.0</td>\n",
       "      <td>389.444444</td>\n",
       "      <td>NaN</td>\n",
       "      <td>NaN</td>\n",
       "    </tr>\n",
       "    <tr>\n",
       "      <th>3</th>\n",
       "      <td>4</td>\n",
       "      <td>D</td>\n",
       "      <td>M</td>\n",
       "      <td>21.0</td>\n",
       "      <td>St Thomas</td>\n",
       "      <td>0.0</td>\n",
       "      <td>452.000000</td>\n",
       "      <td>90.4</td>\n",
       "      <td>awesome</td>\n",
       "    </tr>\n",
       "    <tr>\n",
       "      <th>4</th>\n",
       "      <td>5</td>\n",
       "      <td>E</td>\n",
       "      <td>F</td>\n",
       "      <td>21.0</td>\n",
       "      <td>St Marys</td>\n",
       "      <td>8.0</td>\n",
       "      <td>348.000000</td>\n",
       "      <td>69.6</td>\n",
       "      <td>great</td>\n",
       "    </tr>\n",
       "    <tr>\n",
       "      <th>5</th>\n",
       "      <td>6</td>\n",
       "      <td>F</td>\n",
       "      <td>F</td>\n",
       "      <td>19.0</td>\n",
       "      <td>St Marys</td>\n",
       "      <td>6.0</td>\n",
       "      <td>299.000000</td>\n",
       "      <td>59.8</td>\n",
       "      <td>great</td>\n",
       "    </tr>\n",
       "    <tr>\n",
       "      <th>6</th>\n",
       "      <td>7</td>\n",
       "      <td>G</td>\n",
       "      <td>M</td>\n",
       "      <td>29.5</td>\n",
       "      <td>St Thomas</td>\n",
       "      <td>2.0</td>\n",
       "      <td>472.900000</td>\n",
       "      <td>98.0</td>\n",
       "      <td>awesome</td>\n",
       "    </tr>\n",
       "    <tr>\n",
       "      <th>7</th>\n",
       "      <td>8</td>\n",
       "      <td>H</td>\n",
       "      <td>M</td>\n",
       "      <td>21.0</td>\n",
       "      <td>St Thomas</td>\n",
       "      <td>8.0</td>\n",
       "      <td>372.000000</td>\n",
       "      <td>74.4</td>\n",
       "      <td>excellent</td>\n",
       "    </tr>\n",
       "    <tr>\n",
       "      <th>8</th>\n",
       "      <td>9</td>\n",
       "      <td>I</td>\n",
       "      <td>F</td>\n",
       "      <td>21.0</td>\n",
       "      <td>St Thomas</td>\n",
       "      <td>12.0</td>\n",
       "      <td>340.000000</td>\n",
       "      <td>68.0</td>\n",
       "      <td>great</td>\n",
       "    </tr>\n",
       "    <tr>\n",
       "      <th>9</th>\n",
       "      <td>10</td>\n",
       "      <td>J</td>\n",
       "      <td>F</td>\n",
       "      <td>23.0</td>\n",
       "      <td>St Marys</td>\n",
       "      <td>10.0</td>\n",
       "      <td>415.000000</td>\n",
       "      <td>83.0</td>\n",
       "      <td>awesome</td>\n",
       "    </tr>\n",
       "  </tbody>\n",
       "</table>\n",
       "</div>"
      ],
      "text/plain": [
       "   ID Name Gender   Age     School  Absent       Marks  Percentages  \\\n",
       "0   1    A      M  20.0  St Thomas     2.0  402.000000         80.4   \n",
       "1   2    B      F  24.0  St Thomas     3.0  387.000000         77.4   \n",
       "2   3    C      M  19.0   St Marys     6.0  389.444444          NaN   \n",
       "3   4    D      M  21.0  St Thomas     0.0  452.000000         90.4   \n",
       "4   5    E      F  21.0   St Marys     8.0  348.000000         69.6   \n",
       "5   6    F      F  19.0   St Marys     6.0  299.000000         59.8   \n",
       "6   7    G      M  29.5  St Thomas     2.0  472.900000         98.0   \n",
       "7   8    H      M  21.0  St Thomas     8.0  372.000000         74.4   \n",
       "8   9    I      F  21.0  St Thomas    12.0  340.000000         68.0   \n",
       "9  10    J      F  23.0   St Marys    10.0  415.000000         83.0   \n",
       "\n",
       "  MarksBucket  \n",
       "0     awesome  \n",
       "1   excellent  \n",
       "2         NaN  \n",
       "3     awesome  \n",
       "4       great  \n",
       "5       great  \n",
       "6     awesome  \n",
       "7   excellent  \n",
       "8       great  \n",
       "9     awesome  "
      ]
     },
     "execution_count": 78,
     "metadata": {},
     "output_type": "execute_result"
    }
   ],
   "source": [
    "practisedata"
   ]
  },
  {
   "cell_type": "code",
   "execution_count": 79,
   "metadata": {},
   "outputs": [],
   "source": [
    "practisedata['Percentages']=(practisedata['Marks']/500)*100"
   ]
  },
  {
   "cell_type": "code",
   "execution_count": 80,
   "metadata": {},
   "outputs": [],
   "source": [
    "practisedata['MarksBucket']=pd.cut(practisedata['Marks'],bins=[0, 350,400,500], labels=['great','excellent','awesome'])"
   ]
  },
  {
   "cell_type": "code",
   "execution_count": 81,
   "metadata": {},
   "outputs": [
    {
     "data": {
      "text/html": [
       "<div>\n",
       "<style scoped>\n",
       "    .dataframe tbody tr th:only-of-type {\n",
       "        vertical-align: middle;\n",
       "    }\n",
       "\n",
       "    .dataframe tbody tr th {\n",
       "        vertical-align: top;\n",
       "    }\n",
       "\n",
       "    .dataframe thead th {\n",
       "        text-align: right;\n",
       "    }\n",
       "</style>\n",
       "<table border=\"1\" class=\"dataframe\">\n",
       "  <thead>\n",
       "    <tr style=\"text-align: right;\">\n",
       "      <th></th>\n",
       "      <th>ID</th>\n",
       "      <th>Name</th>\n",
       "      <th>Gender</th>\n",
       "      <th>Age</th>\n",
       "      <th>School</th>\n",
       "      <th>Absent</th>\n",
       "      <th>Marks</th>\n",
       "      <th>Percentages</th>\n",
       "      <th>MarksBucket</th>\n",
       "    </tr>\n",
       "  </thead>\n",
       "  <tbody>\n",
       "    <tr>\n",
       "      <th>0</th>\n",
       "      <td>1</td>\n",
       "      <td>A</td>\n",
       "      <td>M</td>\n",
       "      <td>20.0</td>\n",
       "      <td>St Thomas</td>\n",
       "      <td>2.0</td>\n",
       "      <td>402.000000</td>\n",
       "      <td>80.400000</td>\n",
       "      <td>awesome</td>\n",
       "    </tr>\n",
       "    <tr>\n",
       "      <th>1</th>\n",
       "      <td>2</td>\n",
       "      <td>B</td>\n",
       "      <td>F</td>\n",
       "      <td>24.0</td>\n",
       "      <td>St Thomas</td>\n",
       "      <td>3.0</td>\n",
       "      <td>387.000000</td>\n",
       "      <td>77.400000</td>\n",
       "      <td>excellent</td>\n",
       "    </tr>\n",
       "    <tr>\n",
       "      <th>2</th>\n",
       "      <td>3</td>\n",
       "      <td>C</td>\n",
       "      <td>M</td>\n",
       "      <td>19.0</td>\n",
       "      <td>St Marys</td>\n",
       "      <td>6.0</td>\n",
       "      <td>389.444444</td>\n",
       "      <td>77.888889</td>\n",
       "      <td>excellent</td>\n",
       "    </tr>\n",
       "    <tr>\n",
       "      <th>3</th>\n",
       "      <td>4</td>\n",
       "      <td>D</td>\n",
       "      <td>M</td>\n",
       "      <td>21.0</td>\n",
       "      <td>St Thomas</td>\n",
       "      <td>0.0</td>\n",
       "      <td>452.000000</td>\n",
       "      <td>90.400000</td>\n",
       "      <td>awesome</td>\n",
       "    </tr>\n",
       "    <tr>\n",
       "      <th>4</th>\n",
       "      <td>5</td>\n",
       "      <td>E</td>\n",
       "      <td>F</td>\n",
       "      <td>21.0</td>\n",
       "      <td>St Marys</td>\n",
       "      <td>8.0</td>\n",
       "      <td>348.000000</td>\n",
       "      <td>69.600000</td>\n",
       "      <td>great</td>\n",
       "    </tr>\n",
       "    <tr>\n",
       "      <th>5</th>\n",
       "      <td>6</td>\n",
       "      <td>F</td>\n",
       "      <td>F</td>\n",
       "      <td>19.0</td>\n",
       "      <td>St Marys</td>\n",
       "      <td>6.0</td>\n",
       "      <td>299.000000</td>\n",
       "      <td>59.800000</td>\n",
       "      <td>great</td>\n",
       "    </tr>\n",
       "    <tr>\n",
       "      <th>6</th>\n",
       "      <td>7</td>\n",
       "      <td>G</td>\n",
       "      <td>M</td>\n",
       "      <td>29.5</td>\n",
       "      <td>St Thomas</td>\n",
       "      <td>2.0</td>\n",
       "      <td>472.900000</td>\n",
       "      <td>94.580000</td>\n",
       "      <td>awesome</td>\n",
       "    </tr>\n",
       "    <tr>\n",
       "      <th>7</th>\n",
       "      <td>8</td>\n",
       "      <td>H</td>\n",
       "      <td>M</td>\n",
       "      <td>21.0</td>\n",
       "      <td>St Thomas</td>\n",
       "      <td>8.0</td>\n",
       "      <td>372.000000</td>\n",
       "      <td>74.400000</td>\n",
       "      <td>excellent</td>\n",
       "    </tr>\n",
       "    <tr>\n",
       "      <th>8</th>\n",
       "      <td>9</td>\n",
       "      <td>I</td>\n",
       "      <td>F</td>\n",
       "      <td>21.0</td>\n",
       "      <td>St Thomas</td>\n",
       "      <td>12.0</td>\n",
       "      <td>340.000000</td>\n",
       "      <td>68.000000</td>\n",
       "      <td>great</td>\n",
       "    </tr>\n",
       "    <tr>\n",
       "      <th>9</th>\n",
       "      <td>10</td>\n",
       "      <td>J</td>\n",
       "      <td>F</td>\n",
       "      <td>23.0</td>\n",
       "      <td>St Marys</td>\n",
       "      <td>10.0</td>\n",
       "      <td>415.000000</td>\n",
       "      <td>83.000000</td>\n",
       "      <td>awesome</td>\n",
       "    </tr>\n",
       "  </tbody>\n",
       "</table>\n",
       "</div>"
      ],
      "text/plain": [
       "   ID Name Gender   Age     School  Absent       Marks  Percentages  \\\n",
       "0   1    A      M  20.0  St Thomas     2.0  402.000000    80.400000   \n",
       "1   2    B      F  24.0  St Thomas     3.0  387.000000    77.400000   \n",
       "2   3    C      M  19.0   St Marys     6.0  389.444444    77.888889   \n",
       "3   4    D      M  21.0  St Thomas     0.0  452.000000    90.400000   \n",
       "4   5    E      F  21.0   St Marys     8.0  348.000000    69.600000   \n",
       "5   6    F      F  19.0   St Marys     6.0  299.000000    59.800000   \n",
       "6   7    G      M  29.5  St Thomas     2.0  472.900000    94.580000   \n",
       "7   8    H      M  21.0  St Thomas     8.0  372.000000    74.400000   \n",
       "8   9    I      F  21.0  St Thomas    12.0  340.000000    68.000000   \n",
       "9  10    J      F  23.0   St Marys    10.0  415.000000    83.000000   \n",
       "\n",
       "  MarksBucket  \n",
       "0     awesome  \n",
       "1   excellent  \n",
       "2   excellent  \n",
       "3     awesome  \n",
       "4       great  \n",
       "5       great  \n",
       "6     awesome  \n",
       "7   excellent  \n",
       "8       great  \n",
       "9     awesome  "
      ]
     },
     "execution_count": 81,
     "metadata": {},
     "output_type": "execute_result"
    }
   ],
   "source": [
    "practisedata"
   ]
  },
  {
   "cell_type": "markdown",
   "metadata": {},
   "source": [
    "Handling Categorical variables- Creates dummies"
   ]
  },
  {
   "cell_type": "code",
   "execution_count": 82,
   "metadata": {},
   "outputs": [],
   "source": [
    "x=pd.get_dummies(practisedata['MarksBucket'],prefix='M')"
   ]
  },
  {
   "cell_type": "code",
   "execution_count": 83,
   "metadata": {},
   "outputs": [
    {
     "data": {
      "text/html": [
       "<div>\n",
       "<style scoped>\n",
       "    .dataframe tbody tr th:only-of-type {\n",
       "        vertical-align: middle;\n",
       "    }\n",
       "\n",
       "    .dataframe tbody tr th {\n",
       "        vertical-align: top;\n",
       "    }\n",
       "\n",
       "    .dataframe thead th {\n",
       "        text-align: right;\n",
       "    }\n",
       "</style>\n",
       "<table border=\"1\" class=\"dataframe\">\n",
       "  <thead>\n",
       "    <tr style=\"text-align: right;\">\n",
       "      <th></th>\n",
       "      <th>M_great</th>\n",
       "      <th>M_excellent</th>\n",
       "      <th>M_awesome</th>\n",
       "    </tr>\n",
       "  </thead>\n",
       "  <tbody>\n",
       "    <tr>\n",
       "      <th>0</th>\n",
       "      <td>0</td>\n",
       "      <td>0</td>\n",
       "      <td>1</td>\n",
       "    </tr>\n",
       "    <tr>\n",
       "      <th>1</th>\n",
       "      <td>0</td>\n",
       "      <td>1</td>\n",
       "      <td>0</td>\n",
       "    </tr>\n",
       "    <tr>\n",
       "      <th>2</th>\n",
       "      <td>0</td>\n",
       "      <td>1</td>\n",
       "      <td>0</td>\n",
       "    </tr>\n",
       "    <tr>\n",
       "      <th>3</th>\n",
       "      <td>0</td>\n",
       "      <td>0</td>\n",
       "      <td>1</td>\n",
       "    </tr>\n",
       "    <tr>\n",
       "      <th>4</th>\n",
       "      <td>1</td>\n",
       "      <td>0</td>\n",
       "      <td>0</td>\n",
       "    </tr>\n",
       "    <tr>\n",
       "      <th>5</th>\n",
       "      <td>1</td>\n",
       "      <td>0</td>\n",
       "      <td>0</td>\n",
       "    </tr>\n",
       "    <tr>\n",
       "      <th>6</th>\n",
       "      <td>0</td>\n",
       "      <td>0</td>\n",
       "      <td>1</td>\n",
       "    </tr>\n",
       "    <tr>\n",
       "      <th>7</th>\n",
       "      <td>0</td>\n",
       "      <td>1</td>\n",
       "      <td>0</td>\n",
       "    </tr>\n",
       "    <tr>\n",
       "      <th>8</th>\n",
       "      <td>1</td>\n",
       "      <td>0</td>\n",
       "      <td>0</td>\n",
       "    </tr>\n",
       "    <tr>\n",
       "      <th>9</th>\n",
       "      <td>0</td>\n",
       "      <td>0</td>\n",
       "      <td>1</td>\n",
       "    </tr>\n",
       "  </tbody>\n",
       "</table>\n",
       "</div>"
      ],
      "text/plain": [
       "   M_great  M_excellent  M_awesome\n",
       "0        0            0          1\n",
       "1        0            1          0\n",
       "2        0            1          0\n",
       "3        0            0          1\n",
       "4        1            0          0\n",
       "5        1            0          0\n",
       "6        0            0          1\n",
       "7        0            1          0\n",
       "8        1            0          0\n",
       "9        0            0          1"
      ]
     },
     "execution_count": 83,
     "metadata": {},
     "output_type": "execute_result"
    }
   ],
   "source": [
    "x"
   ]
  },
  {
   "cell_type": "code",
   "execution_count": 84,
   "metadata": {},
   "outputs": [],
   "source": [
    "practisedata=pd.concat([practisedata,x],axis=1).drop('MarksBucket',axis=1)"
   ]
  },
  {
   "cell_type": "code",
   "execution_count": 85,
   "metadata": {},
   "outputs": [
    {
     "data": {
      "text/html": [
       "<div>\n",
       "<style scoped>\n",
       "    .dataframe tbody tr th:only-of-type {\n",
       "        vertical-align: middle;\n",
       "    }\n",
       "\n",
       "    .dataframe tbody tr th {\n",
       "        vertical-align: top;\n",
       "    }\n",
       "\n",
       "    .dataframe thead th {\n",
       "        text-align: right;\n",
       "    }\n",
       "</style>\n",
       "<table border=\"1\" class=\"dataframe\">\n",
       "  <thead>\n",
       "    <tr style=\"text-align: right;\">\n",
       "      <th></th>\n",
       "      <th>ID</th>\n",
       "      <th>Name</th>\n",
       "      <th>Gender</th>\n",
       "      <th>Age</th>\n",
       "      <th>School</th>\n",
       "      <th>Absent</th>\n",
       "      <th>Marks</th>\n",
       "      <th>Percentages</th>\n",
       "      <th>M_great</th>\n",
       "      <th>M_excellent</th>\n",
       "      <th>M_awesome</th>\n",
       "    </tr>\n",
       "  </thead>\n",
       "  <tbody>\n",
       "    <tr>\n",
       "      <th>0</th>\n",
       "      <td>1</td>\n",
       "      <td>A</td>\n",
       "      <td>M</td>\n",
       "      <td>20.0</td>\n",
       "      <td>St Thomas</td>\n",
       "      <td>2.0</td>\n",
       "      <td>402.000000</td>\n",
       "      <td>80.400000</td>\n",
       "      <td>0</td>\n",
       "      <td>0</td>\n",
       "      <td>1</td>\n",
       "    </tr>\n",
       "    <tr>\n",
       "      <th>1</th>\n",
       "      <td>2</td>\n",
       "      <td>B</td>\n",
       "      <td>F</td>\n",
       "      <td>24.0</td>\n",
       "      <td>St Thomas</td>\n",
       "      <td>3.0</td>\n",
       "      <td>387.000000</td>\n",
       "      <td>77.400000</td>\n",
       "      <td>0</td>\n",
       "      <td>1</td>\n",
       "      <td>0</td>\n",
       "    </tr>\n",
       "    <tr>\n",
       "      <th>2</th>\n",
       "      <td>3</td>\n",
       "      <td>C</td>\n",
       "      <td>M</td>\n",
       "      <td>19.0</td>\n",
       "      <td>St Marys</td>\n",
       "      <td>6.0</td>\n",
       "      <td>389.444444</td>\n",
       "      <td>77.888889</td>\n",
       "      <td>0</td>\n",
       "      <td>1</td>\n",
       "      <td>0</td>\n",
       "    </tr>\n",
       "    <tr>\n",
       "      <th>3</th>\n",
       "      <td>4</td>\n",
       "      <td>D</td>\n",
       "      <td>M</td>\n",
       "      <td>21.0</td>\n",
       "      <td>St Thomas</td>\n",
       "      <td>0.0</td>\n",
       "      <td>452.000000</td>\n",
       "      <td>90.400000</td>\n",
       "      <td>0</td>\n",
       "      <td>0</td>\n",
       "      <td>1</td>\n",
       "    </tr>\n",
       "    <tr>\n",
       "      <th>4</th>\n",
       "      <td>5</td>\n",
       "      <td>E</td>\n",
       "      <td>F</td>\n",
       "      <td>21.0</td>\n",
       "      <td>St Marys</td>\n",
       "      <td>8.0</td>\n",
       "      <td>348.000000</td>\n",
       "      <td>69.600000</td>\n",
       "      <td>1</td>\n",
       "      <td>0</td>\n",
       "      <td>0</td>\n",
       "    </tr>\n",
       "    <tr>\n",
       "      <th>5</th>\n",
       "      <td>6</td>\n",
       "      <td>F</td>\n",
       "      <td>F</td>\n",
       "      <td>19.0</td>\n",
       "      <td>St Marys</td>\n",
       "      <td>6.0</td>\n",
       "      <td>299.000000</td>\n",
       "      <td>59.800000</td>\n",
       "      <td>1</td>\n",
       "      <td>0</td>\n",
       "      <td>0</td>\n",
       "    </tr>\n",
       "    <tr>\n",
       "      <th>6</th>\n",
       "      <td>7</td>\n",
       "      <td>G</td>\n",
       "      <td>M</td>\n",
       "      <td>29.5</td>\n",
       "      <td>St Thomas</td>\n",
       "      <td>2.0</td>\n",
       "      <td>472.900000</td>\n",
       "      <td>94.580000</td>\n",
       "      <td>0</td>\n",
       "      <td>0</td>\n",
       "      <td>1</td>\n",
       "    </tr>\n",
       "    <tr>\n",
       "      <th>7</th>\n",
       "      <td>8</td>\n",
       "      <td>H</td>\n",
       "      <td>M</td>\n",
       "      <td>21.0</td>\n",
       "      <td>St Thomas</td>\n",
       "      <td>8.0</td>\n",
       "      <td>372.000000</td>\n",
       "      <td>74.400000</td>\n",
       "      <td>0</td>\n",
       "      <td>1</td>\n",
       "      <td>0</td>\n",
       "    </tr>\n",
       "    <tr>\n",
       "      <th>8</th>\n",
       "      <td>9</td>\n",
       "      <td>I</td>\n",
       "      <td>F</td>\n",
       "      <td>21.0</td>\n",
       "      <td>St Thomas</td>\n",
       "      <td>12.0</td>\n",
       "      <td>340.000000</td>\n",
       "      <td>68.000000</td>\n",
       "      <td>1</td>\n",
       "      <td>0</td>\n",
       "      <td>0</td>\n",
       "    </tr>\n",
       "    <tr>\n",
       "      <th>9</th>\n",
       "      <td>10</td>\n",
       "      <td>J</td>\n",
       "      <td>F</td>\n",
       "      <td>23.0</td>\n",
       "      <td>St Marys</td>\n",
       "      <td>10.0</td>\n",
       "      <td>415.000000</td>\n",
       "      <td>83.000000</td>\n",
       "      <td>0</td>\n",
       "      <td>0</td>\n",
       "      <td>1</td>\n",
       "    </tr>\n",
       "  </tbody>\n",
       "</table>\n",
       "</div>"
      ],
      "text/plain": [
       "   ID Name Gender   Age     School  Absent       Marks  Percentages  M_great  \\\n",
       "0   1    A      M  20.0  St Thomas     2.0  402.000000    80.400000        0   \n",
       "1   2    B      F  24.0  St Thomas     3.0  387.000000    77.400000        0   \n",
       "2   3    C      M  19.0   St Marys     6.0  389.444444    77.888889        0   \n",
       "3   4    D      M  21.0  St Thomas     0.0  452.000000    90.400000        0   \n",
       "4   5    E      F  21.0   St Marys     8.0  348.000000    69.600000        1   \n",
       "5   6    F      F  19.0   St Marys     6.0  299.000000    59.800000        1   \n",
       "6   7    G      M  29.5  St Thomas     2.0  472.900000    94.580000        0   \n",
       "7   8    H      M  21.0  St Thomas     8.0  372.000000    74.400000        0   \n",
       "8   9    I      F  21.0  St Thomas    12.0  340.000000    68.000000        1   \n",
       "9  10    J      F  23.0   St Marys    10.0  415.000000    83.000000        0   \n",
       "\n",
       "   M_excellent  M_awesome  \n",
       "0            0          1  \n",
       "1            1          0  \n",
       "2            1          0  \n",
       "3            0          1  \n",
       "4            0          0  \n",
       "5            0          0  \n",
       "6            0          1  \n",
       "7            1          0  \n",
       "8            0          0  \n",
       "9            0          1  "
      ]
     },
     "execution_count": 85,
     "metadata": {},
     "output_type": "execute_result"
    }
   ],
   "source": [
    "practisedata"
   ]
  },
  {
   "cell_type": "markdown",
   "metadata": {},
   "source": [
    "Apply functions to each element/rows or columns of a DataFrame"
   ]
  },
  {
   "cell_type": "markdown",
   "metadata": {},
   "source": [
    "Using\n",
    "\n",
    "s.map(), apply a func to each element of a Series\n",
    "df.applymap() apply a func to each element of a DF\n",
    "df.apply() apply a func to rows/columns of a DF\n",
    "\n",
    "Lambda functions are also known as ANONYMOUS functions because they typically do not have a name.\n",
    "\n",
    "The are used extensively in Python, and even more with the map(), applymap() and apply() methods"
   ]
  },
  {
   "cell_type": "code",
   "execution_count": 86,
   "metadata": {},
   "outputs": [
    {
     "data": {
      "text/html": [
       "<div>\n",
       "<style scoped>\n",
       "    .dataframe tbody tr th:only-of-type {\n",
       "        vertical-align: middle;\n",
       "    }\n",
       "\n",
       "    .dataframe tbody tr th {\n",
       "        vertical-align: top;\n",
       "    }\n",
       "\n",
       "    .dataframe thead th {\n",
       "        text-align: right;\n",
       "    }\n",
       "</style>\n",
       "<table border=\"1\" class=\"dataframe\">\n",
       "  <thead>\n",
       "    <tr style=\"text-align: right;\">\n",
       "      <th></th>\n",
       "      <th>v</th>\n",
       "      <th>w</th>\n",
       "      <th>x</th>\n",
       "      <th>y</th>\n",
       "      <th>z</th>\n",
       "    </tr>\n",
       "  </thead>\n",
       "  <tbody>\n",
       "    <tr>\n",
       "      <th>a</th>\n",
       "      <td>-0.63</td>\n",
       "      <td>-1.13</td>\n",
       "      <td>-0.45</td>\n",
       "      <td>2.12</td>\n",
       "      <td>-0.67</td>\n",
       "    </tr>\n",
       "    <tr>\n",
       "      <th>b</th>\n",
       "      <td>-2.44</td>\n",
       "      <td>0.09</td>\n",
       "      <td>-0.71</td>\n",
       "      <td>0.20</td>\n",
       "      <td>0.88</td>\n",
       "    </tr>\n",
       "    <tr>\n",
       "      <th>c</th>\n",
       "      <td>0.27</td>\n",
       "      <td>0.49</td>\n",
       "      <td>1.80</td>\n",
       "      <td>1.05</td>\n",
       "      <td>-0.18</td>\n",
       "    </tr>\n",
       "    <tr>\n",
       "      <th>d</th>\n",
       "      <td>-2.05</td>\n",
       "      <td>-0.19</td>\n",
       "      <td>0.69</td>\n",
       "      <td>-1.41</td>\n",
       "      <td>0.52</td>\n",
       "    </tr>\n",
       "    <tr>\n",
       "      <th>e</th>\n",
       "      <td>-1.12</td>\n",
       "      <td>-0.79</td>\n",
       "      <td>-0.24</td>\n",
       "      <td>0.08</td>\n",
       "      <td>0.66</td>\n",
       "    </tr>\n",
       "  </tbody>\n",
       "</table>\n",
       "</div>"
      ],
      "text/plain": [
       "      v     w     x     y     z\n",
       "a -0.63 -1.13 -0.45  2.12 -0.67\n",
       "b -2.44  0.09 -0.71  0.20  0.88\n",
       "c  0.27  0.49  1.80  1.05 -0.18\n",
       "d -2.05 -0.19  0.69 -1.41  0.52\n",
       "e -1.12 -0.79 -0.24  0.08  0.66"
      ]
     },
     "execution_count": 86,
     "metadata": {},
     "output_type": "execute_result"
    }
   ],
   "source": [
    "df = pd.DataFrame(np.random.randn(25).reshape(5,5), \n",
    "                index=list('abcde'), \n",
    "                columns=list('vwxyz')).round(2); \n",
    "df"
   ]
  },
  {
   "cell_type": "code",
   "execution_count": 87,
   "metadata": {},
   "outputs": [
    {
     "name": "stdout",
     "output_type": "stream",
     "text": [
      "      v     w     x     y     z\n",
      "a  -0.6  -1.1  -0.5   2.1  -0.7\n",
      "b  -2.4   0.1  -0.7   0.2   0.9\n",
      "c   0.3   0.5   1.8   1.1  -0.2\n",
      "d  -2.0  -0.2   0.7  -1.4   0.5\n",
      "e  -1.1  -0.8  -0.2   0.1   0.7\n",
      "v    2.71\n",
      "w    1.62\n",
      "x    2.51\n",
      "y    3.53\n",
      "z    1.55\n",
      "dtype: float64\n"
     ]
    }
   ],
   "source": [
    "# Write a function that formats a number to 2 decimal places\n",
    "format8 = lambda x: '%.1f' %x\n",
    "\n",
    "# SAME AS\n",
    "# def format8(x):\n",
    "#     return '%.2f' %x\n",
    "\n",
    "\n",
    "# Apply this function to each element of the Series\n",
    "print(df.applymap(format8))\n",
    "\n",
    "# Apply the function over columns\n",
    "# Get the RANGE of each column\n",
    "print(df.apply(lambda x: x.max() - x.min()))"
   ]
  },
  {
   "cell_type": "code",
   "execution_count": 88,
   "metadata": {},
   "outputs": [
    {
     "data": {
      "text/html": [
       "<div>\n",
       "<style scoped>\n",
       "    .dataframe tbody tr th:only-of-type {\n",
       "        vertical-align: middle;\n",
       "    }\n",
       "\n",
       "    .dataframe tbody tr th {\n",
       "        vertical-align: top;\n",
       "    }\n",
       "\n",
       "    .dataframe thead th {\n",
       "        text-align: right;\n",
       "    }\n",
       "</style>\n",
       "<table border=\"1\" class=\"dataframe\">\n",
       "  <thead>\n",
       "    <tr style=\"text-align: right;\">\n",
       "      <th></th>\n",
       "      <th>v</th>\n",
       "      <th>w</th>\n",
       "      <th>x</th>\n",
       "      <th>y</th>\n",
       "      <th>z</th>\n",
       "    </tr>\n",
       "  </thead>\n",
       "  <tbody>\n",
       "    <tr>\n",
       "      <th>MIN.</th>\n",
       "      <td>-2.440</td>\n",
       "      <td>-1.130</td>\n",
       "      <td>-0.710</td>\n",
       "      <td>-1.410</td>\n",
       "      <td>-0.670</td>\n",
       "    </tr>\n",
       "    <tr>\n",
       "      <th>MEAN.</th>\n",
       "      <td>-1.194</td>\n",
       "      <td>-0.306</td>\n",
       "      <td>0.218</td>\n",
       "      <td>0.408</td>\n",
       "      <td>0.242</td>\n",
       "    </tr>\n",
       "    <tr>\n",
       "      <th>MAX.</th>\n",
       "      <td>0.270</td>\n",
       "      <td>0.490</td>\n",
       "      <td>1.800</td>\n",
       "      <td>2.120</td>\n",
       "      <td>0.880</td>\n",
       "    </tr>\n",
       "  </tbody>\n",
       "</table>\n",
       "</div>"
      ],
      "text/plain": [
       "           v      w      x      y      z\n",
       "MIN.  -2.440 -1.130 -0.710 -1.410 -0.670\n",
       "MEAN. -1.194 -0.306  0.218  0.408  0.242\n",
       "MAX.   0.270  0.490  1.800  2.120  0.880"
      ]
     },
     "execution_count": 88,
     "metadata": {},
     "output_type": "execute_result"
    }
   ],
   "source": [
    "# Use a general function that returns multiple values\n",
    "def func8(x):\n",
    "    return pd.Series([x.min(), x.mean(), x.max()], \n",
    "                  index=['MIN.', 'MEAN.', 'MAX.'])\n",
    "\n",
    "df.apply(lambda x: func8(x))"
   ]
  },
  {
   "cell_type": "code",
   "execution_count": 89,
   "metadata": {},
   "outputs": [
    {
     "data": {
      "text/html": [
       "<div>\n",
       "<style scoped>\n",
       "    .dataframe tbody tr th:only-of-type {\n",
       "        vertical-align: middle;\n",
       "    }\n",
       "\n",
       "    .dataframe tbody tr th {\n",
       "        vertical-align: top;\n",
       "    }\n",
       "\n",
       "    .dataframe thead th {\n",
       "        text-align: right;\n",
       "    }\n",
       "</style>\n",
       "<table border=\"1\" class=\"dataframe\">\n",
       "  <thead>\n",
       "    <tr style=\"text-align: right;\">\n",
       "      <th></th>\n",
       "      <th>MIN.</th>\n",
       "      <th>MEAN.</th>\n",
       "      <th>MAX.</th>\n",
       "    </tr>\n",
       "  </thead>\n",
       "  <tbody>\n",
       "    <tr>\n",
       "      <th>a</th>\n",
       "      <td>-1.13</td>\n",
       "      <td>-0.152</td>\n",
       "      <td>2.12</td>\n",
       "    </tr>\n",
       "    <tr>\n",
       "      <th>b</th>\n",
       "      <td>-2.44</td>\n",
       "      <td>-0.396</td>\n",
       "      <td>0.88</td>\n",
       "    </tr>\n",
       "    <tr>\n",
       "      <th>c</th>\n",
       "      <td>-0.18</td>\n",
       "      <td>0.686</td>\n",
       "      <td>1.80</td>\n",
       "    </tr>\n",
       "    <tr>\n",
       "      <th>d</th>\n",
       "      <td>-2.05</td>\n",
       "      <td>-0.488</td>\n",
       "      <td>0.69</td>\n",
       "    </tr>\n",
       "    <tr>\n",
       "      <th>e</th>\n",
       "      <td>-1.12</td>\n",
       "      <td>-0.282</td>\n",
       "      <td>0.66</td>\n",
       "    </tr>\n",
       "  </tbody>\n",
       "</table>\n",
       "</div>"
      ],
      "text/plain": [
       "   MIN.  MEAN.  MAX.\n",
       "a -1.13 -0.152  2.12\n",
       "b -2.44 -0.396  0.88\n",
       "c -0.18  0.686  1.80\n",
       "d -2.05 -0.488  0.69\n",
       "e -1.12 -0.282  0.66"
      ]
     },
     "execution_count": 89,
     "metadata": {},
     "output_type": "execute_result"
    }
   ],
   "source": [
    "# Over Rows\n",
    "df.apply(func8, axis=1)"
   ]
  },
  {
   "cell_type": "markdown",
   "metadata": {},
   "source": [
    "Table Manipulations\n",
    "\n",
    "Implementing Split-Apply-Combine: The groupby method"
   ]
  },
  {
   "cell_type": "code",
   "execution_count": 90,
   "metadata": {},
   "outputs": [
    {
     "data": {
      "text/plain": [
       "Index(['ID', 'Name', 'Gender', 'Age', 'School', 'Absent', 'Marks',\n",
       "       'Percentages', 'M_great', 'M_excellent', 'M_awesome'],\n",
       "      dtype='object')"
      ]
     },
     "execution_count": 90,
     "metadata": {},
     "output_type": "execute_result"
    }
   ],
   "source": [
    "practisedata.columns"
   ]
  },
  {
   "cell_type": "code",
   "execution_count": 91,
   "metadata": {},
   "outputs": [
    {
     "data": {
      "text/html": [
       "<div>\n",
       "<style scoped>\n",
       "    .dataframe tbody tr th:only-of-type {\n",
       "        vertical-align: middle;\n",
       "    }\n",
       "\n",
       "    .dataframe tbody tr th {\n",
       "        vertical-align: top;\n",
       "    }\n",
       "\n",
       "    .dataframe thead th {\n",
       "        text-align: right;\n",
       "    }\n",
       "</style>\n",
       "<table border=\"1\" class=\"dataframe\">\n",
       "  <thead>\n",
       "    <tr style=\"text-align: right;\">\n",
       "      <th></th>\n",
       "      <th>Marks</th>\n",
       "    </tr>\n",
       "    <tr>\n",
       "      <th>Gender</th>\n",
       "      <th></th>\n",
       "    </tr>\n",
       "  </thead>\n",
       "  <tbody>\n",
       "    <tr>\n",
       "      <th>F</th>\n",
       "      <td>357.800000</td>\n",
       "    </tr>\n",
       "    <tr>\n",
       "      <th>M</th>\n",
       "      <td>417.668889</td>\n",
       "    </tr>\n",
       "  </tbody>\n",
       "</table>\n",
       "</div>"
      ],
      "text/plain": [
       "             Marks\n",
       "Gender            \n",
       "F       357.800000\n",
       "M       417.668889"
      ]
     },
     "execution_count": 91,
     "metadata": {},
     "output_type": "execute_result"
    }
   ],
   "source": [
    "practisedata[['Gender','Marks']].groupby('Gender').mean()"
   ]
  },
  {
   "cell_type": "code",
   "execution_count": 92,
   "metadata": {},
   "outputs": [
    {
     "data": {
      "text/html": [
       "<div>\n",
       "<style scoped>\n",
       "    .dataframe tbody tr th:only-of-type {\n",
       "        vertical-align: middle;\n",
       "    }\n",
       "\n",
       "    .dataframe tbody tr th {\n",
       "        vertical-align: top;\n",
       "    }\n",
       "\n",
       "    .dataframe thead tr th {\n",
       "        text-align: left;\n",
       "    }\n",
       "\n",
       "    .dataframe thead tr:last-of-type th {\n",
       "        text-align: right;\n",
       "    }\n",
       "</style>\n",
       "<table border=\"1\" class=\"dataframe\">\n",
       "  <thead>\n",
       "    <tr>\n",
       "      <th></th>\n",
       "      <th></th>\n",
       "      <th colspan=\"6\" halign=\"left\">Marks</th>\n",
       "    </tr>\n",
       "    <tr>\n",
       "      <th></th>\n",
       "      <th></th>\n",
       "      <th>max</th>\n",
       "      <th>min</th>\n",
       "      <th>sum</th>\n",
       "      <th>mean</th>\n",
       "      <th>median</th>\n",
       "      <th>std</th>\n",
       "    </tr>\n",
       "    <tr>\n",
       "      <th>School</th>\n",
       "      <th>Gender</th>\n",
       "      <th></th>\n",
       "      <th></th>\n",
       "      <th></th>\n",
       "      <th></th>\n",
       "      <th></th>\n",
       "      <th></th>\n",
       "    </tr>\n",
       "  </thead>\n",
       "  <tbody>\n",
       "    <tr>\n",
       "      <th rowspan=\"2\" valign=\"top\">St Marys</th>\n",
       "      <th>F</th>\n",
       "      <td>415.000000</td>\n",
       "      <td>299.000000</td>\n",
       "      <td>1062.000000</td>\n",
       "      <td>354.000000</td>\n",
       "      <td>348.000000</td>\n",
       "      <td>58.232293</td>\n",
       "    </tr>\n",
       "    <tr>\n",
       "      <th>M</th>\n",
       "      <td>389.444444</td>\n",
       "      <td>389.444444</td>\n",
       "      <td>389.444444</td>\n",
       "      <td>389.444444</td>\n",
       "      <td>389.444444</td>\n",
       "      <td>NaN</td>\n",
       "    </tr>\n",
       "    <tr>\n",
       "      <th rowspan=\"2\" valign=\"top\">St Thomas</th>\n",
       "      <th>F</th>\n",
       "      <td>387.000000</td>\n",
       "      <td>340.000000</td>\n",
       "      <td>727.000000</td>\n",
       "      <td>363.500000</td>\n",
       "      <td>363.500000</td>\n",
       "      <td>33.234019</td>\n",
       "    </tr>\n",
       "    <tr>\n",
       "      <th>M</th>\n",
       "      <td>472.900000</td>\n",
       "      <td>372.000000</td>\n",
       "      <td>1698.900000</td>\n",
       "      <td>424.725000</td>\n",
       "      <td>427.000000</td>\n",
       "      <td>46.047466</td>\n",
       "    </tr>\n",
       "  </tbody>\n",
       "</table>\n",
       "</div>"
      ],
      "text/plain": [
       "                       Marks                                                   \\\n",
       "                         max         min          sum        mean      median   \n",
       "School    Gender                                                                \n",
       "St Marys  F       415.000000  299.000000  1062.000000  354.000000  348.000000   \n",
       "          M       389.444444  389.444444   389.444444  389.444444  389.444444   \n",
       "St Thomas F       387.000000  340.000000   727.000000  363.500000  363.500000   \n",
       "          M       472.900000  372.000000  1698.900000  424.725000  427.000000   \n",
       "\n",
       "                             \n",
       "                        std  \n",
       "School    Gender             \n",
       "St Marys  F       58.232293  \n",
       "          M             NaN  \n",
       "St Thomas F       33.234019  \n",
       "          M       46.047466  "
      ]
     },
     "execution_count": 92,
     "metadata": {},
     "output_type": "execute_result"
    }
   ],
   "source": [
    "practisedata[['School','Gender','Marks']].groupby(['School','Gender']).agg(['max','min','sum','mean','median','std'])"
   ]
  },
  {
   "cell_type": "code",
   "execution_count": 93,
   "metadata": {},
   "outputs": [],
   "source": [
    "g=practisedata[['School','Gender','Marks']].groupby(['School','Gender'])"
   ]
  },
  {
   "cell_type": "code",
   "execution_count": 94,
   "metadata": {},
   "outputs": [
    {
     "data": {
      "text/html": [
       "<div>\n",
       "<style scoped>\n",
       "    .dataframe tbody tr th:only-of-type {\n",
       "        vertical-align: middle;\n",
       "    }\n",
       "\n",
       "    .dataframe tbody tr th {\n",
       "        vertical-align: top;\n",
       "    }\n",
       "\n",
       "    .dataframe thead th {\n",
       "        text-align: right;\n",
       "    }\n",
       "</style>\n",
       "<table border=\"1\" class=\"dataframe\">\n",
       "  <thead>\n",
       "    <tr style=\"text-align: right;\">\n",
       "      <th></th>\n",
       "      <th>Max</th>\n",
       "      <th>Min</th>\n",
       "      <th>sum</th>\n",
       "      <th>avg</th>\n",
       "      <th>median</th>\n",
       "      <th>std</th>\n",
       "    </tr>\n",
       "  </thead>\n",
       "  <tbody>\n",
       "    <tr>\n",
       "      <th>0</th>\n",
       "      <td>415.000000</td>\n",
       "      <td>299.000000</td>\n",
       "      <td>1062.000000</td>\n",
       "      <td>354.000000</td>\n",
       "      <td>348.000000</td>\n",
       "      <td>58.232293</td>\n",
       "    </tr>\n",
       "    <tr>\n",
       "      <th>1</th>\n",
       "      <td>389.444444</td>\n",
       "      <td>389.444444</td>\n",
       "      <td>389.444444</td>\n",
       "      <td>389.444444</td>\n",
       "      <td>389.444444</td>\n",
       "      <td>NaN</td>\n",
       "    </tr>\n",
       "    <tr>\n",
       "      <th>2</th>\n",
       "      <td>387.000000</td>\n",
       "      <td>340.000000</td>\n",
       "      <td>727.000000</td>\n",
       "      <td>363.500000</td>\n",
       "      <td>363.500000</td>\n",
       "      <td>33.234019</td>\n",
       "    </tr>\n",
       "    <tr>\n",
       "      <th>3</th>\n",
       "      <td>472.900000</td>\n",
       "      <td>372.000000</td>\n",
       "      <td>1698.900000</td>\n",
       "      <td>424.725000</td>\n",
       "      <td>427.000000</td>\n",
       "      <td>46.047466</td>\n",
       "    </tr>\n",
       "  </tbody>\n",
       "</table>\n",
       "</div>"
      ],
      "text/plain": [
       "          Max         Min          sum         avg      median        std\n",
       "0  415.000000  299.000000  1062.000000  354.000000  348.000000  58.232293\n",
       "1  389.444444  389.444444   389.444444  389.444444  389.444444        NaN\n",
       "2  387.000000  340.000000   727.000000  363.500000  363.500000  33.234019\n",
       "3  472.900000  372.000000  1698.900000  424.725000  427.000000  46.047466"
      ]
     },
     "execution_count": 94,
     "metadata": {},
     "output_type": "execute_result"
    }
   ],
   "source": [
    "pd.DataFrame(pd.concat([g.max(), g.min(), g.sum(), g.mean(), g.median(), g.std()], axis=1).values, \n",
    "             columns=['Max', 'Min', 'sum','avg', 'median', 'std'])"
   ]
  },
  {
   "cell_type": "markdown",
   "metadata": {},
   "source": [
    "MERGING - JOINING"
   ]
  },
  {
   "cell_type": "code",
   "execution_count": 95,
   "metadata": {},
   "outputs": [
    {
     "name": "stdout",
     "output_type": "stream",
     "text": [
      "df0\n",
      "   key  data0\n",
      "0   a     34\n",
      "1   b     20\n",
      "2   c     76\n",
      "3   d     86\n",
      "4   e     80 \n",
      "df1\n",
      "   key  data2\n",
      "0   a     89\n",
      "1   b     32\n",
      "2   d     74\n",
      "3   f     12\n",
      "4   g      6\n"
     ]
    }
   ],
   "source": [
    "df0 = pd.DataFrame({'key': ['a', 'b', 'c', 'd', 'e'], 'data0': np.random.randint(0, 100, 5)})\n",
    "df1 = pd.DataFrame({'key': ['a', 'b', 'd', 'f', 'g'], 'data2': np.random.randint(0, 100, 5)})\n",
    "print('df0\\n', df0, '\\ndf1\\n',df1)"
   ]
  },
  {
   "cell_type": "code",
   "execution_count": 96,
   "metadata": {},
   "outputs": [
    {
     "name": "stdout",
     "output_type": "stream",
     "text": [
      "  key  data0  data2\n",
      "0   a     34     89\n",
      "1   b     20     32\n",
      "2   d     86     74\n"
     ]
    }
   ],
   "source": [
    "# Inner Join (Default)\n",
    "\n",
    "print(pd.merge(df0, df1))\n",
    "# or\n",
    "#print pd.merge(df0, df1, how='inner', on='key')\n",
    "\n",
    "# We see that its an inner join by default (output key is the intersection of input keys)\n",
    "# Merge happens on the column 'key' which is common to both datasets;\n",
    "    # We could've written pd.merge(df1, df2, on='key', how='inner') to the same effect"
   ]
  },
  {
   "cell_type": "code",
   "execution_count": 97,
   "metadata": {},
   "outputs": [
    {
     "name": "stdout",
     "output_type": "stream",
     "text": [
      "  key  data0  data2\n",
      "0   a     34   89.0\n",
      "1   b     20   32.0\n",
      "2   c     76    NaN\n",
      "3   d     86   74.0\n",
      "4   e     80    NaN\n"
     ]
    }
   ],
   "source": [
    "# Left Join\n",
    "print(pd.merge(df0, df1, how='left'))\n",
    "\n",
    "# The output table has all the key values from the left table, and matching ones from the right"
   ]
  },
  {
   "cell_type": "code",
   "execution_count": 98,
   "metadata": {},
   "outputs": [
    {
     "name": "stdout",
     "output_type": "stream",
     "text": [
      "  key  data0  data2\n",
      "0   a   34.0     89\n",
      "1   b   20.0     32\n",
      "2   d   86.0     74\n",
      "3   f    NaN     12\n",
      "4   g    NaN      6\n"
     ]
    }
   ],
   "source": [
    "# Right Join\n",
    "print(pd.merge(df0, df1, how='right'))\n",
    "\n",
    "# The output table has all the key values from the right table, and matching ones from the left"
   ]
  },
  {
   "cell_type": "code",
   "execution_count": 99,
   "metadata": {},
   "outputs": [
    {
     "name": "stdout",
     "output_type": "stream",
     "text": [
      "  key  data0  data2\n",
      "0   a   34.0   89.0\n",
      "1   b   20.0   32.0\n",
      "2   c   76.0    NaN\n",
      "3   d   86.0   74.0\n",
      "4   e   80.0    NaN\n",
      "5   f    NaN   12.0\n",
      "6   g    NaN    6.0\n"
     ]
    }
   ],
   "source": [
    "# Outer Join\n",
    "print(pd.merge(df0, df1, how='outer'))\n",
    "\n",
    "# The output table has a UNION of the keys"
   ]
  },
  {
   "cell_type": "code",
   "execution_count": 100,
   "metadata": {},
   "outputs": [
    {
     "name": "stdout",
     "output_type": "stream",
     "text": [
      "['key', 'data0']\n",
      "['key', 'data2']\n",
      "['key']\n"
     ]
    }
   ],
   "source": [
    "# Check the common columns are exist or not\n",
    "print(df0.columns.tolist())\n",
    "print(df1.columns.tolist())\n",
    "\n",
    "print(np.intersect1d(df0.columns.tolist(), df1.columns.tolist()))\n",
    "\n",
    "#pd.merge(df1, df4) \n",
    "# would yield an error because there are no matching column names to merge on \n",
    "# If there are no common keys, `pd.merge` will throw a `MergeError"
   ]
  },
  {
   "cell_type": "markdown",
   "metadata": {},
   "source": [
    "The .join() method"
   ]
  },
  {
   "cell_type": "code",
   "execution_count": 110,
   "metadata": {},
   "outputs": [
    {
     "name": "stdout",
     "output_type": "stream",
     "text": [
      "    W   X   Y   Z\n",
      "a  49  28  44   8\n",
      "b  31  36  33  16\n",
      "c   8  39  17  17\n",
      "d  43  17  30  31\n",
      "e  35  13  24   9\n",
      "f  43  18   9  38\n",
      "g   7  23   4   9\n",
      "h  46  48   4  45 \n",
      "\n",
      "     W   X\n",
      "c   8  39\n",
      "d  43  17\n",
      "e  35  13\n",
      "f  43  18\n",
      "g   7  23\n",
      "h  46  48 \n",
      "\n",
      "     Y   Z\n",
      "a  44   8\n",
      "b  33  16\n",
      "c  17  17\n",
      "d  30  31\n",
      "e  24   9\n"
     ]
    },
    {
     "name": "stderr",
     "output_type": "stream",
     "text": [
      "C:\\Users\\DELL-IN\\Anaconda3\\lib\\site-packages\\ipykernel_launcher.py:3: DeprecationWarning: \n",
      ".ix is deprecated. Please use\n",
      ".loc for label based indexing or\n",
      ".iloc for positional indexing\n",
      "\n",
      "See the documentation here:\n",
      "http://pandas.pydata.org/pandas-docs/stable/indexing.html#ix-indexer-is-deprecated\n",
      "  This is separate from the ipykernel package so we can avoid doing imports until\n",
      "C:\\Users\\DELL-IN\\Anaconda3\\lib\\site-packages\\ipykernel_launcher.py:4: DeprecationWarning: \n",
      ".ix is deprecated. Please use\n",
      ".loc for label based indexing or\n",
      ".iloc for positional indexing\n",
      "\n",
      "See the documentation here:\n",
      "http://pandas.pydata.org/pandas-docs/stable/indexing.html#ix-indexer-is-deprecated\n",
      "  after removing the cwd from sys.path.\n"
     ]
    }
   ],
   "source": [
    "df = pd.DataFrame(np.random.randint(0, 50, 32).reshape(8, 4), columns=list('WXYZ'), index=list('abcdefgh'))\n",
    "\n",
    "df1 = df.ix[2:, ['W', 'X']]\n",
    "df2 = df.ix[:5, ['Y', 'Z']]\n",
    "\n",
    "print(df, '\\n\\n', df1, '\\n\\n', df2)"
   ]
  },
  {
   "cell_type": "code",
   "execution_count": 111,
   "metadata": {},
   "outputs": [
    {
     "data": {
      "text/html": [
       "<div>\n",
       "<style scoped>\n",
       "    .dataframe tbody tr th:only-of-type {\n",
       "        vertical-align: middle;\n",
       "    }\n",
       "\n",
       "    .dataframe tbody tr th {\n",
       "        vertical-align: top;\n",
       "    }\n",
       "\n",
       "    .dataframe thead th {\n",
       "        text-align: right;\n",
       "    }\n",
       "</style>\n",
       "<table border=\"1\" class=\"dataframe\">\n",
       "  <thead>\n",
       "    <tr style=\"text-align: right;\">\n",
       "      <th></th>\n",
       "      <th>W</th>\n",
       "      <th>X</th>\n",
       "      <th>Y</th>\n",
       "      <th>Z</th>\n",
       "    </tr>\n",
       "  </thead>\n",
       "  <tbody>\n",
       "    <tr>\n",
       "      <th>c</th>\n",
       "      <td>8</td>\n",
       "      <td>39</td>\n",
       "      <td>17.0</td>\n",
       "      <td>17.0</td>\n",
       "    </tr>\n",
       "    <tr>\n",
       "      <th>d</th>\n",
       "      <td>43</td>\n",
       "      <td>17</td>\n",
       "      <td>30.0</td>\n",
       "      <td>31.0</td>\n",
       "    </tr>\n",
       "    <tr>\n",
       "      <th>e</th>\n",
       "      <td>35</td>\n",
       "      <td>13</td>\n",
       "      <td>24.0</td>\n",
       "      <td>9.0</td>\n",
       "    </tr>\n",
       "    <tr>\n",
       "      <th>f</th>\n",
       "      <td>43</td>\n",
       "      <td>18</td>\n",
       "      <td>NaN</td>\n",
       "      <td>NaN</td>\n",
       "    </tr>\n",
       "    <tr>\n",
       "      <th>g</th>\n",
       "      <td>7</td>\n",
       "      <td>23</td>\n",
       "      <td>NaN</td>\n",
       "      <td>NaN</td>\n",
       "    </tr>\n",
       "    <tr>\n",
       "      <th>h</th>\n",
       "      <td>46</td>\n",
       "      <td>48</td>\n",
       "      <td>NaN</td>\n",
       "      <td>NaN</td>\n",
       "    </tr>\n",
       "  </tbody>\n",
       "</table>\n",
       "</div>"
      ],
      "text/plain": [
       "    W   X     Y     Z\n",
       "c   8  39  17.0  17.0\n",
       "d  43  17  30.0  31.0\n",
       "e  35  13  24.0   9.0\n",
       "f  43  18   NaN   NaN\n",
       "g   7  23   NaN   NaN\n",
       "h  46  48   NaN   NaN"
      ]
     },
     "execution_count": 111,
     "metadata": {},
     "output_type": "execute_result"
    }
   ],
   "source": [
    "# Default actions is a left join on the indexes\n",
    "df1.join(df2)"
   ]
  },
  {
   "cell_type": "code",
   "execution_count": 112,
   "metadata": {},
   "outputs": [
    {
     "data": {
      "text/html": [
       "<div>\n",
       "<style scoped>\n",
       "    .dataframe tbody tr th:only-of-type {\n",
       "        vertical-align: middle;\n",
       "    }\n",
       "\n",
       "    .dataframe tbody tr th {\n",
       "        vertical-align: top;\n",
       "    }\n",
       "\n",
       "    .dataframe thead th {\n",
       "        text-align: right;\n",
       "    }\n",
       "</style>\n",
       "<table border=\"1\" class=\"dataframe\">\n",
       "  <thead>\n",
       "    <tr style=\"text-align: right;\">\n",
       "      <th></th>\n",
       "      <th>W</th>\n",
       "      <th>X</th>\n",
       "      <th>Y</th>\n",
       "      <th>Z</th>\n",
       "    </tr>\n",
       "  </thead>\n",
       "  <tbody>\n",
       "    <tr>\n",
       "      <th>c</th>\n",
       "      <td>8</td>\n",
       "      <td>39</td>\n",
       "      <td>17.0</td>\n",
       "      <td>17.0</td>\n",
       "    </tr>\n",
       "    <tr>\n",
       "      <th>d</th>\n",
       "      <td>43</td>\n",
       "      <td>17</td>\n",
       "      <td>30.0</td>\n",
       "      <td>31.0</td>\n",
       "    </tr>\n",
       "    <tr>\n",
       "      <th>e</th>\n",
       "      <td>35</td>\n",
       "      <td>13</td>\n",
       "      <td>24.0</td>\n",
       "      <td>9.0</td>\n",
       "    </tr>\n",
       "    <tr>\n",
       "      <th>f</th>\n",
       "      <td>43</td>\n",
       "      <td>18</td>\n",
       "      <td>NaN</td>\n",
       "      <td>NaN</td>\n",
       "    </tr>\n",
       "    <tr>\n",
       "      <th>g</th>\n",
       "      <td>7</td>\n",
       "      <td>23</td>\n",
       "      <td>NaN</td>\n",
       "      <td>NaN</td>\n",
       "    </tr>\n",
       "    <tr>\n",
       "      <th>h</th>\n",
       "      <td>46</td>\n",
       "      <td>48</td>\n",
       "      <td>NaN</td>\n",
       "      <td>NaN</td>\n",
       "    </tr>\n",
       "  </tbody>\n",
       "</table>\n",
       "</div>"
      ],
      "text/plain": [
       "    W   X     Y     Z\n",
       "c   8  39  17.0  17.0\n",
       "d  43  17  30.0  31.0\n",
       "e  35  13  24.0   9.0\n",
       "f  43  18   NaN   NaN\n",
       "g   7  23   NaN   NaN\n",
       "h  46  48   NaN   NaN"
      ]
     },
     "execution_count": 112,
     "metadata": {},
     "output_type": "execute_result"
    }
   ],
   "source": [
    "pd.merge(df1, df2, how='left', \n",
    "         right_index=True, left_index=True)"
   ]
  },
  {
   "cell_type": "code",
   "execution_count": 104,
   "metadata": {},
   "outputs": [
    {
     "name": "stdout",
     "output_type": "stream",
     "text": [
      "    P   Q\n",
      "a   4  47\n",
      "b  19  48\n",
      "c  44  46 \n",
      "\n",
      "     R\n",
      "e  36\n",
      "f  28\n"
     ]
    },
    {
     "name": "stderr",
     "output_type": "stream",
     "text": [
      "C:\\Users\\DELL-IN\\Anaconda3\\lib\\site-packages\\ipykernel_launcher.py:2: DeprecationWarning: \n",
      ".ix is deprecated. Please use\n",
      ".loc for label based indexing or\n",
      ".iloc for positional indexing\n",
      "\n",
      "See the documentation here:\n",
      "http://pandas.pydata.org/pandas-docs/stable/indexing.html#ix-indexer-is-deprecated\n",
      "  \n",
      "C:\\Users\\DELL-IN\\Anaconda3\\lib\\site-packages\\ipykernel_launcher.py:5: DeprecationWarning: \n",
      ".ix is deprecated. Please use\n",
      ".loc for label based indexing or\n",
      ".iloc for positional indexing\n",
      "\n",
      "See the documentation here:\n",
      "http://pandas.pydata.org/pandas-docs/stable/indexing.html#ix-indexer-is-deprecated\n",
      "  \"\"\"\n"
     ]
    }
   ],
   "source": [
    "# Create a couple more DFs with the same index\n",
    "df3 = df.ix[0:3, ['X', 'Z']]\n",
    "df3.columns = ['P', 'Q']\n",
    "\n",
    "df4 = df.ix[4:6, ['W']]\n",
    "df4.columns = ['R']\n",
    "\n",
    "print(df3, \"\\n\\n\", df4)"
   ]
  },
  {
   "cell_type": "code",
   "execution_count": 113,
   "metadata": {},
   "outputs": [
    {
     "data": {
      "text/html": [
       "<div>\n",
       "<style scoped>\n",
       "    .dataframe tbody tr th:only-of-type {\n",
       "        vertical-align: middle;\n",
       "    }\n",
       "\n",
       "    .dataframe tbody tr th {\n",
       "        vertical-align: top;\n",
       "    }\n",
       "\n",
       "    .dataframe thead th {\n",
       "        text-align: right;\n",
       "    }\n",
       "</style>\n",
       "<table border=\"1\" class=\"dataframe\">\n",
       "  <thead>\n",
       "    <tr style=\"text-align: right;\">\n",
       "      <th></th>\n",
       "      <th>W</th>\n",
       "      <th>X</th>\n",
       "      <th>Y</th>\n",
       "      <th>Z</th>\n",
       "      <th>P</th>\n",
       "      <th>Q</th>\n",
       "      <th>R</th>\n",
       "    </tr>\n",
       "  </thead>\n",
       "  <tbody>\n",
       "    <tr>\n",
       "      <th>c</th>\n",
       "      <td>8</td>\n",
       "      <td>39</td>\n",
       "      <td>17</td>\n",
       "      <td>17</td>\n",
       "      <td>44</td>\n",
       "      <td>46</td>\n",
       "      <td></td>\n",
       "    </tr>\n",
       "    <tr>\n",
       "      <th>d</th>\n",
       "      <td>43</td>\n",
       "      <td>17</td>\n",
       "      <td>30</td>\n",
       "      <td>31</td>\n",
       "      <td></td>\n",
       "      <td></td>\n",
       "      <td></td>\n",
       "    </tr>\n",
       "    <tr>\n",
       "      <th>e</th>\n",
       "      <td>35</td>\n",
       "      <td>13</td>\n",
       "      <td>24</td>\n",
       "      <td>9</td>\n",
       "      <td></td>\n",
       "      <td></td>\n",
       "      <td>36</td>\n",
       "    </tr>\n",
       "    <tr>\n",
       "      <th>f</th>\n",
       "      <td>43</td>\n",
       "      <td>18</td>\n",
       "      <td></td>\n",
       "      <td></td>\n",
       "      <td></td>\n",
       "      <td></td>\n",
       "      <td>28</td>\n",
       "    </tr>\n",
       "    <tr>\n",
       "      <th>g</th>\n",
       "      <td>7</td>\n",
       "      <td>23</td>\n",
       "      <td></td>\n",
       "      <td></td>\n",
       "      <td></td>\n",
       "      <td></td>\n",
       "      <td></td>\n",
       "    </tr>\n",
       "    <tr>\n",
       "      <th>h</th>\n",
       "      <td>46</td>\n",
       "      <td>48</td>\n",
       "      <td></td>\n",
       "      <td></td>\n",
       "      <td></td>\n",
       "      <td></td>\n",
       "      <td></td>\n",
       "    </tr>\n",
       "  </tbody>\n",
       "</table>\n",
       "</div>"
      ],
      "text/plain": [
       "    W   X   Y   Z   P   Q   R\n",
       "c   8  39  17  17  44  46    \n",
       "d  43  17  30  31            \n",
       "e  35  13  24   9          36\n",
       "f  43  18                  28\n",
       "g   7  23                    \n",
       "h  46  48                    "
      ]
     },
     "execution_count": 113,
     "metadata": {},
     "output_type": "execute_result"
    }
   ],
   "source": [
    "# Merging multiple DFs with the same index by passing a list of names to .join\n",
    "df1.join([df2, df3, df4]).fillna('')"
   ]
  },
  {
   "cell_type": "code",
   "execution_count": 114,
   "metadata": {},
   "outputs": [
    {
     "name": "stderr",
     "output_type": "stream",
     "text": [
      "C:\\Users\\DELL-IN\\Anaconda3\\lib\\site-packages\\pandas\\core\\frame.py:6359: FutureWarning: Sorting because non-concatenation axis is not aligned. A future version\n",
      "of pandas will change to not sort by default.\n",
      "\n",
      "To accept the future behavior, pass 'sort=True'.\n",
      "\n",
      "To retain the current behavior and silence the warning, pass sort=False\n",
      "\n",
      "  verify_integrity=True)\n"
     ]
    },
    {
     "data": {
      "text/html": [
       "<div>\n",
       "<style scoped>\n",
       "    .dataframe tbody tr th:only-of-type {\n",
       "        vertical-align: middle;\n",
       "    }\n",
       "\n",
       "    .dataframe tbody tr th {\n",
       "        vertical-align: top;\n",
       "    }\n",
       "\n",
       "    .dataframe thead th {\n",
       "        text-align: right;\n",
       "    }\n",
       "</style>\n",
       "<table border=\"1\" class=\"dataframe\">\n",
       "  <thead>\n",
       "    <tr style=\"text-align: right;\">\n",
       "      <th></th>\n",
       "      <th>Y</th>\n",
       "      <th>Z</th>\n",
       "      <th>W</th>\n",
       "      <th>X</th>\n",
       "      <th>P</th>\n",
       "      <th>Q</th>\n",
       "      <th>R</th>\n",
       "    </tr>\n",
       "  </thead>\n",
       "  <tbody>\n",
       "    <tr>\n",
       "      <th>a</th>\n",
       "      <td>44</td>\n",
       "      <td>8</td>\n",
       "      <td></td>\n",
       "      <td></td>\n",
       "      <td>4</td>\n",
       "      <td>47</td>\n",
       "      <td></td>\n",
       "    </tr>\n",
       "    <tr>\n",
       "      <th>b</th>\n",
       "      <td>33</td>\n",
       "      <td>16</td>\n",
       "      <td></td>\n",
       "      <td></td>\n",
       "      <td>19</td>\n",
       "      <td>48</td>\n",
       "      <td></td>\n",
       "    </tr>\n",
       "    <tr>\n",
       "      <th>c</th>\n",
       "      <td>17</td>\n",
       "      <td>17</td>\n",
       "      <td>8</td>\n",
       "      <td>39</td>\n",
       "      <td>44</td>\n",
       "      <td>46</td>\n",
       "      <td></td>\n",
       "    </tr>\n",
       "    <tr>\n",
       "      <th>d</th>\n",
       "      <td>30</td>\n",
       "      <td>31</td>\n",
       "      <td>43</td>\n",
       "      <td>17</td>\n",
       "      <td></td>\n",
       "      <td></td>\n",
       "      <td></td>\n",
       "    </tr>\n",
       "    <tr>\n",
       "      <th>e</th>\n",
       "      <td>24</td>\n",
       "      <td>9</td>\n",
       "      <td>35</td>\n",
       "      <td>13</td>\n",
       "      <td></td>\n",
       "      <td></td>\n",
       "      <td>36</td>\n",
       "    </tr>\n",
       "    <tr>\n",
       "      <th>f</th>\n",
       "      <td></td>\n",
       "      <td></td>\n",
       "      <td>43</td>\n",
       "      <td>18</td>\n",
       "      <td></td>\n",
       "      <td></td>\n",
       "      <td>28</td>\n",
       "    </tr>\n",
       "    <tr>\n",
       "      <th>g</th>\n",
       "      <td></td>\n",
       "      <td></td>\n",
       "      <td>7</td>\n",
       "      <td>23</td>\n",
       "      <td></td>\n",
       "      <td></td>\n",
       "      <td></td>\n",
       "    </tr>\n",
       "    <tr>\n",
       "      <th>h</th>\n",
       "      <td></td>\n",
       "      <td></td>\n",
       "      <td>46</td>\n",
       "      <td>48</td>\n",
       "      <td></td>\n",
       "      <td></td>\n",
       "      <td></td>\n",
       "    </tr>\n",
       "  </tbody>\n",
       "</table>\n",
       "</div>"
      ],
      "text/plain": [
       "    Y   Z   W   X   P   Q   R\n",
       "a  44   8           4  47    \n",
       "b  33  16          19  48    \n",
       "c  17  17   8  39  44  46    \n",
       "d  30  31  43  17            \n",
       "e  24   9  35  13          36\n",
       "f          43  18          28\n",
       "g           7  23            \n",
       "h          46  48            "
      ]
     },
     "execution_count": 114,
     "metadata": {},
     "output_type": "execute_result"
    }
   ],
   "source": [
    "df2.join([df1, df3, df4], how='outer').fillna('')"
   ]
  },
  {
   "cell_type": "markdown",
   "metadata": {},
   "source": [
    "Concatenating DataFrames\n",
    "- (aka binding, stacking, union all)\n",
    "a. Series objects with small index overlap\n",
    "* concat with axis=0 (default) will append the Series (~rbind)\n",
    "* concat with axis=1 will merge the Series to produce a DF (~outer join)"
   ]
  },
  {
   "cell_type": "code",
   "execution_count": 115,
   "metadata": {},
   "outputs": [
    {
     "name": "stdout",
     "output_type": "stream",
     "text": [
      "a   -1.87\n",
      "b    2.15\n",
      "c    1.21\n",
      "Name: S1, dtype: float64 \n",
      "\n",
      " S2:\n",
      " c   -0.62\n",
      "d   -1.03\n",
      "e   -0.03\n",
      "f   -1.34\n",
      "g   -1.53\n",
      "Name: S2, dtype: float64 \n",
      "\n",
      " S3:\n",
      " f   -0.46\n",
      "g    0.01\n",
      "h   -0.61\n",
      "i    2.08\n",
      "Name: S3, dtype: float64\n"
     ]
    }
   ],
   "source": [
    "# Create toy Series with non-overlapping indices\n",
    "s1 = pd.Series(np.random.randn(3).round(2), index=list('abc'), name='S1')\n",
    "s2 = pd.Series(np.random.randn(5).round(2), index=list('cdefg'), name='S2')\n",
    "s3 = pd.Series(np.random.randn(4).round(2), index=list('fghi'), name='S3')\n",
    "\n",
    "print(s1, '\\n\\n S2:\\n', s2, '\\n\\n S3:\\n', s3)"
   ]
  },
  {
   "cell_type": "code",
   "execution_count": 116,
   "metadata": {},
   "outputs": [
    {
     "data": {
      "text/plain": [
       "a   -1.87\n",
       "b    2.15\n",
       "c    1.21\n",
       "c   -0.62\n",
       "d   -1.03\n",
       "e   -0.03\n",
       "f   -1.34\n",
       "g   -1.53\n",
       "f   -0.46\n",
       "g    0.01\n",
       "h   -0.61\n",
       "i    2.08\n",
       "dtype: float64"
      ]
     },
     "execution_count": 116,
     "metadata": {},
     "output_type": "execute_result"
    }
   ],
   "source": [
    "# Default action is to append the data\n",
    "pd.concat([s1, s2, s3], axis=0)"
   ]
  },
  {
   "cell_type": "code",
   "execution_count": 117,
   "metadata": {},
   "outputs": [
    {
     "name": "stdout",
     "output_type": "stream",
     "text": [
      "     S1    S2    S3\n",
      "a -1.87   NaN   NaN\n",
      "b  2.15   NaN   NaN\n",
      "c  1.21 -0.62   NaN\n",
      "d   NaN -1.03   NaN\n",
      "e   NaN -0.03   NaN\n",
      "f   NaN -1.34 -0.46\n",
      "g   NaN -1.53  0.01\n",
      "h   NaN   NaN -0.61\n",
      "i   NaN   NaN  2.08\n"
     ]
    },
    {
     "name": "stderr",
     "output_type": "stream",
     "text": [
      "C:\\Users\\DELL-IN\\Anaconda3\\lib\\site-packages\\ipykernel_launcher.py:2: FutureWarning: Sorting because non-concatenation axis is not aligned. A future version\n",
      "of pandas will change to not sort by default.\n",
      "\n",
      "To accept the future behavior, pass 'sort=True'.\n",
      "\n",
      "To retain the current behavior and silence the warning, pass sort=False\n",
      "\n",
      "  \n"
     ]
    }
   ],
   "source": [
    "# concat with axis=1 (non-overlapping index)\n",
    "print(pd.concat([s1, s2, s3], axis=1))"
   ]
  },
  {
   "cell_type": "code",
   "execution_count": 118,
   "metadata": {},
   "outputs": [
    {
     "data": {
      "text/plain": [
       "one  a   -1.87\n",
       "     b    2.15\n",
       "     c    1.21\n",
       "two  c   -0.62\n",
       "     d   -1.03\n",
       "     e   -0.03\n",
       "     f   -1.34\n",
       "     g   -1.53\n",
       "thr  f   -0.46\n",
       "     g    0.01\n",
       "     h   -0.61\n",
       "     i    2.08\n",
       "dtype: float64"
      ]
     },
     "execution_count": 118,
     "metadata": {},
     "output_type": "execute_result"
    }
   ],
   "source": [
    "# Passing keys= creates a hierarchical index when appending (axis=0)\n",
    "\n",
    "pd.concat([s1, s2, s3], axis=0, keys=['one', 'two', 'thr'])"
   ]
  },
  {
   "cell_type": "code",
   "execution_count": 119,
   "metadata": {},
   "outputs": [
    {
     "name": "stdout",
     "output_type": "stream",
     "text": [
      "     S1    S2    S3\n",
      "a -1.87   NaN   NaN\n",
      "b  2.15   NaN   NaN\n",
      "c  1.21 -0.62   NaN\n",
      "d   NaN -1.03   NaN\n",
      "e   NaN -0.03   NaN\n",
      "f   NaN -1.34 -0.46\n",
      "g   NaN -1.53  0.01\n",
      "h   NaN   NaN -0.61\n",
      "i   NaN   NaN  2.08\n"
     ]
    },
    {
     "name": "stderr",
     "output_type": "stream",
     "text": [
      "C:\\Users\\DELL-IN\\Anaconda3\\lib\\site-packages\\ipykernel_launcher.py:3: FutureWarning: Sorting because non-concatenation axis is not aligned. A future version\n",
      "of pandas will change to not sort by default.\n",
      "\n",
      "To accept the future behavior, pass 'sort=True'.\n",
      "\n",
      "To retain the current behavior and silence the warning, pass sort=False\n",
      "\n",
      "  This is separate from the ipykernel package so we can avoid doing imports until\n"
     ]
    }
   ],
   "source": [
    "# Passing keys= gives names to columns when using axis=1\n",
    "\n",
    "print(pd.concat([s1, s2, s3], axis=1, keys=['S1', 'S2', 'S3']))"
   ]
  },
  {
   "cell_type": "markdown",
   "metadata": {},
   "source": [
    "b. Series objects with overlapping index\n",
    "If there is an overlap on indexes, we can specify join= to intersect the data\n",
    "Note that the join= option takes only 'inner' and 'outer'"
   ]
  },
  {
   "cell_type": "code",
   "execution_count": 120,
   "metadata": {},
   "outputs": [
    {
     "name": "stdout",
     "output_type": "stream",
     "text": [
      "a   -1.249173\n",
      "b    1.316051\n",
      "c   -0.855617\n",
      "d   -1.915654\n",
      "e   -0.904940\n",
      "Name: S4, dtype: float64\n"
     ]
    }
   ],
   "source": [
    "s4 =pd.Series(np.random.randn(5), index=list('abcde'), name='S4')\n",
    "print(s4)"
   ]
  },
  {
   "cell_type": "code",
   "execution_count": 121,
   "metadata": {},
   "outputs": [
    {
     "name": "stdout",
     "output_type": "stream",
     "text": [
      "     S1        S4\n",
      "a -1.87 -1.249173\n",
      "b  2.15  1.316051\n",
      "c  1.21 -0.855617\n",
      "d   NaN -1.915654\n",
      "e   NaN -0.904940\n"
     ]
    },
    {
     "name": "stderr",
     "output_type": "stream",
     "text": [
      "C:\\Users\\DELL-IN\\Anaconda3\\lib\\site-packages\\ipykernel_launcher.py:2: FutureWarning: Sorting because non-concatenation axis is not aligned. A future version\n",
      "of pandas will change to not sort by default.\n",
      "\n",
      "To accept the future behavior, pass 'sort=True'.\n",
      "\n",
      "To retain the current behavior and silence the warning, pass sort=False\n",
      "\n",
      "  \n"
     ]
    }
   ],
   "source": [
    "# concat with overlapping index (default join type is outer)\n",
    "print(pd.concat([s1, s4], axis=1))"
   ]
  },
  {
   "cell_type": "code",
   "execution_count": 122,
   "metadata": {},
   "outputs": [
    {
     "name": "stdout",
     "output_type": "stream",
     "text": [
      "     S1        S4\n",
      "a -1.87 -1.249173\n",
      "b  2.15  1.316051\n",
      "c  1.21 -0.855617\n"
     ]
    }
   ],
   "source": [
    "# if we specify a join type, this will be equivalent to a merge\n",
    "print(pd.concat([s1, s4], axis=1, join='inner'))"
   ]
  },
  {
   "cell_type": "markdown",
   "metadata": {},
   "source": [
    "Dealing with String Data\n",
    "These include methods applied to string objects that\n",
    "\n",
    "split a string by given delimiter - .split()\n",
    "trim whitespace - .strip()\n",
    "concatenate strings - .join()\n",
    "detect substrings - .find() and .index()\n",
    "count occurrences - .count()\n",
    "find and replace - .replace()"
   ]
  },
  {
   "cell_type": "code",
   "execution_count": 123,
   "metadata": {},
   "outputs": [
    {
     "data": {
      "text/plain": [
       "'ready, set ,   go '"
      ]
     },
     "execution_count": 123,
     "metadata": {},
     "output_type": "execute_result"
    }
   ],
   "source": [
    "s = 'ready, set ,   go '\n",
    "s"
   ]
  },
  {
   "cell_type": "code",
   "execution_count": 124,
   "metadata": {},
   "outputs": [
    {
     "data": {
      "text/plain": [
       "['ready', ' set ', '   go ']"
      ]
     },
     "execution_count": 124,
     "metadata": {},
     "output_type": "execute_result"
    }
   ],
   "source": [
    "s.split(',')"
   ]
  },
  {
   "cell_type": "code",
   "execution_count": 125,
   "metadata": {},
   "outputs": [
    {
     "data": {
      "text/plain": [
       "['ready,', 'set', ',', '', '', 'go', '']"
      ]
     },
     "execution_count": 125,
     "metadata": {},
     "output_type": "execute_result"
    }
   ],
   "source": [
    "s.split(' ')"
   ]
  },
  {
   "cell_type": "code",
   "execution_count": 126,
   "metadata": {},
   "outputs": [
    {
     "data": {
      "text/plain": [
       "'ready_ set _   go '"
      ]
     },
     "execution_count": 126,
     "metadata": {},
     "output_type": "execute_result"
    }
   ],
   "source": [
    "'_'.join(s.split(','))"
   ]
  },
  {
   "cell_type": "code",
   "execution_count": 127,
   "metadata": {},
   "outputs": [
    {
     "data": {
      "text/plain": [
       "'ready_set_go'"
      ]
     },
     "execution_count": 127,
     "metadata": {},
     "output_type": "execute_result"
    }
   ],
   "source": [
    "# String Splitting\n",
    "'_'.join([x.strip() for x in s.split(',')])"
   ]
  },
  {
   "cell_type": "code",
   "execution_count": 128,
   "metadata": {},
   "outputs": [
    {
     "data": {
      "text/plain": [
       "['ready', 'set', 'go']"
      ]
     },
     "execution_count": 128,
     "metadata": {},
     "output_type": "execute_result"
    }
   ],
   "source": [
    "# Trimming whitespace\n",
    "pieces = [x.strip() for x in s.split(',')]\n",
    "pieces\n",
    "# Also see rstrip, lstrip"
   ]
  },
  {
   "cell_type": "code",
   "execution_count": 129,
   "metadata": {},
   "outputs": [
    {
     "data": {
      "text/plain": [
       "'a_#_b_#_c_#_d_#_e'"
      ]
     },
     "execution_count": 129,
     "metadata": {},
     "output_type": "execute_result"
    }
   ],
   "source": [
    "'_#_'.join(list('abcde'))"
   ]
  },
  {
   "cell_type": "code",
   "execution_count": 130,
   "metadata": {},
   "outputs": [
    {
     "name": "stdout",
     "output_type": "stream",
     "text": [
      "ready::set::go\n",
      "ready--set--go\n",
      "ready set go\n"
     ]
    }
   ],
   "source": [
    "# Concatenating Strings\n",
    "print('::'.join(pieces))\n",
    "print('--'.join(pieces))\n",
    "print(' '.join(pieces))"
   ]
  },
  {
   "cell_type": "code",
   "execution_count": 131,
   "metadata": {},
   "outputs": [
    {
     "name": "stdout",
     "output_type": "stream",
     "text": [
      "False\n",
      "True\n"
     ]
    }
   ],
   "source": [
    "# Does a Substring belong to a string\n",
    "print('steady' in s)\n",
    "print('set' in s)"
   ]
  },
  {
   "cell_type": "code",
   "execution_count": 132,
   "metadata": {},
   "outputs": [
    {
     "data": {
      "text/plain": [
       "15"
      ]
     },
     "execution_count": 132,
     "metadata": {},
     "output_type": "execute_result"
    }
   ],
   "source": [
    "# Locate a substring\n",
    "s.index('go')"
   ]
  },
  {
   "cell_type": "code",
   "execution_count": 133,
   "metadata": {},
   "outputs": [
    {
     "data": {
      "text/plain": [
       "'go'"
      ]
     },
     "execution_count": 133,
     "metadata": {},
     "output_type": "execute_result"
    }
   ],
   "source": [
    "s[15:17]"
   ]
  },
  {
   "cell_type": "code",
   "execution_count": 134,
   "metadata": {},
   "outputs": [
    {
     "data": {
      "text/plain": [
       "21"
      ]
     },
     "execution_count": 134,
     "metadata": {},
     "output_type": "execute_result"
    }
   ],
   "source": [
    "#find vs index\n",
    "sentence = 'the sun rises in the east'\n",
    "sentence.find('east')"
   ]
  },
  {
   "cell_type": "code",
   "execution_count": 135,
   "metadata": {},
   "outputs": [
    {
     "data": {
      "text/plain": [
       "21"
      ]
     },
     "execution_count": 135,
     "metadata": {},
     "output_type": "execute_result"
    }
   ],
   "source": [
    "sentence.index('east')"
   ]
  },
  {
   "cell_type": "code",
   "execution_count": 136,
   "metadata": {},
   "outputs": [
    {
     "name": "stdout",
     "output_type": "stream",
     "text": [
      "-1\n"
     ]
    }
   ],
   "source": [
    "print(sentence.find('west'))\n",
    "#print sentence.index('west') #it will throw an error"
   ]
  },
  {
   "cell_type": "code",
   "execution_count": 137,
   "metadata": {},
   "outputs": [
    {
     "data": {
      "text/plain": [
       "5"
      ]
     },
     "execution_count": 137,
     "metadata": {},
     "output_type": "execute_result"
    }
   ],
   "source": [
    "# Locate a substring\n",
    "s.find(',')"
   ]
  },
  {
   "cell_type": "code",
   "execution_count": 138,
   "metadata": {},
   "outputs": [
    {
     "data": {
      "text/plain": [
       "2"
      ]
     },
     "execution_count": 138,
     "metadata": {},
     "output_type": "execute_result"
    }
   ],
   "source": [
    "# Count occurrences\n",
    "s.count(',')"
   ]
  },
  {
   "cell_type": "code",
   "execution_count": 139,
   "metadata": {},
   "outputs": [
    {
     "data": {
      "text/plain": [
       "True"
      ]
     },
     "execution_count": 139,
     "metadata": {},
     "output_type": "execute_result"
    }
   ],
   "source": [
    "sentence.endswith('east')"
   ]
  },
  {
   "cell_type": "code",
   "execution_count": 140,
   "metadata": {},
   "outputs": [
    {
     "name": "stdout",
     "output_type": "stream",
     "text": [
      "True\n",
      "True\n"
     ]
    }
   ],
   "source": [
    "s2 = 'the quick brown fox jumps over the lazy dog'\n",
    "s2.find('fox')\n",
    "\n",
    "print('lazy' in s2)\n",
    "\n",
    "print(s2.endswith('dog'))"
   ]
  },
  {
   "cell_type": "code",
   "execution_count": 141,
   "metadata": {},
   "outputs": [
    {
     "data": {
      "text/plain": [
       "True"
      ]
     },
     "execution_count": 141,
     "metadata": {},
     "output_type": "execute_result"
    }
   ],
   "source": [
    "s.startswith('ready')\n",
    "# similarly .endswith()"
   ]
  },
  {
   "cell_type": "markdown",
   "metadata": {},
   "source": [
    "HANDLING TIME SERIES DATA"
   ]
  },
  {
   "cell_type": "code",
   "execution_count": 142,
   "metadata": {},
   "outputs": [
    {
     "data": {
      "text/plain": [
       "datetime.datetime(2018, 8, 20, 22, 3, 45, 516042)"
      ]
     },
     "execution_count": 142,
     "metadata": {},
     "output_type": "execute_result"
    }
   ],
   "source": [
    "pd.datetime.now()"
   ]
  },
  {
   "cell_type": "code",
   "execution_count": 143,
   "metadata": {},
   "outputs": [
    {
     "data": {
      "text/plain": [
       "datetime.datetime(2016, 1, 1, 0, 0)"
      ]
     },
     "execution_count": 143,
     "metadata": {},
     "output_type": "execute_result"
    }
   ],
   "source": [
    "# Create a date value\n",
    "# Syntax: pd.datetime(year, month, day, hour, mins)\n",
    "dt_1 = pd.datetime(2016, 1, 1)\n",
    "dt_1"
   ]
  },
  {
   "cell_type": "code",
   "execution_count": 144,
   "metadata": {},
   "outputs": [
    {
     "data": {
      "text/plain": [
       "DatetimeIndex(['2016-01-03', '2016-01-10', '2016-01-17', '2016-01-24',\n",
       "               '2016-01-31', '2016-02-07', '2016-02-14', '2016-02-21',\n",
       "               '2016-02-28', '2016-03-06', '2016-03-13', '2016-03-20',\n",
       "               '2016-03-27', '2016-04-03', '2016-04-10', '2016-04-17',\n",
       "               '2016-04-24', '2016-05-01', '2016-05-08', '2016-05-15',\n",
       "               '2016-05-22', '2016-05-29', '2016-06-05', '2016-06-12',\n",
       "               '2016-06-19', '2016-06-26'],\n",
       "              dtype='datetime64[ns]', freq='W-SUN')"
      ]
     },
     "execution_count": 144,
     "metadata": {},
     "output_type": "execute_result"
    }
   ],
   "source": [
    "# Create a date range\n",
    "# Syntax: pd.date_range(start, stop, freq=)\n",
    "pd.date_range(pd.datetime(2016, 1, 1), pd.datetime(2016, 7, 1), freq=\"W\")"
   ]
  },
  {
   "cell_type": "code",
   "execution_count": 145,
   "metadata": {},
   "outputs": [
    {
     "data": {
      "text/plain": [
       "DatetimeIndex(['1950-01-31', '1950-02-28', '1950-03-31', '1950-04-30',\n",
       "               '1950-05-31', '1950-06-30', '1950-07-31', '1950-08-31',\n",
       "               '1950-09-30', '1950-10-31',\n",
       "               ...\n",
       "               '2012-05-31', '2012-06-30', '2012-07-31', '2012-08-31',\n",
       "               '2012-09-30', '2012-10-31', '2012-11-30', '2012-12-31',\n",
       "               '2013-01-31', '2013-02-28'],\n",
       "              dtype='datetime64[ns]', length=758, freq='M')"
      ]
     },
     "execution_count": 145,
     "metadata": {},
     "output_type": "execute_result"
    }
   ],
   "source": [
    "dates = pd.date_range('1950-01', '2013-03', freq='M'); dates"
   ]
  },
  {
   "cell_type": "code",
   "execution_count": 146,
   "metadata": {},
   "outputs": [],
   "source": [
    "ts = pd.DataFrame(np.random.randn(758, 4), columns=list('ABCD'), index=dates)\n"
   ]
  },
  {
   "cell_type": "code",
   "execution_count": 147,
   "metadata": {},
   "outputs": [
    {
     "data": {
      "text/html": [
       "<div>\n",
       "<style scoped>\n",
       "    .dataframe tbody tr th:only-of-type {\n",
       "        vertical-align: middle;\n",
       "    }\n",
       "\n",
       "    .dataframe tbody tr th {\n",
       "        vertical-align: top;\n",
       "    }\n",
       "\n",
       "    .dataframe thead th {\n",
       "        text-align: right;\n",
       "    }\n",
       "</style>\n",
       "<table border=\"1\" class=\"dataframe\">\n",
       "  <thead>\n",
       "    <tr style=\"text-align: right;\">\n",
       "      <th></th>\n",
       "      <th>A</th>\n",
       "      <th>B</th>\n",
       "      <th>C</th>\n",
       "      <th>D</th>\n",
       "    </tr>\n",
       "  </thead>\n",
       "  <tbody>\n",
       "    <tr>\n",
       "      <th>1951-06-30</th>\n",
       "      <td>0.543959</td>\n",
       "      <td>0.952601</td>\n",
       "      <td>0.120707</td>\n",
       "      <td>-0.710145</td>\n",
       "    </tr>\n",
       "    <tr>\n",
       "      <th>1951-07-31</th>\n",
       "      <td>-0.919395</td>\n",
       "      <td>0.021583</td>\n",
       "      <td>-1.573269</td>\n",
       "      <td>0.429841</td>\n",
       "    </tr>\n",
       "    <tr>\n",
       "      <th>1951-08-31</th>\n",
       "      <td>-0.779821</td>\n",
       "      <td>0.646315</td>\n",
       "      <td>1.755691</td>\n",
       "      <td>1.065718</td>\n",
       "    </tr>\n",
       "    <tr>\n",
       "      <th>1951-09-30</th>\n",
       "      <td>-0.048017</td>\n",
       "      <td>2.004453</td>\n",
       "      <td>2.558571</td>\n",
       "      <td>-0.795237</td>\n",
       "    </tr>\n",
       "    <tr>\n",
       "      <th>1951-10-31</th>\n",
       "      <td>0.268015</td>\n",
       "      <td>-0.576091</td>\n",
       "      <td>0.264578</td>\n",
       "      <td>1.020940</td>\n",
       "    </tr>\n",
       "    <tr>\n",
       "      <th>1951-11-30</th>\n",
       "      <td>-0.524932</td>\n",
       "      <td>0.474297</td>\n",
       "      <td>-0.598143</td>\n",
       "      <td>0.152009</td>\n",
       "    </tr>\n",
       "    <tr>\n",
       "      <th>1951-12-31</th>\n",
       "      <td>-0.780638</td>\n",
       "      <td>-0.366294</td>\n",
       "      <td>0.480013</td>\n",
       "      <td>-0.584915</td>\n",
       "    </tr>\n",
       "  </tbody>\n",
       "</table>\n",
       "</div>"
      ],
      "text/plain": [
       "                   A         B         C         D\n",
       "1951-06-30  0.543959  0.952601  0.120707 -0.710145\n",
       "1951-07-31 -0.919395  0.021583 -1.573269  0.429841\n",
       "1951-08-31 -0.779821  0.646315  1.755691  1.065718\n",
       "1951-09-30 -0.048017  2.004453  2.558571 -0.795237\n",
       "1951-10-31  0.268015 -0.576091  0.264578  1.020940\n",
       "1951-11-30 -0.524932  0.474297 -0.598143  0.152009\n",
       "1951-12-31 -0.780638 -0.366294  0.480013 -0.584915"
      ]
     },
     "execution_count": 147,
     "metadata": {},
     "output_type": "execute_result"
    }
   ],
   "source": [
    "#sub setting time series\n",
    "# Between June 1951 to Jan 1952\n",
    "ts[pd.datetime(1951, 6, 1):pd.datetime(1952, 1, 1)]"
   ]
  },
  {
   "cell_type": "code",
   "execution_count": 148,
   "metadata": {},
   "outputs": [],
   "source": [
    "ts['year'] = ts.index.year"
   ]
  },
  {
   "cell_type": "code",
   "execution_count": 149,
   "metadata": {},
   "outputs": [],
   "source": [
    "ts['month']=ts.index.month"
   ]
  },
  {
   "cell_type": "code",
   "execution_count": 150,
   "metadata": {},
   "outputs": [
    {
     "data": {
      "text/html": [
       "<div>\n",
       "<style scoped>\n",
       "    .dataframe tbody tr th:only-of-type {\n",
       "        vertical-align: middle;\n",
       "    }\n",
       "\n",
       "    .dataframe tbody tr th {\n",
       "        vertical-align: top;\n",
       "    }\n",
       "\n",
       "    .dataframe thead th {\n",
       "        text-align: right;\n",
       "    }\n",
       "</style>\n",
       "<table border=\"1\" class=\"dataframe\">\n",
       "  <thead>\n",
       "    <tr style=\"text-align: right;\">\n",
       "      <th></th>\n",
       "      <th>A</th>\n",
       "      <th>B</th>\n",
       "      <th>C</th>\n",
       "      <th>D</th>\n",
       "      <th>year</th>\n",
       "      <th>month</th>\n",
       "    </tr>\n",
       "  </thead>\n",
       "  <tbody>\n",
       "    <tr>\n",
       "      <th>1950-01-31</th>\n",
       "      <td>-0.263975</td>\n",
       "      <td>0.450093</td>\n",
       "      <td>-0.595585</td>\n",
       "      <td>0.131153</td>\n",
       "      <td>1950</td>\n",
       "      <td>1</td>\n",
       "    </tr>\n",
       "    <tr>\n",
       "      <th>1950-02-28</th>\n",
       "      <td>0.447867</td>\n",
       "      <td>-1.300073</td>\n",
       "      <td>0.762673</td>\n",
       "      <td>-1.757761</td>\n",
       "      <td>1950</td>\n",
       "      <td>2</td>\n",
       "    </tr>\n",
       "    <tr>\n",
       "      <th>1950-03-31</th>\n",
       "      <td>0.705027</td>\n",
       "      <td>-0.287433</td>\n",
       "      <td>-0.225847</td>\n",
       "      <td>-1.357645</td>\n",
       "      <td>1950</td>\n",
       "      <td>3</td>\n",
       "    </tr>\n",
       "    <tr>\n",
       "      <th>1950-04-30</th>\n",
       "      <td>-0.033397</td>\n",
       "      <td>0.041341</td>\n",
       "      <td>2.016146</td>\n",
       "      <td>2.975010</td>\n",
       "      <td>1950</td>\n",
       "      <td>4</td>\n",
       "    </tr>\n",
       "    <tr>\n",
       "      <th>1950-05-31</th>\n",
       "      <td>0.495239</td>\n",
       "      <td>-0.494140</td>\n",
       "      <td>-2.144302</td>\n",
       "      <td>-0.024770</td>\n",
       "      <td>1950</td>\n",
       "      <td>5</td>\n",
       "    </tr>\n",
       "  </tbody>\n",
       "</table>\n",
       "</div>"
      ],
      "text/plain": [
       "                   A         B         C         D  year  month\n",
       "1950-01-31 -0.263975  0.450093 -0.595585  0.131153  1950      1\n",
       "1950-02-28  0.447867 -1.300073  0.762673 -1.757761  1950      2\n",
       "1950-03-31  0.705027 -0.287433 -0.225847 -1.357645  1950      3\n",
       "1950-04-30 -0.033397  0.041341  2.016146  2.975010  1950      4\n",
       "1950-05-31  0.495239 -0.494140 -2.144302 -0.024770  1950      5"
      ]
     },
     "execution_count": 150,
     "metadata": {},
     "output_type": "execute_result"
    }
   ],
   "source": [
    "ts.head()"
   ]
  },
  {
   "cell_type": "code",
   "execution_count": 151,
   "metadata": {},
   "outputs": [
    {
     "name": "stdout",
     "output_type": "stream",
     "text": [
      "             A         B         C         D  month\n",
      "year                                               \n",
      "2009  7.368846 -4.012686  3.182630 -0.913822     78\n",
      "2010 -3.062626  1.324536 -3.719736 -5.026190     78\n",
      "2011 -0.177371 -3.447063  1.259829  2.353540     78\n",
      "2012 -4.068861  0.485458 -4.301674  0.244390     78\n",
      "2013  0.648039  0.869054 -2.277817 -0.418208      3\n"
     ]
    }
   ],
   "source": [
    "# Aggregating data by year\n",
    "print(ts.groupby('year').sum().tail(5))"
   ]
  },
  {
   "cell_type": "code",
   "execution_count": null,
   "metadata": {},
   "outputs": [],
   "source": []
  }
 ],
 "metadata": {
  "kernelspec": {
   "display_name": "Python 3",
   "language": "python",
   "name": "python3"
  },
  "language_info": {
   "codemirror_mode": {
    "name": "ipython",
    "version": 3
   },
   "file_extension": ".py",
   "mimetype": "text/x-python",
   "name": "python",
   "nbconvert_exporter": "python",
   "pygments_lexer": "ipython3",
   "version": "3.6.5"
  }
 },
 "nbformat": 4,
 "nbformat_minor": 2
}
